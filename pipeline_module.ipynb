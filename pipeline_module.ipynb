{
  "nbformat": 4,
  "nbformat_minor": 0,
  "metadata": {
    "colab": {
      "provenance": [],
      "mount_file_id": "1rRubwVcyLf6okFaza8awiS5lPc15Jnza",
      "authorship_tag": "ABX9TyPA007PQ2hUU7qUjhWBR8ZK",
      "include_colab_link": true
    },
    "kernelspec": {
      "name": "python3",
      "display_name": "Python 3"
    },
    "language_info": {
      "name": "python"
    }
  },
  "cells": [
    {
      "cell_type": "markdown",
      "metadata": {
        "id": "view-in-github",
        "colab_type": "text"
      },
      "source": [
        "<a href=\"https://colab.research.google.com/github/Rusildur/Pipeline_module/blob/main/pipeline_module.ipynb\" target=\"_parent\"><img src=\"https://colab.research.google.com/assets/colab-badge.svg\" alt=\"Open In Colab\"/></a>"
      ]
    },
    {
      "cell_type": "markdown",
      "source": [
        "# Расчетный модуль для трубопроводов"
      ],
      "metadata": {
        "id": "jdEsaPH5SUgr"
      }
    },
    {
      "cell_type": "markdown",
      "source": [
        "## Исходные данные для всех расчетов и допущения"
      ],
      "metadata": {
        "id": "LjNjkLyS3quF"
      }
    },
    {
      "cell_type": "code",
      "execution_count": 9,
      "metadata": {
        "id": "oZxi9aIqQgYk"
      },
      "outputs": [],
      "source": [
        "from math import *\n",
        "import numpy as np\n",
        "import pandas as pd \n",
        "from openpyxl import * "
      ]
    },
    {
      "cell_type": "markdown",
      "source": [
        "Авторизуемся для соединения Colab c Drive для чтения sheets\n",
        "\n",
        "Таблицы с сведениями по веществам\n",
        "\n",
        "https://docs.google.com/spreadsheets/d/1eOAJ_aZ6n5LLz7yxdIRQMLoxkY5uZdpgfizijixzC0M/edit?usp=sharing\n"
      ],
      "metadata": {
        "id": "X83S6KMu1k9M"
      }
    },
    {
      "cell_type": "code",
      "source": [
        "from google.colab import auth\n",
        "import gspread\n",
        "from google.auth import default\n",
        "#autenticating to google\n",
        "auth.authenticate_user()\n",
        "creds, _ = default()\n",
        "gc = gspread.authorize(creds)"
      ],
      "metadata": {
        "id": "1wAHo_bAvmxF"
      },
      "execution_count": 10,
      "outputs": []
    },
    {
      "cell_type": "code",
      "source": [
        "wb = gc.open('pipeline_bd')"
      ],
      "metadata": {
        "id": "lzovMP_YxTK4"
      },
      "execution_count": 11,
      "outputs": []
    },
    {
      "cell_type": "code",
      "source": [
        "rows_agent = wb.sheet1.get_all_values()"
      ],
      "metadata": {
        "id": "I9jJwOwox5E4"
      },
      "execution_count": 12,
      "outputs": []
    },
    {
      "cell_type": "code",
      "source": [
        "df_agents = pd.DataFrame(rows_agent[1:], columns=rows_agent[0])"
      ],
      "metadata": {
        "id": "0_gV44hFyOg9"
      },
      "execution_count": 13,
      "outputs": []
    },
    {
      "cell_type": "code",
      "source": [
        "df_agents.head()"
      ],
      "metadata": {
        "id": "Gx9GQtDQ0GKV",
        "colab": {
          "base_uri": "https://localhost:8080/",
          "height": 206
        },
        "outputId": "6445e84a-3c24-4b7a-ee56-75fb0d55240b"
      },
      "execution_count": 14,
      "outputs": [
        {
          "output_type": "execute_result",
          "data": {
            "text/plain": [
              "   параметры    нефть   бензин       дт  метан  шфлу      бгс    пнг  \\\n",
              "0  Плотность      900      750      850  0,717   680      690  0,997   \n",
              "1        Тип      ЛВЖ      ЛВЖ       ГЖ     ГФ   СУГ      ЛВЖ     ГФ   \n",
              "2       Твсп      -25      -39       35   -200   -30      -39   -200   \n",
              "3     Иисп_с    3,396     0,19   0,0175         3,17     0,19          \n",
              "4     Иисп_в  0,00009  0,00009  0,00009               0,00009          \n",
              "\n",
              "  конденсат пропан  \n",
              "0       680    528  \n",
              "1       ЛВЖ    СУГ  \n",
              "2      -100    -30  \n",
              "3      0,19   3,17  \n",
              "4   0,00009         "
            ],
            "text/html": [
              "\n",
              "  <div id=\"df-a7cb8c01-9cbd-4505-bbe9-c1b5cfb2b008\">\n",
              "    <div class=\"colab-df-container\">\n",
              "      <div>\n",
              "<style scoped>\n",
              "    .dataframe tbody tr th:only-of-type {\n",
              "        vertical-align: middle;\n",
              "    }\n",
              "\n",
              "    .dataframe tbody tr th {\n",
              "        vertical-align: top;\n",
              "    }\n",
              "\n",
              "    .dataframe thead th {\n",
              "        text-align: right;\n",
              "    }\n",
              "</style>\n",
              "<table border=\"1\" class=\"dataframe\">\n",
              "  <thead>\n",
              "    <tr style=\"text-align: right;\">\n",
              "      <th></th>\n",
              "      <th>параметры</th>\n",
              "      <th>нефть</th>\n",
              "      <th>бензин</th>\n",
              "      <th>дт</th>\n",
              "      <th>метан</th>\n",
              "      <th>шфлу</th>\n",
              "      <th>бгс</th>\n",
              "      <th>пнг</th>\n",
              "      <th>конденсат</th>\n",
              "      <th>пропан</th>\n",
              "    </tr>\n",
              "  </thead>\n",
              "  <tbody>\n",
              "    <tr>\n",
              "      <th>0</th>\n",
              "      <td>Плотность</td>\n",
              "      <td>900</td>\n",
              "      <td>750</td>\n",
              "      <td>850</td>\n",
              "      <td>0,717</td>\n",
              "      <td>680</td>\n",
              "      <td>690</td>\n",
              "      <td>0,997</td>\n",
              "      <td>680</td>\n",
              "      <td>528</td>\n",
              "    </tr>\n",
              "    <tr>\n",
              "      <th>1</th>\n",
              "      <td>Тип</td>\n",
              "      <td>ЛВЖ</td>\n",
              "      <td>ЛВЖ</td>\n",
              "      <td>ГЖ</td>\n",
              "      <td>ГФ</td>\n",
              "      <td>СУГ</td>\n",
              "      <td>ЛВЖ</td>\n",
              "      <td>ГФ</td>\n",
              "      <td>ЛВЖ</td>\n",
              "      <td>СУГ</td>\n",
              "    </tr>\n",
              "    <tr>\n",
              "      <th>2</th>\n",
              "      <td>Твсп</td>\n",
              "      <td>-25</td>\n",
              "      <td>-39</td>\n",
              "      <td>35</td>\n",
              "      <td>-200</td>\n",
              "      <td>-30</td>\n",
              "      <td>-39</td>\n",
              "      <td>-200</td>\n",
              "      <td>-100</td>\n",
              "      <td>-30</td>\n",
              "    </tr>\n",
              "    <tr>\n",
              "      <th>3</th>\n",
              "      <td>Иисп_с</td>\n",
              "      <td>3,396</td>\n",
              "      <td>0,19</td>\n",
              "      <td>0,0175</td>\n",
              "      <td></td>\n",
              "      <td>3,17</td>\n",
              "      <td>0,19</td>\n",
              "      <td></td>\n",
              "      <td>0,19</td>\n",
              "      <td>3,17</td>\n",
              "    </tr>\n",
              "    <tr>\n",
              "      <th>4</th>\n",
              "      <td>Иисп_в</td>\n",
              "      <td>0,00009</td>\n",
              "      <td>0,00009</td>\n",
              "      <td>0,00009</td>\n",
              "      <td></td>\n",
              "      <td></td>\n",
              "      <td>0,00009</td>\n",
              "      <td></td>\n",
              "      <td>0,00009</td>\n",
              "      <td></td>\n",
              "    </tr>\n",
              "  </tbody>\n",
              "</table>\n",
              "</div>\n",
              "      <button class=\"colab-df-convert\" onclick=\"convertToInteractive('df-a7cb8c01-9cbd-4505-bbe9-c1b5cfb2b008')\"\n",
              "              title=\"Convert this dataframe to an interactive table.\"\n",
              "              style=\"display:none;\">\n",
              "        \n",
              "  <svg xmlns=\"http://www.w3.org/2000/svg\" height=\"24px\"viewBox=\"0 0 24 24\"\n",
              "       width=\"24px\">\n",
              "    <path d=\"M0 0h24v24H0V0z\" fill=\"none\"/>\n",
              "    <path d=\"M18.56 5.44l.94 2.06.94-2.06 2.06-.94-2.06-.94-.94-2.06-.94 2.06-2.06.94zm-11 1L8.5 8.5l.94-2.06 2.06-.94-2.06-.94L8.5 2.5l-.94 2.06-2.06.94zm10 10l.94 2.06.94-2.06 2.06-.94-2.06-.94-.94-2.06-.94 2.06-2.06.94z\"/><path d=\"M17.41 7.96l-1.37-1.37c-.4-.4-.92-.59-1.43-.59-.52 0-1.04.2-1.43.59L10.3 9.45l-7.72 7.72c-.78.78-.78 2.05 0 2.83L4 21.41c.39.39.9.59 1.41.59.51 0 1.02-.2 1.41-.59l7.78-7.78 2.81-2.81c.8-.78.8-2.07 0-2.86zM5.41 20L4 18.59l7.72-7.72 1.47 1.35L5.41 20z\"/>\n",
              "  </svg>\n",
              "      </button>\n",
              "      \n",
              "  <style>\n",
              "    .colab-df-container {\n",
              "      display:flex;\n",
              "      flex-wrap:wrap;\n",
              "      gap: 12px;\n",
              "    }\n",
              "\n",
              "    .colab-df-convert {\n",
              "      background-color: #E8F0FE;\n",
              "      border: none;\n",
              "      border-radius: 50%;\n",
              "      cursor: pointer;\n",
              "      display: none;\n",
              "      fill: #1967D2;\n",
              "      height: 32px;\n",
              "      padding: 0 0 0 0;\n",
              "      width: 32px;\n",
              "    }\n",
              "\n",
              "    .colab-df-convert:hover {\n",
              "      background-color: #E2EBFA;\n",
              "      box-shadow: 0px 1px 2px rgba(60, 64, 67, 0.3), 0px 1px 3px 1px rgba(60, 64, 67, 0.15);\n",
              "      fill: #174EA6;\n",
              "    }\n",
              "\n",
              "    [theme=dark] .colab-df-convert {\n",
              "      background-color: #3B4455;\n",
              "      fill: #D2E3FC;\n",
              "    }\n",
              "\n",
              "    [theme=dark] .colab-df-convert:hover {\n",
              "      background-color: #434B5C;\n",
              "      box-shadow: 0px 1px 3px 1px rgba(0, 0, 0, 0.15);\n",
              "      filter: drop-shadow(0px 1px 2px rgba(0, 0, 0, 0.3));\n",
              "      fill: #FFFFFF;\n",
              "    }\n",
              "  </style>\n",
              "\n",
              "      <script>\n",
              "        const buttonEl =\n",
              "          document.querySelector('#df-a7cb8c01-9cbd-4505-bbe9-c1b5cfb2b008 button.colab-df-convert');\n",
              "        buttonEl.style.display =\n",
              "          google.colab.kernel.accessAllowed ? 'block' : 'none';\n",
              "\n",
              "        async function convertToInteractive(key) {\n",
              "          const element = document.querySelector('#df-a7cb8c01-9cbd-4505-bbe9-c1b5cfb2b008');\n",
              "          const dataTable =\n",
              "            await google.colab.kernel.invokeFunction('convertToInteractive',\n",
              "                                                     [key], {});\n",
              "          if (!dataTable) return;\n",
              "\n",
              "          const docLinkHtml = 'Like what you see? Visit the ' +\n",
              "            '<a target=\"_blank\" href=https://colab.research.google.com/notebooks/data_table.ipynb>data table notebook</a>'\n",
              "            + ' to learn more about interactive tables.';\n",
              "          element.innerHTML = '';\n",
              "          dataTable['output_type'] = 'display_data';\n",
              "          await google.colab.output.renderOutput(dataTable, element);\n",
              "          const docLink = document.createElement('div');\n",
              "          docLink.innerHTML = docLinkHtml;\n",
              "          element.appendChild(docLink);\n",
              "        }\n",
              "      </script>\n",
              "    </div>\n",
              "  </div>\n",
              "  "
            ]
          },
          "metadata": {},
          "execution_count": 14
        }
      ]
    },
    {
      "cell_type": "code",
      "source": [
        "P_0 = 101000  #атмосферное давление ПА\n",
        "ro = 890  # плотность нефти кг/м3   ## тестово данные подаются вручную, дальше будет разработана функция выбора вещества из БД\n",
        "ro = ro/1000"
      ],
      "metadata": {
        "id": "ryVmbU9qlpDt"
      },
      "execution_count": 15,
      "outputs": []
    },
    {
      "cell_type": "markdown",
      "source": [
        "###Частота иницирующих событий"
      ],
      "metadata": {
        "id": "l4XwTrP2-ry4"
      }
    },
    {
      "cell_type": "markdown",
      "source": [
        "Выбор значений частот возникновения событий, инициирующих аварии произведен на основе обобщенных статистических данных и мнения экспертов. Учитывая, что в настоящее время отсутствует нормализованный механизм по сбору статистики отказов оборудования, при использовании статистических данных из литературных источников следует оценивать степень их достоверности и понимать, что такие данные, как правило, дают лишь порядок величины. \n",
        "\n",
        "В данной работе при оценке риска используются сведения, рекомендованные приказом Ростехнадзора № 387 от 03.11.2022 \n",
        "https://drive.google.com/file/d/1VJbsNr1Mxuxcyt2jCvMhBAPyHM8Lqheh/view?usp=share_link"
      ],
      "metadata": {
        "id": "C6nASjYrKdiO"
      }
    },
    {
      "cell_type": "code",
      "source": [
        "wb_freq = gc.open(\"pipeline_bd\").get_worksheet(2)"
      ],
      "metadata": {
        "id": "U6xlpytAAJNy"
      },
      "execution_count": 16,
      "outputs": []
    },
    {
      "cell_type": "code",
      "source": [
        "rows_freq = wb_freq.get_all_values()"
      ],
      "metadata": {
        "id": "um99SYVjjV9K"
      },
      "execution_count": 17,
      "outputs": []
    },
    {
      "cell_type": "code",
      "source": [
        "df_freq = pd.DataFrame(rows_freq[1:], columns=rows_freq[0])"
      ],
      "metadata": {
        "id": "FcivQ_NcAT_I"
      },
      "execution_count": 18,
      "outputs": []
    },
    {
      "cell_type": "code",
      "source": [
        "df_freq.head()"
      ],
      "metadata": {
        "id": "HZcCT-3IAueN",
        "colab": {
          "base_uri": "https://localhost:8080/",
          "height": 143
        },
        "outputId": "ecb4310a-f703-42e7-daf2-3c5ac4f9750c"
      },
      "execution_count": 19,
      "outputs": [
        {
          "output_type": "execute_result",
          "data": {
            "text/plain": [
              "   оборудование частичная    полная\n",
              "0      труба_75  1,00E-06  5,00E-06\n",
              "1  труба_75_150  3,00E-07  2,00E-06\n",
              "2     труба_150  1,00E-07  5,00E-07"
            ],
            "text/html": [
              "\n",
              "  <div id=\"df-60a1679f-c694-4510-a871-f0e693215055\">\n",
              "    <div class=\"colab-df-container\">\n",
              "      <div>\n",
              "<style scoped>\n",
              "    .dataframe tbody tr th:only-of-type {\n",
              "        vertical-align: middle;\n",
              "    }\n",
              "\n",
              "    .dataframe tbody tr th {\n",
              "        vertical-align: top;\n",
              "    }\n",
              "\n",
              "    .dataframe thead th {\n",
              "        text-align: right;\n",
              "    }\n",
              "</style>\n",
              "<table border=\"1\" class=\"dataframe\">\n",
              "  <thead>\n",
              "    <tr style=\"text-align: right;\">\n",
              "      <th></th>\n",
              "      <th>оборудование</th>\n",
              "      <th>частичная</th>\n",
              "      <th>полная</th>\n",
              "    </tr>\n",
              "  </thead>\n",
              "  <tbody>\n",
              "    <tr>\n",
              "      <th>0</th>\n",
              "      <td>труба_75</td>\n",
              "      <td>1,00E-06</td>\n",
              "      <td>5,00E-06</td>\n",
              "    </tr>\n",
              "    <tr>\n",
              "      <th>1</th>\n",
              "      <td>труба_75_150</td>\n",
              "      <td>3,00E-07</td>\n",
              "      <td>2,00E-06</td>\n",
              "    </tr>\n",
              "    <tr>\n",
              "      <th>2</th>\n",
              "      <td>труба_150</td>\n",
              "      <td>1,00E-07</td>\n",
              "      <td>5,00E-07</td>\n",
              "    </tr>\n",
              "  </tbody>\n",
              "</table>\n",
              "</div>\n",
              "      <button class=\"colab-df-convert\" onclick=\"convertToInteractive('df-60a1679f-c694-4510-a871-f0e693215055')\"\n",
              "              title=\"Convert this dataframe to an interactive table.\"\n",
              "              style=\"display:none;\">\n",
              "        \n",
              "  <svg xmlns=\"http://www.w3.org/2000/svg\" height=\"24px\"viewBox=\"0 0 24 24\"\n",
              "       width=\"24px\">\n",
              "    <path d=\"M0 0h24v24H0V0z\" fill=\"none\"/>\n",
              "    <path d=\"M18.56 5.44l.94 2.06.94-2.06 2.06-.94-2.06-.94-.94-2.06-.94 2.06-2.06.94zm-11 1L8.5 8.5l.94-2.06 2.06-.94-2.06-.94L8.5 2.5l-.94 2.06-2.06.94zm10 10l.94 2.06.94-2.06 2.06-.94-2.06-.94-.94-2.06-.94 2.06-2.06.94z\"/><path d=\"M17.41 7.96l-1.37-1.37c-.4-.4-.92-.59-1.43-.59-.52 0-1.04.2-1.43.59L10.3 9.45l-7.72 7.72c-.78.78-.78 2.05 0 2.83L4 21.41c.39.39.9.59 1.41.59.51 0 1.02-.2 1.41-.59l7.78-7.78 2.81-2.81c.8-.78.8-2.07 0-2.86zM5.41 20L4 18.59l7.72-7.72 1.47 1.35L5.41 20z\"/>\n",
              "  </svg>\n",
              "      </button>\n",
              "      \n",
              "  <style>\n",
              "    .colab-df-container {\n",
              "      display:flex;\n",
              "      flex-wrap:wrap;\n",
              "      gap: 12px;\n",
              "    }\n",
              "\n",
              "    .colab-df-convert {\n",
              "      background-color: #E8F0FE;\n",
              "      border: none;\n",
              "      border-radius: 50%;\n",
              "      cursor: pointer;\n",
              "      display: none;\n",
              "      fill: #1967D2;\n",
              "      height: 32px;\n",
              "      padding: 0 0 0 0;\n",
              "      width: 32px;\n",
              "    }\n",
              "\n",
              "    .colab-df-convert:hover {\n",
              "      background-color: #E2EBFA;\n",
              "      box-shadow: 0px 1px 2px rgba(60, 64, 67, 0.3), 0px 1px 3px 1px rgba(60, 64, 67, 0.15);\n",
              "      fill: #174EA6;\n",
              "    }\n",
              "\n",
              "    [theme=dark] .colab-df-convert {\n",
              "      background-color: #3B4455;\n",
              "      fill: #D2E3FC;\n",
              "    }\n",
              "\n",
              "    [theme=dark] .colab-df-convert:hover {\n",
              "      background-color: #434B5C;\n",
              "      box-shadow: 0px 1px 3px 1px rgba(0, 0, 0, 0.15);\n",
              "      filter: drop-shadow(0px 1px 2px rgba(0, 0, 0, 0.3));\n",
              "      fill: #FFFFFF;\n",
              "    }\n",
              "  </style>\n",
              "\n",
              "      <script>\n",
              "        const buttonEl =\n",
              "          document.querySelector('#df-60a1679f-c694-4510-a871-f0e693215055 button.colab-df-convert');\n",
              "        buttonEl.style.display =\n",
              "          google.colab.kernel.accessAllowed ? 'block' : 'none';\n",
              "\n",
              "        async function convertToInteractive(key) {\n",
              "          const element = document.querySelector('#df-60a1679f-c694-4510-a871-f0e693215055');\n",
              "          const dataTable =\n",
              "            await google.colab.kernel.invokeFunction('convertToInteractive',\n",
              "                                                     [key], {});\n",
              "          if (!dataTable) return;\n",
              "\n",
              "          const docLinkHtml = 'Like what you see? Visit the ' +\n",
              "            '<a target=\"_blank\" href=https://colab.research.google.com/notebooks/data_table.ipynb>data table notebook</a>'\n",
              "            + ' to learn more about interactive tables.';\n",
              "          element.innerHTML = '';\n",
              "          dataTable['output_type'] = 'display_data';\n",
              "          await google.colab.output.renderOutput(dataTable, element);\n",
              "          const docLink = document.createElement('div');\n",
              "          docLink.innerHTML = docLinkHtml;\n",
              "          element.appendChild(docLink);\n",
              "        }\n",
              "      </script>\n",
              "    </div>\n",
              "  </div>\n",
              "  "
            ]
          },
          "metadata": {},
          "execution_count": 19
        }
      ]
    },
    {
      "cell_type": "code",
      "source": [
        "df_freq['частичная'] = df_freq['частичная'].str.replace(',', '.').astype(float)\n",
        "df_freq['полная'] = df_freq['полная'].str.replace(',', '.').astype(float)"
      ],
      "metadata": {
        "id": "zBqWNsWZR27w"
      },
      "execution_count": 20,
      "outputs": []
    },
    {
      "cell_type": "code",
      "source": [
        "df_freq"
      ],
      "metadata": {
        "id": "d2wHDjL8TD6W",
        "colab": {
          "base_uri": "https://localhost:8080/",
          "height": 143
        },
        "outputId": "12587e9f-8cec-45a4-ea45-272bdcde16bb"
      },
      "execution_count": 21,
      "outputs": [
        {
          "output_type": "execute_result",
          "data": {
            "text/plain": [
              "   оборудование     частичная        полная\n",
              "0      труба_75  1.000000e-06  5.000000e-06\n",
              "1  труба_75_150  3.000000e-07  2.000000e-06\n",
              "2     труба_150  1.000000e-07  5.000000e-07"
            ],
            "text/html": [
              "\n",
              "  <div id=\"df-64b7f4a3-bca9-4a8d-90f7-c5de4c863f78\">\n",
              "    <div class=\"colab-df-container\">\n",
              "      <div>\n",
              "<style scoped>\n",
              "    .dataframe tbody tr th:only-of-type {\n",
              "        vertical-align: middle;\n",
              "    }\n",
              "\n",
              "    .dataframe tbody tr th {\n",
              "        vertical-align: top;\n",
              "    }\n",
              "\n",
              "    .dataframe thead th {\n",
              "        text-align: right;\n",
              "    }\n",
              "</style>\n",
              "<table border=\"1\" class=\"dataframe\">\n",
              "  <thead>\n",
              "    <tr style=\"text-align: right;\">\n",
              "      <th></th>\n",
              "      <th>оборудование</th>\n",
              "      <th>частичная</th>\n",
              "      <th>полная</th>\n",
              "    </tr>\n",
              "  </thead>\n",
              "  <tbody>\n",
              "    <tr>\n",
              "      <th>0</th>\n",
              "      <td>труба_75</td>\n",
              "      <td>1.000000e-06</td>\n",
              "      <td>5.000000e-06</td>\n",
              "    </tr>\n",
              "    <tr>\n",
              "      <th>1</th>\n",
              "      <td>труба_75_150</td>\n",
              "      <td>3.000000e-07</td>\n",
              "      <td>2.000000e-06</td>\n",
              "    </tr>\n",
              "    <tr>\n",
              "      <th>2</th>\n",
              "      <td>труба_150</td>\n",
              "      <td>1.000000e-07</td>\n",
              "      <td>5.000000e-07</td>\n",
              "    </tr>\n",
              "  </tbody>\n",
              "</table>\n",
              "</div>\n",
              "      <button class=\"colab-df-convert\" onclick=\"convertToInteractive('df-64b7f4a3-bca9-4a8d-90f7-c5de4c863f78')\"\n",
              "              title=\"Convert this dataframe to an interactive table.\"\n",
              "              style=\"display:none;\">\n",
              "        \n",
              "  <svg xmlns=\"http://www.w3.org/2000/svg\" height=\"24px\"viewBox=\"0 0 24 24\"\n",
              "       width=\"24px\">\n",
              "    <path d=\"M0 0h24v24H0V0z\" fill=\"none\"/>\n",
              "    <path d=\"M18.56 5.44l.94 2.06.94-2.06 2.06-.94-2.06-.94-.94-2.06-.94 2.06-2.06.94zm-11 1L8.5 8.5l.94-2.06 2.06-.94-2.06-.94L8.5 2.5l-.94 2.06-2.06.94zm10 10l.94 2.06.94-2.06 2.06-.94-2.06-.94-.94-2.06-.94 2.06-2.06.94z\"/><path d=\"M17.41 7.96l-1.37-1.37c-.4-.4-.92-.59-1.43-.59-.52 0-1.04.2-1.43.59L10.3 9.45l-7.72 7.72c-.78.78-.78 2.05 0 2.83L4 21.41c.39.39.9.59 1.41.59.51 0 1.02-.2 1.41-.59l7.78-7.78 2.81-2.81c.8-.78.8-2.07 0-2.86zM5.41 20L4 18.59l7.72-7.72 1.47 1.35L5.41 20z\"/>\n",
              "  </svg>\n",
              "      </button>\n",
              "      \n",
              "  <style>\n",
              "    .colab-df-container {\n",
              "      display:flex;\n",
              "      flex-wrap:wrap;\n",
              "      gap: 12px;\n",
              "    }\n",
              "\n",
              "    .colab-df-convert {\n",
              "      background-color: #E8F0FE;\n",
              "      border: none;\n",
              "      border-radius: 50%;\n",
              "      cursor: pointer;\n",
              "      display: none;\n",
              "      fill: #1967D2;\n",
              "      height: 32px;\n",
              "      padding: 0 0 0 0;\n",
              "      width: 32px;\n",
              "    }\n",
              "\n",
              "    .colab-df-convert:hover {\n",
              "      background-color: #E2EBFA;\n",
              "      box-shadow: 0px 1px 2px rgba(60, 64, 67, 0.3), 0px 1px 3px 1px rgba(60, 64, 67, 0.15);\n",
              "      fill: #174EA6;\n",
              "    }\n",
              "\n",
              "    [theme=dark] .colab-df-convert {\n",
              "      background-color: #3B4455;\n",
              "      fill: #D2E3FC;\n",
              "    }\n",
              "\n",
              "    [theme=dark] .colab-df-convert:hover {\n",
              "      background-color: #434B5C;\n",
              "      box-shadow: 0px 1px 3px 1px rgba(0, 0, 0, 0.15);\n",
              "      filter: drop-shadow(0px 1px 2px rgba(0, 0, 0, 0.3));\n",
              "      fill: #FFFFFF;\n",
              "    }\n",
              "  </style>\n",
              "\n",
              "      <script>\n",
              "        const buttonEl =\n",
              "          document.querySelector('#df-64b7f4a3-bca9-4a8d-90f7-c5de4c863f78 button.colab-df-convert');\n",
              "        buttonEl.style.display =\n",
              "          google.colab.kernel.accessAllowed ? 'block' : 'none';\n",
              "\n",
              "        async function convertToInteractive(key) {\n",
              "          const element = document.querySelector('#df-64b7f4a3-bca9-4a8d-90f7-c5de4c863f78');\n",
              "          const dataTable =\n",
              "            await google.colab.kernel.invokeFunction('convertToInteractive',\n",
              "                                                     [key], {});\n",
              "          if (!dataTable) return;\n",
              "\n",
              "          const docLinkHtml = 'Like what you see? Visit the ' +\n",
              "            '<a target=\"_blank\" href=https://colab.research.google.com/notebooks/data_table.ipynb>data table notebook</a>'\n",
              "            + ' to learn more about interactive tables.';\n",
              "          element.innerHTML = '';\n",
              "          dataTable['output_type'] = 'display_data';\n",
              "          await google.colab.output.renderOutput(dataTable, element);\n",
              "          const docLink = document.createElement('div');\n",
              "          docLink.innerHTML = docLinkHtml;\n",
              "          element.appendChild(docLink);\n",
              "        }\n",
              "      </script>\n",
              "    </div>\n",
              "  </div>\n",
              "  "
            ]
          },
          "metadata": {},
          "execution_count": 21
        }
      ]
    },
    {
      "cell_type": "code",
      "source": [
        "#df_freq = pd.DataFrame({'оборудование':['труба_75', 'труба_75_150', 'труба_150\t'],                  'частичная':[1.0e-06,3.0e-07,1.000000e-07],                 'полная':[5.e-06, 2.000000e-06, 5.000000e-07]                  })"
      ],
      "metadata": {
        "id": "YlXPaFDl_z54"
      },
      "execution_count": 22,
      "outputs": []
    },
    {
      "cell_type": "code",
      "source": [
        "df_freq"
      ],
      "metadata": {
        "colab": {
          "base_uri": "https://localhost:8080/",
          "height": 143
        },
        "id": "y_mGrzeBA-Fr",
        "outputId": "3812bd87-4c67-412a-b463-11a25e4ff670"
      },
      "execution_count": 23,
      "outputs": [
        {
          "output_type": "execute_result",
          "data": {
            "text/plain": [
              "   оборудование     частичная        полная\n",
              "0      труба_75  1.000000e-06  5.000000e-06\n",
              "1  труба_75_150  3.000000e-07  2.000000e-06\n",
              "2     труба_150  1.000000e-07  5.000000e-07"
            ],
            "text/html": [
              "\n",
              "  <div id=\"df-35a31f2d-6214-47f8-bb6a-c231f6f562b8\">\n",
              "    <div class=\"colab-df-container\">\n",
              "      <div>\n",
              "<style scoped>\n",
              "    .dataframe tbody tr th:only-of-type {\n",
              "        vertical-align: middle;\n",
              "    }\n",
              "\n",
              "    .dataframe tbody tr th {\n",
              "        vertical-align: top;\n",
              "    }\n",
              "\n",
              "    .dataframe thead th {\n",
              "        text-align: right;\n",
              "    }\n",
              "</style>\n",
              "<table border=\"1\" class=\"dataframe\">\n",
              "  <thead>\n",
              "    <tr style=\"text-align: right;\">\n",
              "      <th></th>\n",
              "      <th>оборудование</th>\n",
              "      <th>частичная</th>\n",
              "      <th>полная</th>\n",
              "    </tr>\n",
              "  </thead>\n",
              "  <tbody>\n",
              "    <tr>\n",
              "      <th>0</th>\n",
              "      <td>труба_75</td>\n",
              "      <td>1.000000e-06</td>\n",
              "      <td>5.000000e-06</td>\n",
              "    </tr>\n",
              "    <tr>\n",
              "      <th>1</th>\n",
              "      <td>труба_75_150</td>\n",
              "      <td>3.000000e-07</td>\n",
              "      <td>2.000000e-06</td>\n",
              "    </tr>\n",
              "    <tr>\n",
              "      <th>2</th>\n",
              "      <td>труба_150</td>\n",
              "      <td>1.000000e-07</td>\n",
              "      <td>5.000000e-07</td>\n",
              "    </tr>\n",
              "  </tbody>\n",
              "</table>\n",
              "</div>\n",
              "      <button class=\"colab-df-convert\" onclick=\"convertToInteractive('df-35a31f2d-6214-47f8-bb6a-c231f6f562b8')\"\n",
              "              title=\"Convert this dataframe to an interactive table.\"\n",
              "              style=\"display:none;\">\n",
              "        \n",
              "  <svg xmlns=\"http://www.w3.org/2000/svg\" height=\"24px\"viewBox=\"0 0 24 24\"\n",
              "       width=\"24px\">\n",
              "    <path d=\"M0 0h24v24H0V0z\" fill=\"none\"/>\n",
              "    <path d=\"M18.56 5.44l.94 2.06.94-2.06 2.06-.94-2.06-.94-.94-2.06-.94 2.06-2.06.94zm-11 1L8.5 8.5l.94-2.06 2.06-.94-2.06-.94L8.5 2.5l-.94 2.06-2.06.94zm10 10l.94 2.06.94-2.06 2.06-.94-2.06-.94-.94-2.06-.94 2.06-2.06.94z\"/><path d=\"M17.41 7.96l-1.37-1.37c-.4-.4-.92-.59-1.43-.59-.52 0-1.04.2-1.43.59L10.3 9.45l-7.72 7.72c-.78.78-.78 2.05 0 2.83L4 21.41c.39.39.9.59 1.41.59.51 0 1.02-.2 1.41-.59l7.78-7.78 2.81-2.81c.8-.78.8-2.07 0-2.86zM5.41 20L4 18.59l7.72-7.72 1.47 1.35L5.41 20z\"/>\n",
              "  </svg>\n",
              "      </button>\n",
              "      \n",
              "  <style>\n",
              "    .colab-df-container {\n",
              "      display:flex;\n",
              "      flex-wrap:wrap;\n",
              "      gap: 12px;\n",
              "    }\n",
              "\n",
              "    .colab-df-convert {\n",
              "      background-color: #E8F0FE;\n",
              "      border: none;\n",
              "      border-radius: 50%;\n",
              "      cursor: pointer;\n",
              "      display: none;\n",
              "      fill: #1967D2;\n",
              "      height: 32px;\n",
              "      padding: 0 0 0 0;\n",
              "      width: 32px;\n",
              "    }\n",
              "\n",
              "    .colab-df-convert:hover {\n",
              "      background-color: #E2EBFA;\n",
              "      box-shadow: 0px 1px 2px rgba(60, 64, 67, 0.3), 0px 1px 3px 1px rgba(60, 64, 67, 0.15);\n",
              "      fill: #174EA6;\n",
              "    }\n",
              "\n",
              "    [theme=dark] .colab-df-convert {\n",
              "      background-color: #3B4455;\n",
              "      fill: #D2E3FC;\n",
              "    }\n",
              "\n",
              "    [theme=dark] .colab-df-convert:hover {\n",
              "      background-color: #434B5C;\n",
              "      box-shadow: 0px 1px 3px 1px rgba(0, 0, 0, 0.15);\n",
              "      filter: drop-shadow(0px 1px 2px rgba(0, 0, 0, 0.3));\n",
              "      fill: #FFFFFF;\n",
              "    }\n",
              "  </style>\n",
              "\n",
              "      <script>\n",
              "        const buttonEl =\n",
              "          document.querySelector('#df-35a31f2d-6214-47f8-bb6a-c231f6f562b8 button.colab-df-convert');\n",
              "        buttonEl.style.display =\n",
              "          google.colab.kernel.accessAllowed ? 'block' : 'none';\n",
              "\n",
              "        async function convertToInteractive(key) {\n",
              "          const element = document.querySelector('#df-35a31f2d-6214-47f8-bb6a-c231f6f562b8');\n",
              "          const dataTable =\n",
              "            await google.colab.kernel.invokeFunction('convertToInteractive',\n",
              "                                                     [key], {});\n",
              "          if (!dataTable) return;\n",
              "\n",
              "          const docLinkHtml = 'Like what you see? Visit the ' +\n",
              "            '<a target=\"_blank\" href=https://colab.research.google.com/notebooks/data_table.ipynb>data table notebook</a>'\n",
              "            + ' to learn more about interactive tables.';\n",
              "          element.innerHTML = '';\n",
              "          dataTable['output_type'] = 'display_data';\n",
              "          await google.colab.output.renderOutput(dataTable, element);\n",
              "          const docLink = document.createElement('div');\n",
              "          docLink.innerHTML = docLinkHtml;\n",
              "          element.appendChild(docLink);\n",
              "        }\n",
              "      </script>\n",
              "    </div>\n",
              "  </div>\n",
              "  "
            ]
          },
          "metadata": {},
          "execution_count": 23
        }
      ]
    },
    {
      "cell_type": "markdown",
      "source": [
        "### Вероятность возникновения сценариев аварий (test)"
      ],
      "metadata": {
        "id": "PCFft4N-i4nX"
      }
    },
    {
      "cell_type": "code",
      "source": [
        "scenario_lvz = {'полная': {\n",
        "                'пролив': 0.608, \n",
        "                'пожар': 0.2,\n",
        "                'вспышка': 0.0768,\n",
        "                'ТВС': 0.1152}, \n",
        "                'частичная': {\n",
        "                'пролив': 0.93026, \n",
        "                'пожар': 0.035,\n",
        "                'вспышка': 0.026402,\n",
        "                'ТВС': 0.0083376}}                 "
      ],
      "metadata": {
        "id": "eK6UKZWQWcoj"
      },
      "execution_count": 24,
      "outputs": []
    },
    {
      "cell_type": "markdown",
      "source": [
        "# Функции для обработки данных"
      ],
      "metadata": {
        "id": "O5HaLAHvg_E-"
      }
    },
    {
      "cell_type": "markdown",
      "source": [
        "##Подбора веществ"
      ],
      "metadata": {
        "id": "AdxMt1VAsOnv"
      }
    },
    {
      "cell_type": "markdown",
      "source": [
        "Для поиска в датафрейме/сводной таблице/базе данных сведений по веществу\n",
        "\n",
        "Входные параметры: вещество - \"agent\" и оборудование -  \"facilities\"."
      ],
      "metadata": {
        "id": "i1wHVKRK4Pgp"
      }
    },
    {
      "cell_type": "code",
      "source": [
        "def choice_agent():\n",
        "  pass \n"
      ],
      "metadata": {
        "id": "dDi6eKY-sVL8"
      },
      "execution_count": 25,
      "outputs": []
    },
    {
      "cell_type": "markdown",
      "source": [
        "##Объем трубопровода\n"
      ],
      "metadata": {
        "id": "YOtd6LAqSeAm"
      }
    },
    {
      "cell_type": "code",
      "source": [
        "def Volume_pipeline(dl, diam, st):\n",
        "    \"\"\"\"Функция расчета объема трубопровода/\n",
        "    Принимает длину в метрах, диаметр и толщину стенки в мм\"\"\"\n",
        "    radius = (diam/2 - st)/1000     #находим радиус и переводим в метры\n",
        "    V = pi * dl * radius ** 2\n",
        "    return V"
      ],
      "metadata": {
        "id": "G0m_CvNESBR1"
      },
      "execution_count": 26,
      "outputs": []
    },
    {
      "cell_type": "markdown",
      "source": [
        "##Площадь пролива"
      ],
      "metadata": {
        "id": "FSESitUZSkBF"
      }
    },
    {
      "cell_type": "code",
      "source": [
        "def Strait_area(massa, ro,  koef_str):\n",
        "    \"\"\"\"Функция расчета площади пролива на неограниченное пространство\n",
        "    Принмает массу, плотность вещества т/м3 и коэффициент разлития\"\"\"\n",
        "    V_mass = massa / ro\n",
        "    S = V_mass * koef_str\n",
        "    return S"
      ],
      "metadata": {
        "id": "LrHG-aS_SCW_"
      },
      "execution_count": 27,
      "outputs": []
    },
    {
      "cell_type": "markdown",
      "source": [
        "##Интенсивность испарения"
      ],
      "metadata": {
        "id": "WXh4UWfVSn__"
      }
    },
    {
      "cell_type": "code",
      "source": [
        "def Evaporation_404():\n",
        "    \"\"\"\"Интенсивность испарения для нефти \n",
        "    кг/м2час????\"\"\"\n",
        "    M = 200     #  Молярная масса нефти по расчетной Антона\n",
        "    P_n = 7.840\n",
        "    W = 10 ** -6 * sqrt(M) * P_n\n",
        "    return W "
      ],
      "metadata": {
        "id": "kWKmGOlISDbV"
      },
      "execution_count": 28,
      "outputs": []
    },
    {
      "cell_type": "markdown",
      "source": [
        "##Частота иницирующего события (test)"
      ],
      "metadata": {
        "id": "8HcOYOyIBhAP"
      }
    },
    {
      "cell_type": "code",
      "source": [
        "df_freq['полная'][0]"
      ],
      "metadata": {
        "colab": {
          "base_uri": "https://localhost:8080/"
        },
        "id": "zEPQYGgXI0Zq",
        "outputId": "f54d77ec-03e5-44c1-c42b-49ef92944f2d"
      },
      "execution_count": 29,
      "outputs": [
        {
          "output_type": "execute_result",
          "data": {
            "text/plain": [
              "5e-06"
            ]
          },
          "metadata": {},
          "execution_count": 29
        }
      ]
    },
    {
      "cell_type": "code",
      "source": [
        "def frequencies_pipline(diam):\n",
        "  result = {'полная': '-' ,'частичная': '-'  }\n",
        "  if diam < 75:\n",
        "    result['полная'] = df_freq['полная'][0]\n",
        "    result['частичная'] = df_freq['частичная'][0]\n",
        "  elif 75 <= diam <= 150:\n",
        "    result['полная'] = df_freq['полная'][1]\n",
        "    result['частичная'] = df_freq['частичная'][1]    \n",
        "  elif diam > 150:\n",
        "    result['полная'] = df_freq['полная'][2]\n",
        "    result['частичная'] = df_freq['частичная'][2] \n",
        "  else:\n",
        "    return 'ERROR'\n",
        "\n",
        "  return result \n",
        "\n"
      ],
      "metadata": {
        "id": "i4AlxXDCBf9W"
      },
      "execution_count": 30,
      "outputs": []
    },
    {
      "cell_type": "markdown",
      "source": [
        "##Частота реализации сценариев"
      ],
      "metadata": {
        "id": "VHxuholc-K0v"
      }
    },
    {
      "cell_type": "code",
      "source": [
        "def scenarios():\n",
        "  pass\n"
      ],
      "metadata": {
        "id": "C4n91MeR-PxS"
      },
      "execution_count": 31,
      "outputs": []
    },
    {
      "cell_type": "markdown",
      "source": [
        "##Классификация режимов сгорания облака"
      ],
      "metadata": {
        "id": "s7yTsqAchRQG"
      }
    },
    {
      "cell_type": "code",
      "source": [
        "def classification_cloud():\n",
        "  pass "
      ],
      "metadata": {
        "id": "8tXiKocehqZq"
      },
      "execution_count": 32,
      "outputs": []
    },
    {
      "cell_type": "markdown",
      "source": [
        "##Функции округления (test)"
      ],
      "metadata": {
        "id": "Rt86ad9Wmu5g"
      }
    },
    {
      "cell_type": "code",
      "source": [
        "def round_to_n_decimals(x, n):\n",
        "    if x == 0:\n",
        "        return 0\n",
        "    else:\n",
        "        digits = int(math.log10(abs(x)))\n",
        "        return round(x, -digits+n-1)"
      ],
      "metadata": {
        "id": "Dev1zPu0ZzUL"
      },
      "execution_count": 33,
      "outputs": []
    },
    {
      "cell_type": "code",
      "source": [
        "def round_to_significant_figures(x, n):\n",
        "    if x == 0:\n",
        "        return 0\n",
        "    else:\n",
        "        return round(x, -int(math.floor(math.log10(abs(x))) + (n - 1)))"
      ],
      "metadata": {
        "id": "b0ua41Qrc8Ah"
      },
      "execution_count": 34,
      "outputs": []
    },
    {
      "cell_type": "markdown",
      "source": [
        "#Функции расчета зон поражения"
      ],
      "metadata": {
        "id": "Zrg50vBdVCBR"
      }
    },
    {
      "cell_type": "markdown",
      "source": [
        "##Взрыв топливно-воздушной смеси (ТВС)"
      ],
      "metadata": {
        "id": "wlWUPiPBSvIi"
      }
    },
    {
      "cell_type": "code",
      "source": [
        "def TVS_404(M_t):\n",
        "    \"\"\" Функция расчета взрыва ТВС\n",
        "    принимает массу испарившихся веществ\n",
        "    \"\"\"\n",
        "    result = {'100': '-','53': '-', '28': '-', '12': '-','5': '-','3': '-'}\n",
        "    betta = 1.14   # коэффициент для нефти\n",
        "    E = M_t * 44 * 10 ** 6 * betta      # Удельное энерговыделение\n",
        "    u = 43 * M_t ** (1/6)          # дефлаграция скорости фронта пламени для 5 класса\n",
        "    x = 0.1\n",
        "    while True:\n",
        "        Rx = x / ((E / P_0) ** (1/3))\n",
        "        if Rx < 0.34:\n",
        "            Px1 = (u ** 2 / 340 ** 2) * (6/7) * (0.83/0.34 - 0.14/0.34 ** 2)\n",
        "        else:\n",
        "            Px1 = (u ** 2 / 340 ** 2) * (6/7) * (0.83/Rx - 0.14/Rx ** 2)\n",
        "        \n",
        "        delta_P = Px1 * 101\n",
        "        if round(delta_P,2) == 100.0:\n",
        "          result['100'] = round(x,2)\n",
        "        elif round(delta_P,2) == 53.0:\n",
        "          result['53'] = round(x,2)\n",
        "        elif round(delta_P,2) == 28.0:\n",
        "          result['28'] = round(x,2)\n",
        "        elif round(delta_P,2) == 12.0:\n",
        "          result['12'] = round(x,2)   \n",
        "        elif round(delta_P,2) == 5.0:\n",
        "          result['5'] = round(x,2)        \n",
        "        elif round(delta_P,2) == 3.0:\n",
        "          result['3'] = round(x,2) \n",
        "          return result \n",
        "          break \n",
        "        elif delta_P < 1:\n",
        "          return result \n",
        "          break\n",
        "        x += 0.1"
      ],
      "metadata": {
        "id": "z3TtNaCZSE19"
      },
      "execution_count": 35,
      "outputs": []
    },
    {
      "cell_type": "code",
      "source": [
        "TVS_404(500)"
      ],
      "metadata": {
        "colab": {
          "base_uri": "https://localhost:8080/"
        },
        "id": "nJRUl2Em2SKP",
        "outputId": "ac12d91c-a1da-4c6c-d11d-feace18167e0"
      },
      "execution_count": 36,
      "outputs": [
        {
          "output_type": "execute_result",
          "data": {
            "text/plain": [
              "{'100': '-', '53': '-', '28': '-', '12': 31.9, '5': 102.9, '3': 179.6}"
            ]
          },
          "metadata": {},
          "execution_count": 36
        }
      ]
    },
    {
      "cell_type": "markdown",
      "source": [
        "##Пожар-вспышка"
      ],
      "metadata": {
        "id": "x5e6304FV7mQ"
      }
    },
    {
      "cell_type": "code",
      "source": [
        "def fire_flash_404(m, ro_g = 10, C_nkpr = 1.1):\n",
        "    \"\"\"\" Модуль расчета пожара вспышки.\n",
        "    Принимает массу, плотность испарившейся нефти, Нижний концетрационный предел нефти\"\"\"\n",
        "    ro_g = 10       # плотность ГГ нефти\n",
        "    C_nkpr = 1.1        # нижний концентрационный предел распространения пламени нефти\n",
        "    R_f = 1.2 * 7.8 * (m / (ro_g * C_nkpr))** 0.33\n",
        "    return R_f"
      ],
      "metadata": {
        "id": "wajhIVh0SGnc"
      },
      "execution_count": 37,
      "outputs": []
    },
    {
      "cell_type": "markdown",
      "source": [
        "##Пожар пролива"
      ],
      "metadata": {
        "id": "cavdrnD9V_-s"
      }
    },
    {
      "cell_type": "code",
      "source": [
        "def StraitFire_404(S):\n",
        "    \"\"\"\" Функция для расчета пожара пролива (!!! пока только нефть).\n",
        "    В тестовом варианте принимает значение площади пролива S. \n",
        "    Следует дополнить следующими входными данными:\n",
        "    - вещество (молярная масса, плотность насыщенных паров, плотность )\n",
        "    - скорость ветра\n",
        "    - учесть в функции разный расчет Ef для других видов веществ\n",
        "    \"\"\"\n",
        "    result = {'10,5': '-', '7,0': '-', '1,4': '-'}\n",
        "    d = sqrt(4 * S / pi)    #эффективный диаметр пролива\n",
        "    m_u = 0.04          #удельная скорость выгорания топлива\n",
        "    ro_parov = 218/22.4     #плотность насыщенных паров при испарении\n",
        "    p_okr_pro = 1.2250      #плотность окружающего воздуха \n",
        "    w_0 = 0             #скорость ветра\n",
        "    Ef = 140 + exp(-0.12 * d) + 20 * (1 - exp(-0.12 * d))       # среднеповерхностная интенсивность теплового излучения пламени\n",
        "    theta = 0       # угол отклонения пламени от вертикали под действием ветра. (принимается равной 0, если не учитываем ветер)\n",
        "    u_n = w_0 / np.cbrt(m_u * 9.81 * d / ro_parov)\n",
        "    if u_n < 1:\n",
        "        theta = 0\n",
        "    else:\n",
        "        theta = u_n ** (-0.5)\n",
        "    theta = 0 \n",
        "    \n",
        "    if u_n >= 1:\n",
        "        L = 55 * d * (m_u / (p_okr_pro * sqrt(9.81 * d)))** 0.67 * u_n ** 0.21\n",
        "    else:\n",
        "        L = 42 * d * (m_u / (p_okr_pro * sqrt(9.81 * d)))** 0.61\n",
        "    x = 1\n",
        "    while True:\n",
        "        a = 2 * L / d\n",
        "        b = 2 * x / d\n",
        "        A = sqrt((a**2 + (b + 1)**2 - 2 * a * (b + 1) * sin(theta)))\n",
        "        B = sqrt((a**2 + (b - 1)**2 - 2 * a * (b - 1) * sin(theta)))\n",
        "        C = sqrt(1 + (b**2 - 1) * cos(theta)**2)\n",
        "        D = abs((b - 1) / (b + 1)) ** 0.5\n",
        "        E = a * cos(theta) / (b - a * sin(theta))\n",
        "        F = abs(b**2 - 1) ** 0.5\n",
        "        F_v = 1/pi * ( - E * atan(D) + E * ((a**2 + (b+1)**2 - 2*b * (1 + a * sin(theta)))/ (A * B)) * atan(A * D / B) + cos(theta)/C * (atan((a * b - F**2 * sin(theta)) / (F * C)) * atan(F**2 * sin(theta)/ (F * C))))\n",
        "        F_n = 1/pi * (atan(1/D) + sin(theta)/C * (atan((a * b - F**2 * sin(theta)) / (F * C) ) + atan(F**2 * sin(theta) / (F * C))) - ((a**2 + (b+1)**2 - 2 *(b+1+a*b*sin(theta)))/(A * B)) * atan(A*D/B))\n",
        "        F_q = sqrt(F_v**2 + F_n**2)\n",
        "        ta = exp(-7 * 10 ** -4 * (x - 0.5 * d))\n",
        "        q = Ef * F_q * ta\n",
        "        if round(q, 2) == 10.5:\n",
        "          result['10,5'] = round(x, 2)\n",
        "        elif round(q) == 7:\n",
        "          result['7,0'] = round(x, 2)\n",
        "        elif round(q, 2) == 1.4:\n",
        "          result['1,4'] = round(x, 2)\n",
        "          return result \n",
        "          break \n",
        "\n",
        "        if q < 1:\n",
        "          return result\n",
        "          break\n",
        "        x += 0.1\n"
      ],
      "metadata": {
        "id": "DiGlopooSICQ"
      },
      "execution_count": 38,
      "outputs": []
    },
    {
      "cell_type": "markdown",
      "source": [
        "#Чтение и обработка данных из Excel"
      ],
      "metadata": {
        "id": "mDjWCaXYWEc4"
      }
    },
    {
      "cell_type": "markdown",
      "source": [
        "##считываем данные из заполненной таблицы Excel"
      ],
      "metadata": {
        "id": "YL8dzB6Kn4rm"
      }
    },
    {
      "cell_type": "code",
      "source": [
        "!gdown --id 1_Oa-FbrY7uSCpUt023fqL2CwtG1PlVEa"
      ],
      "metadata": {
        "colab": {
          "base_uri": "https://localhost:8080/"
        },
        "id": "nPzNzk8KbA_D",
        "outputId": "715495d3-7034-459a-b780-cd37dfd6aa6c"
      },
      "execution_count": 39,
      "outputs": [
        {
          "output_type": "stream",
          "name": "stdout",
          "text": [
            "/usr/local/lib/python3.8/dist-packages/gdown/cli.py:127: FutureWarning: Option `--id` was deprecated in version 4.3.1 and will be removed in 5.0. You don't need to pass it anymore to use a file ID.\n",
            "  warnings.warn(\n",
            "Downloading...\n",
            "From: https://drive.google.com/uc?id=1_Oa-FbrY7uSCpUt023fqL2CwtG1PlVEa\n",
            "To: /content/test.xlsx\n",
            "100% 23.6k/23.6k [00:00<00:00, 37.9MB/s]\n"
          ]
        }
      ]
    },
    {
      "cell_type": "code",
      "source": [
        "df = pd.read_excel('test.xlsx', index_col='№')"
      ],
      "metadata": {
        "id": "JlkPcbtkbzy7"
      },
      "execution_count": 40,
      "outputs": []
    },
    {
      "cell_type": "code",
      "source": [
        "df.head()"
      ],
      "metadata": {
        "colab": {
          "base_uri": "https://localhost:8080/",
          "height": 614
        },
        "id": "nATwQ8Owb5LZ",
        "outputId": "2e3d41cd-90c3-454c-c60d-f769bf4fe13e"
      },
      "execution_count": 41,
      "outputs": [
        {
          "output_type": "execute_result",
          "data": {
            "text/plain": [
              "                           наименование оборудования Тип оборудования  \\\n",
              "№                                                                       \n",
              "1  Нефтесборный коллектор \"Куст № 2 - т.в. Куста ...            труба   \n",
              "2  Нефтепровод от куста №1 до УПН Снежного нефтян...            труба   \n",
              "3  Нефтепровод от куста №1 до УПН Снежного нефтян...            труба   \n",
              "4  Нефтепровод от куста №1 до УПН Снежного нефтян...            труба   \n",
              "5   Нефтесборные сети куст №3 - т. вр. Куста № 1 - 1            труба   \n",
              "\n",
              "  Вещество Тип содержимого  Количество опасного вещества, т Температура  \\\n",
              "№                                                                         \n",
              "1    нефть             ЛВЖ                              NaN     -20..20   \n",
              "2    нефть             ЛВЖ                              NaN     -20..20   \n",
              "3    нефть             ЛВЖ                              NaN     -20..20   \n",
              "4    нефть             ЛВЖ                              NaN     -20..20   \n",
              "5    нефть             ЛВЖ                              NaN     -20..20   \n",
              "\n",
              "   давление  Интенсивность прокачки, м3/сут  время перекрытия  \\\n",
              "№                                                               \n",
              "1         4                            26.0               300   \n",
              "2         4                           142.0               300   \n",
              "3         4                           142.0               300   \n",
              "4         4                           142.0               300   \n",
              "5         4                            95.1               300   \n",
              "\n",
              "   Протяженность, м  диаметр  толщина стенки  Коэффициент подстил поверхности  \\\n",
              "№                                                                               \n",
              "1               270      219               8                                5   \n",
              "2              3050      114               6                                5   \n",
              "3               706      159               6                                5   \n",
              "4               355      219               8                                5   \n",
              "5              3100      159               6                                5   \n",
              "\n",
              "   Класс загроможденности пространства                            Блок  \\\n",
              "№                                                                        \n",
              "1                                    4  Газопровод внешнего транспорта   \n",
              "2                                    4  Газопровод внешнего транспорта   \n",
              "3                                    4  Газопровод внешнего транспорта   \n",
              "4                                    4  Газопровод внешнего транспорта   \n",
              "5                                    4  Газопровод внешнего транспорта   \n",
              "\n",
              "   № в блоке  \n",
              "№             \n",
              "1          1  \n",
              "2          2  \n",
              "3          3  \n",
              "4          4  \n",
              "5          5  "
            ],
            "text/html": [
              "\n",
              "  <div id=\"df-f7389a24-6c9e-4eab-a080-0e03fbaba5f6\">\n",
              "    <div class=\"colab-df-container\">\n",
              "      <div>\n",
              "<style scoped>\n",
              "    .dataframe tbody tr th:only-of-type {\n",
              "        vertical-align: middle;\n",
              "    }\n",
              "\n",
              "    .dataframe tbody tr th {\n",
              "        vertical-align: top;\n",
              "    }\n",
              "\n",
              "    .dataframe thead th {\n",
              "        text-align: right;\n",
              "    }\n",
              "</style>\n",
              "<table border=\"1\" class=\"dataframe\">\n",
              "  <thead>\n",
              "    <tr style=\"text-align: right;\">\n",
              "      <th></th>\n",
              "      <th>наименование оборудования</th>\n",
              "      <th>Тип оборудования</th>\n",
              "      <th>Вещество</th>\n",
              "      <th>Тип содержимого</th>\n",
              "      <th>Количество опасного вещества, т</th>\n",
              "      <th>Температура</th>\n",
              "      <th>давление</th>\n",
              "      <th>Интенсивность прокачки, м3/сут</th>\n",
              "      <th>время перекрытия</th>\n",
              "      <th>Протяженность, м</th>\n",
              "      <th>диаметр</th>\n",
              "      <th>толщина стенки</th>\n",
              "      <th>Коэффициент подстил поверхности</th>\n",
              "      <th>Класс загроможденности пространства</th>\n",
              "      <th>Блок</th>\n",
              "      <th>№ в блоке</th>\n",
              "    </tr>\n",
              "    <tr>\n",
              "      <th>№</th>\n",
              "      <th></th>\n",
              "      <th></th>\n",
              "      <th></th>\n",
              "      <th></th>\n",
              "      <th></th>\n",
              "      <th></th>\n",
              "      <th></th>\n",
              "      <th></th>\n",
              "      <th></th>\n",
              "      <th></th>\n",
              "      <th></th>\n",
              "      <th></th>\n",
              "      <th></th>\n",
              "      <th></th>\n",
              "      <th></th>\n",
              "      <th></th>\n",
              "    </tr>\n",
              "  </thead>\n",
              "  <tbody>\n",
              "    <tr>\n",
              "      <th>1</th>\n",
              "      <td>Нефтесборный коллектор \"Куст № 2 - т.в. Куста ...</td>\n",
              "      <td>труба</td>\n",
              "      <td>нефть</td>\n",
              "      <td>ЛВЖ</td>\n",
              "      <td>NaN</td>\n",
              "      <td>-20..20</td>\n",
              "      <td>4</td>\n",
              "      <td>26.0</td>\n",
              "      <td>300</td>\n",
              "      <td>270</td>\n",
              "      <td>219</td>\n",
              "      <td>8</td>\n",
              "      <td>5</td>\n",
              "      <td>4</td>\n",
              "      <td>Газопровод внешнего транспорта</td>\n",
              "      <td>1</td>\n",
              "    </tr>\n",
              "    <tr>\n",
              "      <th>2</th>\n",
              "      <td>Нефтепровод от куста №1 до УПН Снежного нефтян...</td>\n",
              "      <td>труба</td>\n",
              "      <td>нефть</td>\n",
              "      <td>ЛВЖ</td>\n",
              "      <td>NaN</td>\n",
              "      <td>-20..20</td>\n",
              "      <td>4</td>\n",
              "      <td>142.0</td>\n",
              "      <td>300</td>\n",
              "      <td>3050</td>\n",
              "      <td>114</td>\n",
              "      <td>6</td>\n",
              "      <td>5</td>\n",
              "      <td>4</td>\n",
              "      <td>Газопровод внешнего транспорта</td>\n",
              "      <td>2</td>\n",
              "    </tr>\n",
              "    <tr>\n",
              "      <th>3</th>\n",
              "      <td>Нефтепровод от куста №1 до УПН Снежного нефтян...</td>\n",
              "      <td>труба</td>\n",
              "      <td>нефть</td>\n",
              "      <td>ЛВЖ</td>\n",
              "      <td>NaN</td>\n",
              "      <td>-20..20</td>\n",
              "      <td>4</td>\n",
              "      <td>142.0</td>\n",
              "      <td>300</td>\n",
              "      <td>706</td>\n",
              "      <td>159</td>\n",
              "      <td>6</td>\n",
              "      <td>5</td>\n",
              "      <td>4</td>\n",
              "      <td>Газопровод внешнего транспорта</td>\n",
              "      <td>3</td>\n",
              "    </tr>\n",
              "    <tr>\n",
              "      <th>4</th>\n",
              "      <td>Нефтепровод от куста №1 до УПН Снежного нефтян...</td>\n",
              "      <td>труба</td>\n",
              "      <td>нефть</td>\n",
              "      <td>ЛВЖ</td>\n",
              "      <td>NaN</td>\n",
              "      <td>-20..20</td>\n",
              "      <td>4</td>\n",
              "      <td>142.0</td>\n",
              "      <td>300</td>\n",
              "      <td>355</td>\n",
              "      <td>219</td>\n",
              "      <td>8</td>\n",
              "      <td>5</td>\n",
              "      <td>4</td>\n",
              "      <td>Газопровод внешнего транспорта</td>\n",
              "      <td>4</td>\n",
              "    </tr>\n",
              "    <tr>\n",
              "      <th>5</th>\n",
              "      <td>Нефтесборные сети куст №3 - т. вр. Куста № 1 - 1</td>\n",
              "      <td>труба</td>\n",
              "      <td>нефть</td>\n",
              "      <td>ЛВЖ</td>\n",
              "      <td>NaN</td>\n",
              "      <td>-20..20</td>\n",
              "      <td>4</td>\n",
              "      <td>95.1</td>\n",
              "      <td>300</td>\n",
              "      <td>3100</td>\n",
              "      <td>159</td>\n",
              "      <td>6</td>\n",
              "      <td>5</td>\n",
              "      <td>4</td>\n",
              "      <td>Газопровод внешнего транспорта</td>\n",
              "      <td>5</td>\n",
              "    </tr>\n",
              "  </tbody>\n",
              "</table>\n",
              "</div>\n",
              "      <button class=\"colab-df-convert\" onclick=\"convertToInteractive('df-f7389a24-6c9e-4eab-a080-0e03fbaba5f6')\"\n",
              "              title=\"Convert this dataframe to an interactive table.\"\n",
              "              style=\"display:none;\">\n",
              "        \n",
              "  <svg xmlns=\"http://www.w3.org/2000/svg\" height=\"24px\"viewBox=\"0 0 24 24\"\n",
              "       width=\"24px\">\n",
              "    <path d=\"M0 0h24v24H0V0z\" fill=\"none\"/>\n",
              "    <path d=\"M18.56 5.44l.94 2.06.94-2.06 2.06-.94-2.06-.94-.94-2.06-.94 2.06-2.06.94zm-11 1L8.5 8.5l.94-2.06 2.06-.94-2.06-.94L8.5 2.5l-.94 2.06-2.06.94zm10 10l.94 2.06.94-2.06 2.06-.94-2.06-.94-.94-2.06-.94 2.06-2.06.94z\"/><path d=\"M17.41 7.96l-1.37-1.37c-.4-.4-.92-.59-1.43-.59-.52 0-1.04.2-1.43.59L10.3 9.45l-7.72 7.72c-.78.78-.78 2.05 0 2.83L4 21.41c.39.39.9.59 1.41.59.51 0 1.02-.2 1.41-.59l7.78-7.78 2.81-2.81c.8-.78.8-2.07 0-2.86zM5.41 20L4 18.59l7.72-7.72 1.47 1.35L5.41 20z\"/>\n",
              "  </svg>\n",
              "      </button>\n",
              "      \n",
              "  <style>\n",
              "    .colab-df-container {\n",
              "      display:flex;\n",
              "      flex-wrap:wrap;\n",
              "      gap: 12px;\n",
              "    }\n",
              "\n",
              "    .colab-df-convert {\n",
              "      background-color: #E8F0FE;\n",
              "      border: none;\n",
              "      border-radius: 50%;\n",
              "      cursor: pointer;\n",
              "      display: none;\n",
              "      fill: #1967D2;\n",
              "      height: 32px;\n",
              "      padding: 0 0 0 0;\n",
              "      width: 32px;\n",
              "    }\n",
              "\n",
              "    .colab-df-convert:hover {\n",
              "      background-color: #E2EBFA;\n",
              "      box-shadow: 0px 1px 2px rgba(60, 64, 67, 0.3), 0px 1px 3px 1px rgba(60, 64, 67, 0.15);\n",
              "      fill: #174EA6;\n",
              "    }\n",
              "\n",
              "    [theme=dark] .colab-df-convert {\n",
              "      background-color: #3B4455;\n",
              "      fill: #D2E3FC;\n",
              "    }\n",
              "\n",
              "    [theme=dark] .colab-df-convert:hover {\n",
              "      background-color: #434B5C;\n",
              "      box-shadow: 0px 1px 3px 1px rgba(0, 0, 0, 0.15);\n",
              "      filter: drop-shadow(0px 1px 2px rgba(0, 0, 0, 0.3));\n",
              "      fill: #FFFFFF;\n",
              "    }\n",
              "  </style>\n",
              "\n",
              "      <script>\n",
              "        const buttonEl =\n",
              "          document.querySelector('#df-f7389a24-6c9e-4eab-a080-0e03fbaba5f6 button.colab-df-convert');\n",
              "        buttonEl.style.display =\n",
              "          google.colab.kernel.accessAllowed ? 'block' : 'none';\n",
              "\n",
              "        async function convertToInteractive(key) {\n",
              "          const element = document.querySelector('#df-f7389a24-6c9e-4eab-a080-0e03fbaba5f6');\n",
              "          const dataTable =\n",
              "            await google.colab.kernel.invokeFunction('convertToInteractive',\n",
              "                                                     [key], {});\n",
              "          if (!dataTable) return;\n",
              "\n",
              "          const docLinkHtml = 'Like what you see? Visit the ' +\n",
              "            '<a target=\"_blank\" href=https://colab.research.google.com/notebooks/data_table.ipynb>data table notebook</a>'\n",
              "            + ' to learn more about interactive tables.';\n",
              "          element.innerHTML = '';\n",
              "          dataTable['output_type'] = 'display_data';\n",
              "          await google.colab.output.renderOutput(dataTable, element);\n",
              "          const docLink = document.createElement('div');\n",
              "          docLink.innerHTML = docLinkHtml;\n",
              "          element.appendChild(docLink);\n",
              "        }\n",
              "      </script>\n",
              "    </div>\n",
              "  </div>\n",
              "  "
            ]
          },
          "metadata": {},
          "execution_count": 41
        }
      ]
    },
    {
      "cell_type": "markdown",
      "source": [
        "##Расчитываем объем и массу по каждому участку трубопровода"
      ],
      "metadata": {
        "id": "qo8_qeP7wPI4"
      }
    },
    {
      "cell_type": "code",
      "source": [
        "df['объем'] = round(Volume_pipeline(df['Протяженность, м'], df['диаметр'], df['толщина стенки']), 2)"
      ],
      "metadata": {
        "id": "yAGZna7mI2An"
      },
      "execution_count": 42,
      "outputs": []
    },
    {
      "cell_type": "code",
      "source": [
        "df.head()"
      ],
      "metadata": {
        "colab": {
          "base_uri": "https://localhost:8080/",
          "height": 614
        },
        "id": "h1gY6DUdw0mU",
        "outputId": "7b108c2f-3269-473f-bc9f-836d447b63cb"
      },
      "execution_count": 43,
      "outputs": [
        {
          "output_type": "execute_result",
          "data": {
            "text/plain": [
              "                           наименование оборудования Тип оборудования  \\\n",
              "№                                                                       \n",
              "1  Нефтесборный коллектор \"Куст № 2 - т.в. Куста ...            труба   \n",
              "2  Нефтепровод от куста №1 до УПН Снежного нефтян...            труба   \n",
              "3  Нефтепровод от куста №1 до УПН Снежного нефтян...            труба   \n",
              "4  Нефтепровод от куста №1 до УПН Снежного нефтян...            труба   \n",
              "5   Нефтесборные сети куст №3 - т. вр. Куста № 1 - 1            труба   \n",
              "\n",
              "  Вещество Тип содержимого  Количество опасного вещества, т Температура  \\\n",
              "№                                                                         \n",
              "1    нефть             ЛВЖ                              NaN     -20..20   \n",
              "2    нефть             ЛВЖ                              NaN     -20..20   \n",
              "3    нефть             ЛВЖ                              NaN     -20..20   \n",
              "4    нефть             ЛВЖ                              NaN     -20..20   \n",
              "5    нефть             ЛВЖ                              NaN     -20..20   \n",
              "\n",
              "   давление  Интенсивность прокачки, м3/сут  время перекрытия  \\\n",
              "№                                                               \n",
              "1         4                            26.0               300   \n",
              "2         4                           142.0               300   \n",
              "3         4                           142.0               300   \n",
              "4         4                           142.0               300   \n",
              "5         4                            95.1               300   \n",
              "\n",
              "   Протяженность, м  диаметр  толщина стенки  Коэффициент подстил поверхности  \\\n",
              "№                                                                               \n",
              "1               270      219               8                                5   \n",
              "2              3050      114               6                                5   \n",
              "3               706      159               6                                5   \n",
              "4               355      219               8                                5   \n",
              "5              3100      159               6                                5   \n",
              "\n",
              "   Класс загроможденности пространства                            Блок  \\\n",
              "№                                                                        \n",
              "1                                    4  Газопровод внешнего транспорта   \n",
              "2                                    4  Газопровод внешнего транспорта   \n",
              "3                                    4  Газопровод внешнего транспорта   \n",
              "4                                    4  Газопровод внешнего транспорта   \n",
              "5                                    4  Газопровод внешнего транспорта   \n",
              "\n",
              "   № в блоке  объем  \n",
              "№                    \n",
              "1          1   8.74  \n",
              "2          2  24.92  \n",
              "3          3  11.98  \n",
              "4          4  11.49  \n",
              "5          5  52.61  "
            ],
            "text/html": [
              "\n",
              "  <div id=\"df-527b518a-474b-41ad-85b9-98e2438b0d20\">\n",
              "    <div class=\"colab-df-container\">\n",
              "      <div>\n",
              "<style scoped>\n",
              "    .dataframe tbody tr th:only-of-type {\n",
              "        vertical-align: middle;\n",
              "    }\n",
              "\n",
              "    .dataframe tbody tr th {\n",
              "        vertical-align: top;\n",
              "    }\n",
              "\n",
              "    .dataframe thead th {\n",
              "        text-align: right;\n",
              "    }\n",
              "</style>\n",
              "<table border=\"1\" class=\"dataframe\">\n",
              "  <thead>\n",
              "    <tr style=\"text-align: right;\">\n",
              "      <th></th>\n",
              "      <th>наименование оборудования</th>\n",
              "      <th>Тип оборудования</th>\n",
              "      <th>Вещество</th>\n",
              "      <th>Тип содержимого</th>\n",
              "      <th>Количество опасного вещества, т</th>\n",
              "      <th>Температура</th>\n",
              "      <th>давление</th>\n",
              "      <th>Интенсивность прокачки, м3/сут</th>\n",
              "      <th>время перекрытия</th>\n",
              "      <th>Протяженность, м</th>\n",
              "      <th>диаметр</th>\n",
              "      <th>толщина стенки</th>\n",
              "      <th>Коэффициент подстил поверхности</th>\n",
              "      <th>Класс загроможденности пространства</th>\n",
              "      <th>Блок</th>\n",
              "      <th>№ в блоке</th>\n",
              "      <th>объем</th>\n",
              "    </tr>\n",
              "    <tr>\n",
              "      <th>№</th>\n",
              "      <th></th>\n",
              "      <th></th>\n",
              "      <th></th>\n",
              "      <th></th>\n",
              "      <th></th>\n",
              "      <th></th>\n",
              "      <th></th>\n",
              "      <th></th>\n",
              "      <th></th>\n",
              "      <th></th>\n",
              "      <th></th>\n",
              "      <th></th>\n",
              "      <th></th>\n",
              "      <th></th>\n",
              "      <th></th>\n",
              "      <th></th>\n",
              "      <th></th>\n",
              "    </tr>\n",
              "  </thead>\n",
              "  <tbody>\n",
              "    <tr>\n",
              "      <th>1</th>\n",
              "      <td>Нефтесборный коллектор \"Куст № 2 - т.в. Куста ...</td>\n",
              "      <td>труба</td>\n",
              "      <td>нефть</td>\n",
              "      <td>ЛВЖ</td>\n",
              "      <td>NaN</td>\n",
              "      <td>-20..20</td>\n",
              "      <td>4</td>\n",
              "      <td>26.0</td>\n",
              "      <td>300</td>\n",
              "      <td>270</td>\n",
              "      <td>219</td>\n",
              "      <td>8</td>\n",
              "      <td>5</td>\n",
              "      <td>4</td>\n",
              "      <td>Газопровод внешнего транспорта</td>\n",
              "      <td>1</td>\n",
              "      <td>8.74</td>\n",
              "    </tr>\n",
              "    <tr>\n",
              "      <th>2</th>\n",
              "      <td>Нефтепровод от куста №1 до УПН Снежного нефтян...</td>\n",
              "      <td>труба</td>\n",
              "      <td>нефть</td>\n",
              "      <td>ЛВЖ</td>\n",
              "      <td>NaN</td>\n",
              "      <td>-20..20</td>\n",
              "      <td>4</td>\n",
              "      <td>142.0</td>\n",
              "      <td>300</td>\n",
              "      <td>3050</td>\n",
              "      <td>114</td>\n",
              "      <td>6</td>\n",
              "      <td>5</td>\n",
              "      <td>4</td>\n",
              "      <td>Газопровод внешнего транспорта</td>\n",
              "      <td>2</td>\n",
              "      <td>24.92</td>\n",
              "    </tr>\n",
              "    <tr>\n",
              "      <th>3</th>\n",
              "      <td>Нефтепровод от куста №1 до УПН Снежного нефтян...</td>\n",
              "      <td>труба</td>\n",
              "      <td>нефть</td>\n",
              "      <td>ЛВЖ</td>\n",
              "      <td>NaN</td>\n",
              "      <td>-20..20</td>\n",
              "      <td>4</td>\n",
              "      <td>142.0</td>\n",
              "      <td>300</td>\n",
              "      <td>706</td>\n",
              "      <td>159</td>\n",
              "      <td>6</td>\n",
              "      <td>5</td>\n",
              "      <td>4</td>\n",
              "      <td>Газопровод внешнего транспорта</td>\n",
              "      <td>3</td>\n",
              "      <td>11.98</td>\n",
              "    </tr>\n",
              "    <tr>\n",
              "      <th>4</th>\n",
              "      <td>Нефтепровод от куста №1 до УПН Снежного нефтян...</td>\n",
              "      <td>труба</td>\n",
              "      <td>нефть</td>\n",
              "      <td>ЛВЖ</td>\n",
              "      <td>NaN</td>\n",
              "      <td>-20..20</td>\n",
              "      <td>4</td>\n",
              "      <td>142.0</td>\n",
              "      <td>300</td>\n",
              "      <td>355</td>\n",
              "      <td>219</td>\n",
              "      <td>8</td>\n",
              "      <td>5</td>\n",
              "      <td>4</td>\n",
              "      <td>Газопровод внешнего транспорта</td>\n",
              "      <td>4</td>\n",
              "      <td>11.49</td>\n",
              "    </tr>\n",
              "    <tr>\n",
              "      <th>5</th>\n",
              "      <td>Нефтесборные сети куст №3 - т. вр. Куста № 1 - 1</td>\n",
              "      <td>труба</td>\n",
              "      <td>нефть</td>\n",
              "      <td>ЛВЖ</td>\n",
              "      <td>NaN</td>\n",
              "      <td>-20..20</td>\n",
              "      <td>4</td>\n",
              "      <td>95.1</td>\n",
              "      <td>300</td>\n",
              "      <td>3100</td>\n",
              "      <td>159</td>\n",
              "      <td>6</td>\n",
              "      <td>5</td>\n",
              "      <td>4</td>\n",
              "      <td>Газопровод внешнего транспорта</td>\n",
              "      <td>5</td>\n",
              "      <td>52.61</td>\n",
              "    </tr>\n",
              "  </tbody>\n",
              "</table>\n",
              "</div>\n",
              "      <button class=\"colab-df-convert\" onclick=\"convertToInteractive('df-527b518a-474b-41ad-85b9-98e2438b0d20')\"\n",
              "              title=\"Convert this dataframe to an interactive table.\"\n",
              "              style=\"display:none;\">\n",
              "        \n",
              "  <svg xmlns=\"http://www.w3.org/2000/svg\" height=\"24px\"viewBox=\"0 0 24 24\"\n",
              "       width=\"24px\">\n",
              "    <path d=\"M0 0h24v24H0V0z\" fill=\"none\"/>\n",
              "    <path d=\"M18.56 5.44l.94 2.06.94-2.06 2.06-.94-2.06-.94-.94-2.06-.94 2.06-2.06.94zm-11 1L8.5 8.5l.94-2.06 2.06-.94-2.06-.94L8.5 2.5l-.94 2.06-2.06.94zm10 10l.94 2.06.94-2.06 2.06-.94-2.06-.94-.94-2.06-.94 2.06-2.06.94z\"/><path d=\"M17.41 7.96l-1.37-1.37c-.4-.4-.92-.59-1.43-.59-.52 0-1.04.2-1.43.59L10.3 9.45l-7.72 7.72c-.78.78-.78 2.05 0 2.83L4 21.41c.39.39.9.59 1.41.59.51 0 1.02-.2 1.41-.59l7.78-7.78 2.81-2.81c.8-.78.8-2.07 0-2.86zM5.41 20L4 18.59l7.72-7.72 1.47 1.35L5.41 20z\"/>\n",
              "  </svg>\n",
              "      </button>\n",
              "      \n",
              "  <style>\n",
              "    .colab-df-container {\n",
              "      display:flex;\n",
              "      flex-wrap:wrap;\n",
              "      gap: 12px;\n",
              "    }\n",
              "\n",
              "    .colab-df-convert {\n",
              "      background-color: #E8F0FE;\n",
              "      border: none;\n",
              "      border-radius: 50%;\n",
              "      cursor: pointer;\n",
              "      display: none;\n",
              "      fill: #1967D2;\n",
              "      height: 32px;\n",
              "      padding: 0 0 0 0;\n",
              "      width: 32px;\n",
              "    }\n",
              "\n",
              "    .colab-df-convert:hover {\n",
              "      background-color: #E2EBFA;\n",
              "      box-shadow: 0px 1px 2px rgba(60, 64, 67, 0.3), 0px 1px 3px 1px rgba(60, 64, 67, 0.15);\n",
              "      fill: #174EA6;\n",
              "    }\n",
              "\n",
              "    [theme=dark] .colab-df-convert {\n",
              "      background-color: #3B4455;\n",
              "      fill: #D2E3FC;\n",
              "    }\n",
              "\n",
              "    [theme=dark] .colab-df-convert:hover {\n",
              "      background-color: #434B5C;\n",
              "      box-shadow: 0px 1px 3px 1px rgba(0, 0, 0, 0.15);\n",
              "      filter: drop-shadow(0px 1px 2px rgba(0, 0, 0, 0.3));\n",
              "      fill: #FFFFFF;\n",
              "    }\n",
              "  </style>\n",
              "\n",
              "      <script>\n",
              "        const buttonEl =\n",
              "          document.querySelector('#df-527b518a-474b-41ad-85b9-98e2438b0d20 button.colab-df-convert');\n",
              "        buttonEl.style.display =\n",
              "          google.colab.kernel.accessAllowed ? 'block' : 'none';\n",
              "\n",
              "        async function convertToInteractive(key) {\n",
              "          const element = document.querySelector('#df-527b518a-474b-41ad-85b9-98e2438b0d20');\n",
              "          const dataTable =\n",
              "            await google.colab.kernel.invokeFunction('convertToInteractive',\n",
              "                                                     [key], {});\n",
              "          if (!dataTable) return;\n",
              "\n",
              "          const docLinkHtml = 'Like what you see? Visit the ' +\n",
              "            '<a target=\"_blank\" href=https://colab.research.google.com/notebooks/data_table.ipynb>data table notebook</a>'\n",
              "            + ' to learn more about interactive tables.';\n",
              "          element.innerHTML = '';\n",
              "          dataTable['output_type'] = 'display_data';\n",
              "          await google.colab.output.renderOutput(dataTable, element);\n",
              "          const docLink = document.createElement('div');\n",
              "          docLink.innerHTML = docLinkHtml;\n",
              "          element.appendChild(docLink);\n",
              "        }\n",
              "      </script>\n",
              "    </div>\n",
              "  </div>\n",
              "  "
            ]
          },
          "metadata": {},
          "execution_count": 43
        }
      ]
    },
    {
      "cell_type": "code",
      "source": [
        "df['масса_в_участке'] = round(df['объем'] * ro, 2)"
      ],
      "metadata": {
        "id": "hjkT6fUZyou0"
      },
      "execution_count": 44,
      "outputs": []
    },
    {
      "cell_type": "markdown",
      "source": [
        "##Масса вещества участвующего в аварии и площади пролива"
      ],
      "metadata": {
        "id": "8Q8v5NAeoCeI"
      }
    },
    {
      "cell_type": "code",
      "source": [
        "preparation_df = pd.DataFrame(columns=['полная', 'частичная','площадь полная', 'площадь частичная', 'облако', 'твс'])"
      ],
      "metadata": {
        "id": "t53lKl1zNqcl"
      },
      "execution_count": 45,
      "outputs": []
    },
    {
      "cell_type": "code",
      "source": [
        "preparation_df.insert(0,'наименование оборудования', df['наименование оборудования'])"
      ],
      "metadata": {
        "id": "0Q673wGPNuvt"
      },
      "execution_count": 46,
      "outputs": []
    },
    {
      "cell_type": "code",
      "source": [
        "preparation_df['полная'] = df['масса_в_участке'] + df['Интенсивность прокачки, м3/сут']/3600 * ro  * df['время перекрытия']"
      ],
      "metadata": {
        "id": "-SHJjqjP32Z8"
      },
      "execution_count": 47,
      "outputs": []
    },
    {
      "cell_type": "code",
      "source": [
        "preparation_df['площадь полная'] = Strait_area(preparation_df['полная'], ro, df['Коэффициент подстил поверхности'])"
      ],
      "metadata": {
        "id": "UQ3tLWxT9zD9"
      },
      "execution_count": 48,
      "outputs": []
    },
    {
      "cell_type": "code",
      "source": [
        "preparation_df['облако'] = Evaporation_404() * 3600 * preparation_df['площадь полная']"
      ],
      "metadata": {
        "id": "zb0N1f9896Gb"
      },
      "execution_count": 49,
      "outputs": []
    },
    {
      "cell_type": "code",
      "source": [
        "preparation_df['твс'] = preparation_df['облако'] * 0.1"
      ],
      "metadata": {
        "id": "nMARsWNHB62u"
      },
      "execution_count": 50,
      "outputs": []
    },
    {
      "cell_type": "code",
      "source": [
        "preparation_df"
      ],
      "metadata": {
        "colab": {
          "base_uri": "https://localhost:8080/",
          "height": 363
        },
        "id": "If0SxkV934DD",
        "outputId": "fc88be03-4049-46b6-8fd9-58eccc5dd0ec"
      },
      "execution_count": 51,
      "outputs": [
        {
          "output_type": "execute_result",
          "data": {
            "text/plain": [
              "                           наименование оборудования      полная частичная  \\\n",
              "№                                                                            \n",
              "1  Нефтесборный коллектор \"Куст № 2 - т.в. Куста ...    9.708333       NaN   \n",
              "2  Нефтепровод от куста №1 до УПН Снежного нефтян...   32.711667       NaN   \n",
              "3  Нефтепровод от куста №1 до УПН Снежного нефтян...   21.191667       NaN   \n",
              "4  Нефтепровод от куста №1 до УПН Снежного нефтян...   20.761667       NaN   \n",
              "5   Нефтесборные сети куст №3 - т. вр. Куста № 1 - 1   53.873250       NaN   \n",
              "6   Нефтесборные сети куст №3 - т. вр. Куста № 1 - 2  122.273250       NaN   \n",
              "7  Внутрипромысловый нефтепровод Куст № 3 - Куст № 4   33.833250       NaN   \n",
              "8    Внутрипромысловый нефтерповод Куст №5 - Куст №3    8.503250       NaN   \n",
              "9  Внутрипромысловый нефтепровод Куст №6 - Вр. Ку...   12.873250       NaN   \n",
              "\n",
              "   площадь полная площадь частичная      облако        твс  \n",
              "№                                                           \n",
              "1       54.541199               NaN   21.769990   2.176999  \n",
              "2      183.773408               NaN   73.352721   7.335272  \n",
              "3      119.054307               NaN   47.520245   4.752025  \n",
              "4      116.638577               NaN   46.556012   4.655601  \n",
              "5      302.658708               NaN  120.805508  12.080551  \n",
              "6      686.928371               NaN  274.185835  27.418584  \n",
              "7      190.074438               NaN   75.867763   7.586776  \n",
              "8       47.771067               NaN   19.067709   1.906771  \n",
              "9       72.321629               NaN   28.867007   2.886701  "
            ],
            "text/html": [
              "\n",
              "  <div id=\"df-0f752994-ca87-4533-8a18-f093cad06680\">\n",
              "    <div class=\"colab-df-container\">\n",
              "      <div>\n",
              "<style scoped>\n",
              "    .dataframe tbody tr th:only-of-type {\n",
              "        vertical-align: middle;\n",
              "    }\n",
              "\n",
              "    .dataframe tbody tr th {\n",
              "        vertical-align: top;\n",
              "    }\n",
              "\n",
              "    .dataframe thead th {\n",
              "        text-align: right;\n",
              "    }\n",
              "</style>\n",
              "<table border=\"1\" class=\"dataframe\">\n",
              "  <thead>\n",
              "    <tr style=\"text-align: right;\">\n",
              "      <th></th>\n",
              "      <th>наименование оборудования</th>\n",
              "      <th>полная</th>\n",
              "      <th>частичная</th>\n",
              "      <th>площадь полная</th>\n",
              "      <th>площадь частичная</th>\n",
              "      <th>облако</th>\n",
              "      <th>твс</th>\n",
              "    </tr>\n",
              "    <tr>\n",
              "      <th>№</th>\n",
              "      <th></th>\n",
              "      <th></th>\n",
              "      <th></th>\n",
              "      <th></th>\n",
              "      <th></th>\n",
              "      <th></th>\n",
              "      <th></th>\n",
              "    </tr>\n",
              "  </thead>\n",
              "  <tbody>\n",
              "    <tr>\n",
              "      <th>1</th>\n",
              "      <td>Нефтесборный коллектор \"Куст № 2 - т.в. Куста ...</td>\n",
              "      <td>9.708333</td>\n",
              "      <td>NaN</td>\n",
              "      <td>54.541199</td>\n",
              "      <td>NaN</td>\n",
              "      <td>21.769990</td>\n",
              "      <td>2.176999</td>\n",
              "    </tr>\n",
              "    <tr>\n",
              "      <th>2</th>\n",
              "      <td>Нефтепровод от куста №1 до УПН Снежного нефтян...</td>\n",
              "      <td>32.711667</td>\n",
              "      <td>NaN</td>\n",
              "      <td>183.773408</td>\n",
              "      <td>NaN</td>\n",
              "      <td>73.352721</td>\n",
              "      <td>7.335272</td>\n",
              "    </tr>\n",
              "    <tr>\n",
              "      <th>3</th>\n",
              "      <td>Нефтепровод от куста №1 до УПН Снежного нефтян...</td>\n",
              "      <td>21.191667</td>\n",
              "      <td>NaN</td>\n",
              "      <td>119.054307</td>\n",
              "      <td>NaN</td>\n",
              "      <td>47.520245</td>\n",
              "      <td>4.752025</td>\n",
              "    </tr>\n",
              "    <tr>\n",
              "      <th>4</th>\n",
              "      <td>Нефтепровод от куста №1 до УПН Снежного нефтян...</td>\n",
              "      <td>20.761667</td>\n",
              "      <td>NaN</td>\n",
              "      <td>116.638577</td>\n",
              "      <td>NaN</td>\n",
              "      <td>46.556012</td>\n",
              "      <td>4.655601</td>\n",
              "    </tr>\n",
              "    <tr>\n",
              "      <th>5</th>\n",
              "      <td>Нефтесборные сети куст №3 - т. вр. Куста № 1 - 1</td>\n",
              "      <td>53.873250</td>\n",
              "      <td>NaN</td>\n",
              "      <td>302.658708</td>\n",
              "      <td>NaN</td>\n",
              "      <td>120.805508</td>\n",
              "      <td>12.080551</td>\n",
              "    </tr>\n",
              "    <tr>\n",
              "      <th>6</th>\n",
              "      <td>Нефтесборные сети куст №3 - т. вр. Куста № 1 - 2</td>\n",
              "      <td>122.273250</td>\n",
              "      <td>NaN</td>\n",
              "      <td>686.928371</td>\n",
              "      <td>NaN</td>\n",
              "      <td>274.185835</td>\n",
              "      <td>27.418584</td>\n",
              "    </tr>\n",
              "    <tr>\n",
              "      <th>7</th>\n",
              "      <td>Внутрипромысловый нефтепровод Куст № 3 - Куст № 4</td>\n",
              "      <td>33.833250</td>\n",
              "      <td>NaN</td>\n",
              "      <td>190.074438</td>\n",
              "      <td>NaN</td>\n",
              "      <td>75.867763</td>\n",
              "      <td>7.586776</td>\n",
              "    </tr>\n",
              "    <tr>\n",
              "      <th>8</th>\n",
              "      <td>Внутрипромысловый нефтерповод Куст №5 - Куст №3</td>\n",
              "      <td>8.503250</td>\n",
              "      <td>NaN</td>\n",
              "      <td>47.771067</td>\n",
              "      <td>NaN</td>\n",
              "      <td>19.067709</td>\n",
              "      <td>1.906771</td>\n",
              "    </tr>\n",
              "    <tr>\n",
              "      <th>9</th>\n",
              "      <td>Внутрипромысловый нефтепровод Куст №6 - Вр. Ку...</td>\n",
              "      <td>12.873250</td>\n",
              "      <td>NaN</td>\n",
              "      <td>72.321629</td>\n",
              "      <td>NaN</td>\n",
              "      <td>28.867007</td>\n",
              "      <td>2.886701</td>\n",
              "    </tr>\n",
              "  </tbody>\n",
              "</table>\n",
              "</div>\n",
              "      <button class=\"colab-df-convert\" onclick=\"convertToInteractive('df-0f752994-ca87-4533-8a18-f093cad06680')\"\n",
              "              title=\"Convert this dataframe to an interactive table.\"\n",
              "              style=\"display:none;\">\n",
              "        \n",
              "  <svg xmlns=\"http://www.w3.org/2000/svg\" height=\"24px\"viewBox=\"0 0 24 24\"\n",
              "       width=\"24px\">\n",
              "    <path d=\"M0 0h24v24H0V0z\" fill=\"none\"/>\n",
              "    <path d=\"M18.56 5.44l.94 2.06.94-2.06 2.06-.94-2.06-.94-.94-2.06-.94 2.06-2.06.94zm-11 1L8.5 8.5l.94-2.06 2.06-.94-2.06-.94L8.5 2.5l-.94 2.06-2.06.94zm10 10l.94 2.06.94-2.06 2.06-.94-2.06-.94-.94-2.06-.94 2.06-2.06.94z\"/><path d=\"M17.41 7.96l-1.37-1.37c-.4-.4-.92-.59-1.43-.59-.52 0-1.04.2-1.43.59L10.3 9.45l-7.72 7.72c-.78.78-.78 2.05 0 2.83L4 21.41c.39.39.9.59 1.41.59.51 0 1.02-.2 1.41-.59l7.78-7.78 2.81-2.81c.8-.78.8-2.07 0-2.86zM5.41 20L4 18.59l7.72-7.72 1.47 1.35L5.41 20z\"/>\n",
              "  </svg>\n",
              "      </button>\n",
              "      \n",
              "  <style>\n",
              "    .colab-df-container {\n",
              "      display:flex;\n",
              "      flex-wrap:wrap;\n",
              "      gap: 12px;\n",
              "    }\n",
              "\n",
              "    .colab-df-convert {\n",
              "      background-color: #E8F0FE;\n",
              "      border: none;\n",
              "      border-radius: 50%;\n",
              "      cursor: pointer;\n",
              "      display: none;\n",
              "      fill: #1967D2;\n",
              "      height: 32px;\n",
              "      padding: 0 0 0 0;\n",
              "      width: 32px;\n",
              "    }\n",
              "\n",
              "    .colab-df-convert:hover {\n",
              "      background-color: #E2EBFA;\n",
              "      box-shadow: 0px 1px 2px rgba(60, 64, 67, 0.3), 0px 1px 3px 1px rgba(60, 64, 67, 0.15);\n",
              "      fill: #174EA6;\n",
              "    }\n",
              "\n",
              "    [theme=dark] .colab-df-convert {\n",
              "      background-color: #3B4455;\n",
              "      fill: #D2E3FC;\n",
              "    }\n",
              "\n",
              "    [theme=dark] .colab-df-convert:hover {\n",
              "      background-color: #434B5C;\n",
              "      box-shadow: 0px 1px 3px 1px rgba(0, 0, 0, 0.15);\n",
              "      filter: drop-shadow(0px 1px 2px rgba(0, 0, 0, 0.3));\n",
              "      fill: #FFFFFF;\n",
              "    }\n",
              "  </style>\n",
              "\n",
              "      <script>\n",
              "        const buttonEl =\n",
              "          document.querySelector('#df-0f752994-ca87-4533-8a18-f093cad06680 button.colab-df-convert');\n",
              "        buttonEl.style.display =\n",
              "          google.colab.kernel.accessAllowed ? 'block' : 'none';\n",
              "\n",
              "        async function convertToInteractive(key) {\n",
              "          const element = document.querySelector('#df-0f752994-ca87-4533-8a18-f093cad06680');\n",
              "          const dataTable =\n",
              "            await google.colab.kernel.invokeFunction('convertToInteractive',\n",
              "                                                     [key], {});\n",
              "          if (!dataTable) return;\n",
              "\n",
              "          const docLinkHtml = 'Like what you see? Visit the ' +\n",
              "            '<a target=\"_blank\" href=https://colab.research.google.com/notebooks/data_table.ipynb>data table notebook</a>'\n",
              "            + ' to learn more about interactive tables.';\n",
              "          element.innerHTML = '';\n",
              "          dataTable['output_type'] = 'display_data';\n",
              "          await google.colab.output.renderOutput(dataTable, element);\n",
              "          const docLink = document.createElement('div');\n",
              "          docLink.innerHTML = docLinkHtml;\n",
              "          element.appendChild(docLink);\n",
              "        }\n",
              "      </script>\n",
              "    </div>\n",
              "  </div>\n",
              "  "
            ]
          },
          "metadata": {},
          "execution_count": 51
        }
      ]
    },
    {
      "cell_type": "markdown",
      "source": [
        "##С-2 Сценарий пожар-пролива"
      ],
      "metadata": {
        "id": "lOrkX1dNobeM"
      }
    },
    {
      "cell_type": "code",
      "source": [
        "scenario_c2_df = pd.DataFrame(columns=['10,5', '7,0','1,4'])"
      ],
      "metadata": {
        "id": "8AFliZIVCNEX"
      },
      "execution_count": 52,
      "outputs": []
    },
    {
      "cell_type": "code",
      "source": [
        "scenario_c2_df.insert(0,'наименование оборудования', df['наименование оборудования'] )"
      ],
      "metadata": {
        "id": "r_6V_imJIP9l"
      },
      "execution_count": 53,
      "outputs": []
    },
    {
      "cell_type": "code",
      "source": [
        "scenario_c2_df.insert(1,'площадь пожара', preparation_df['площадь полная'] )"
      ],
      "metadata": {
        "id": "YdkBl2wbITk1"
      },
      "execution_count": 54,
      "outputs": []
    },
    {
      "cell_type": "code",
      "source": [
        "for index, row in scenario_c2_df.iterrows():\n",
        "  result = StraitFire_404(row[1])\n",
        "  for key, value in result.items():\n",
        "    scenario_c2_df.loc[index, key] = value"
      ],
      "metadata": {
        "id": "spkx7AlVn7w_"
      },
      "execution_count": 55,
      "outputs": []
    },
    {
      "cell_type": "code",
      "source": [
        "scenario_c2_df"
      ],
      "metadata": {
        "colab": {
          "base_uri": "https://localhost:8080/",
          "height": 363
        },
        "id": "JHbtMG7vqJfJ",
        "outputId": "fef97fe7-efe2-4202-c125-470e656bc211"
      },
      "execution_count": 56,
      "outputs": [
        {
          "output_type": "execute_result",
          "data": {
            "text/plain": [
              "                           наименование оборудования  площадь пожара 10,5  \\\n",
              "№                                                                           \n",
              "1  Нефтесборный коллектор \"Куст № 2 - т.в. Куста ...       54.541199    -   \n",
              "2  Нефтепровод от куста №1 до УПН Снежного нефтян...      183.773408    -   \n",
              "3  Нефтепровод от куста №1 до УПН Снежного нефтян...      119.054307    -   \n",
              "4  Нефтепровод от куста №1 до УПН Снежного нефтян...      116.638577    -   \n",
              "5   Нефтесборные сети куст №3 - т. вр. Куста № 1 - 1      302.658708    -   \n",
              "6   Нефтесборные сети куст №3 - т. вр. Куста № 1 - 2      686.928371    -   \n",
              "7  Внутрипромысловый нефтепровод Куст № 3 - Куст № 4      190.074438    -   \n",
              "8    Внутрипромысловый нефтерповод Куст №5 - Куст №3       47.771067    -   \n",
              "9  Внутрипромысловый нефтепровод Куст №6 - Вр. Ку...       72.321629    -   \n",
              "\n",
              "    7,0    1,4  \n",
              "№               \n",
              "1  19.6   42.2  \n",
              "2  34.2   71.6  \n",
              "3  28.1   59.3  \n",
              "4  27.8   58.8  \n",
              "5  42.8   88.7  \n",
              "6  61.7  125.6  \n",
              "7  34.7   72.7  \n",
              "8  18.5   39.8  \n",
              "9  22.4   47.8  "
            ],
            "text/html": [
              "\n",
              "  <div id=\"df-d777c9cd-c57e-40cc-a838-26c7fd71ff7d\">\n",
              "    <div class=\"colab-df-container\">\n",
              "      <div>\n",
              "<style scoped>\n",
              "    .dataframe tbody tr th:only-of-type {\n",
              "        vertical-align: middle;\n",
              "    }\n",
              "\n",
              "    .dataframe tbody tr th {\n",
              "        vertical-align: top;\n",
              "    }\n",
              "\n",
              "    .dataframe thead th {\n",
              "        text-align: right;\n",
              "    }\n",
              "</style>\n",
              "<table border=\"1\" class=\"dataframe\">\n",
              "  <thead>\n",
              "    <tr style=\"text-align: right;\">\n",
              "      <th></th>\n",
              "      <th>наименование оборудования</th>\n",
              "      <th>площадь пожара</th>\n",
              "      <th>10,5</th>\n",
              "      <th>7,0</th>\n",
              "      <th>1,4</th>\n",
              "    </tr>\n",
              "    <tr>\n",
              "      <th>№</th>\n",
              "      <th></th>\n",
              "      <th></th>\n",
              "      <th></th>\n",
              "      <th></th>\n",
              "      <th></th>\n",
              "    </tr>\n",
              "  </thead>\n",
              "  <tbody>\n",
              "    <tr>\n",
              "      <th>1</th>\n",
              "      <td>Нефтесборный коллектор \"Куст № 2 - т.в. Куста ...</td>\n",
              "      <td>54.541199</td>\n",
              "      <td>-</td>\n",
              "      <td>19.6</td>\n",
              "      <td>42.2</td>\n",
              "    </tr>\n",
              "    <tr>\n",
              "      <th>2</th>\n",
              "      <td>Нефтепровод от куста №1 до УПН Снежного нефтян...</td>\n",
              "      <td>183.773408</td>\n",
              "      <td>-</td>\n",
              "      <td>34.2</td>\n",
              "      <td>71.6</td>\n",
              "    </tr>\n",
              "    <tr>\n",
              "      <th>3</th>\n",
              "      <td>Нефтепровод от куста №1 до УПН Снежного нефтян...</td>\n",
              "      <td>119.054307</td>\n",
              "      <td>-</td>\n",
              "      <td>28.1</td>\n",
              "      <td>59.3</td>\n",
              "    </tr>\n",
              "    <tr>\n",
              "      <th>4</th>\n",
              "      <td>Нефтепровод от куста №1 до УПН Снежного нефтян...</td>\n",
              "      <td>116.638577</td>\n",
              "      <td>-</td>\n",
              "      <td>27.8</td>\n",
              "      <td>58.8</td>\n",
              "    </tr>\n",
              "    <tr>\n",
              "      <th>5</th>\n",
              "      <td>Нефтесборные сети куст №3 - т. вр. Куста № 1 - 1</td>\n",
              "      <td>302.658708</td>\n",
              "      <td>-</td>\n",
              "      <td>42.8</td>\n",
              "      <td>88.7</td>\n",
              "    </tr>\n",
              "    <tr>\n",
              "      <th>6</th>\n",
              "      <td>Нефтесборные сети куст №3 - т. вр. Куста № 1 - 2</td>\n",
              "      <td>686.928371</td>\n",
              "      <td>-</td>\n",
              "      <td>61.7</td>\n",
              "      <td>125.6</td>\n",
              "    </tr>\n",
              "    <tr>\n",
              "      <th>7</th>\n",
              "      <td>Внутрипромысловый нефтепровод Куст № 3 - Куст № 4</td>\n",
              "      <td>190.074438</td>\n",
              "      <td>-</td>\n",
              "      <td>34.7</td>\n",
              "      <td>72.7</td>\n",
              "    </tr>\n",
              "    <tr>\n",
              "      <th>8</th>\n",
              "      <td>Внутрипромысловый нефтерповод Куст №5 - Куст №3</td>\n",
              "      <td>47.771067</td>\n",
              "      <td>-</td>\n",
              "      <td>18.5</td>\n",
              "      <td>39.8</td>\n",
              "    </tr>\n",
              "    <tr>\n",
              "      <th>9</th>\n",
              "      <td>Внутрипромысловый нефтепровод Куст №6 - Вр. Ку...</td>\n",
              "      <td>72.321629</td>\n",
              "      <td>-</td>\n",
              "      <td>22.4</td>\n",
              "      <td>47.8</td>\n",
              "    </tr>\n",
              "  </tbody>\n",
              "</table>\n",
              "</div>\n",
              "      <button class=\"colab-df-convert\" onclick=\"convertToInteractive('df-d777c9cd-c57e-40cc-a838-26c7fd71ff7d')\"\n",
              "              title=\"Convert this dataframe to an interactive table.\"\n",
              "              style=\"display:none;\">\n",
              "        \n",
              "  <svg xmlns=\"http://www.w3.org/2000/svg\" height=\"24px\"viewBox=\"0 0 24 24\"\n",
              "       width=\"24px\">\n",
              "    <path d=\"M0 0h24v24H0V0z\" fill=\"none\"/>\n",
              "    <path d=\"M18.56 5.44l.94 2.06.94-2.06 2.06-.94-2.06-.94-.94-2.06-.94 2.06-2.06.94zm-11 1L8.5 8.5l.94-2.06 2.06-.94-2.06-.94L8.5 2.5l-.94 2.06-2.06.94zm10 10l.94 2.06.94-2.06 2.06-.94-2.06-.94-.94-2.06-.94 2.06-2.06.94z\"/><path d=\"M17.41 7.96l-1.37-1.37c-.4-.4-.92-.59-1.43-.59-.52 0-1.04.2-1.43.59L10.3 9.45l-7.72 7.72c-.78.78-.78 2.05 0 2.83L4 21.41c.39.39.9.59 1.41.59.51 0 1.02-.2 1.41-.59l7.78-7.78 2.81-2.81c.8-.78.8-2.07 0-2.86zM5.41 20L4 18.59l7.72-7.72 1.47 1.35L5.41 20z\"/>\n",
              "  </svg>\n",
              "      </button>\n",
              "      \n",
              "  <style>\n",
              "    .colab-df-container {\n",
              "      display:flex;\n",
              "      flex-wrap:wrap;\n",
              "      gap: 12px;\n",
              "    }\n",
              "\n",
              "    .colab-df-convert {\n",
              "      background-color: #E8F0FE;\n",
              "      border: none;\n",
              "      border-radius: 50%;\n",
              "      cursor: pointer;\n",
              "      display: none;\n",
              "      fill: #1967D2;\n",
              "      height: 32px;\n",
              "      padding: 0 0 0 0;\n",
              "      width: 32px;\n",
              "    }\n",
              "\n",
              "    .colab-df-convert:hover {\n",
              "      background-color: #E2EBFA;\n",
              "      box-shadow: 0px 1px 2px rgba(60, 64, 67, 0.3), 0px 1px 3px 1px rgba(60, 64, 67, 0.15);\n",
              "      fill: #174EA6;\n",
              "    }\n",
              "\n",
              "    [theme=dark] .colab-df-convert {\n",
              "      background-color: #3B4455;\n",
              "      fill: #D2E3FC;\n",
              "    }\n",
              "\n",
              "    [theme=dark] .colab-df-convert:hover {\n",
              "      background-color: #434B5C;\n",
              "      box-shadow: 0px 1px 3px 1px rgba(0, 0, 0, 0.15);\n",
              "      filter: drop-shadow(0px 1px 2px rgba(0, 0, 0, 0.3));\n",
              "      fill: #FFFFFF;\n",
              "    }\n",
              "  </style>\n",
              "\n",
              "      <script>\n",
              "        const buttonEl =\n",
              "          document.querySelector('#df-d777c9cd-c57e-40cc-a838-26c7fd71ff7d button.colab-df-convert');\n",
              "        buttonEl.style.display =\n",
              "          google.colab.kernel.accessAllowed ? 'block' : 'none';\n",
              "\n",
              "        async function convertToInteractive(key) {\n",
              "          const element = document.querySelector('#df-d777c9cd-c57e-40cc-a838-26c7fd71ff7d');\n",
              "          const dataTable =\n",
              "            await google.colab.kernel.invokeFunction('convertToInteractive',\n",
              "                                                     [key], {});\n",
              "          if (!dataTable) return;\n",
              "\n",
              "          const docLinkHtml = 'Like what you see? Visit the ' +\n",
              "            '<a target=\"_blank\" href=https://colab.research.google.com/notebooks/data_table.ipynb>data table notebook</a>'\n",
              "            + ' to learn more about interactive tables.';\n",
              "          element.innerHTML = '';\n",
              "          dataTable['output_type'] = 'display_data';\n",
              "          await google.colab.output.renderOutput(dataTable, element);\n",
              "          const docLink = document.createElement('div');\n",
              "          docLink.innerHTML = docLinkHtml;\n",
              "          element.appendChild(docLink);\n",
              "        }\n",
              "      </script>\n",
              "    </div>\n",
              "  </div>\n",
              "  "
            ]
          },
          "metadata": {},
          "execution_count": 56
        }
      ]
    },
    {
      "cell_type": "markdown",
      "source": [
        "##С-3 Сценарий пожар вспышка"
      ],
      "metadata": {
        "id": "6G7dFTV0onJu"
      }
    },
    {
      "cell_type": "code",
      "source": [
        "scenario_c3_df = pd.DataFrame(columns=['вспышка'])"
      ],
      "metadata": {
        "id": "6-KlxTJhRtly"
      },
      "execution_count": 57,
      "outputs": []
    },
    {
      "cell_type": "code",
      "source": [
        "scenario_c3_df.insert(0,'наименование оборудования', df['наименование оборудования'] )"
      ],
      "metadata": {
        "id": "xqDCweg5xjUo"
      },
      "execution_count": 58,
      "outputs": []
    },
    {
      "cell_type": "code",
      "source": [
        "scenario_c3_df['вспышка'] = fire_flash_404(preparation_df['облако'])"
      ],
      "metadata": {
        "id": "LKUghgHlxpWY"
      },
      "execution_count": 59,
      "outputs": []
    },
    {
      "cell_type": "markdown",
      "source": [
        "##С-4 Сценарий Взрыв ТВС"
      ],
      "metadata": {
        "id": "aDK0Aj0lpYxC"
      }
    },
    {
      "cell_type": "code",
      "source": [
        "scenario_c4_df = pd.DataFrame(columns=['100', '53','28', '12', '5', '3'])"
      ],
      "metadata": {
        "id": "8GXdpIVWzSxJ"
      },
      "execution_count": 60,
      "outputs": []
    },
    {
      "cell_type": "code",
      "source": [
        "scenario_c4_df.insert(0,'наименование оборудования', df['наименование оборудования'] )"
      ],
      "metadata": {
        "id": "X_Y3e2StpX2b"
      },
      "execution_count": 61,
      "outputs": []
    },
    {
      "cell_type": "code",
      "source": [
        "scenario_c4_df.insert(1,'масса', preparation_df['твс'] )"
      ],
      "metadata": {
        "id": "52WUDdUnqnkb"
      },
      "execution_count": 62,
      "outputs": []
    },
    {
      "cell_type": "code",
      "source": [
        "for index, row in scenario_c4_df.iterrows():\n",
        "  result = TVS_404(row[1])\n",
        "  for key, value in result.items():\n",
        "    scenario_c4_df.loc[index, key] = value"
      ],
      "metadata": {
        "id": "VxE-F0wwpnZD"
      },
      "execution_count": 63,
      "outputs": []
    },
    {
      "cell_type": "code",
      "source": [
        "scenario_c4_df"
      ],
      "metadata": {
        "colab": {
          "base_uri": "https://localhost:8080/",
          "height": 363
        },
        "id": "kpMk-ofkpfLw",
        "outputId": "de6b48b1-f122-4ac4-feaa-367a1c1bf7ae"
      },
      "execution_count": 64,
      "outputs": [
        {
          "output_type": "execute_result",
          "data": {
            "text/plain": [
              "                           наименование оборудования      масса 100 53 28 12  \\\n",
              "№                                                                              \n",
              "1  Нефтесборный коллектор \"Куст № 2 - т.в. Куста ...   2.176999   -  -  -  -   \n",
              "2  Нефтепровод от куста №1 до УПН Снежного нефтян...   7.335272   -  -  -  -   \n",
              "3  Нефтепровод от куста №1 до УПН Снежного нефтян...   4.752025   -  -  -  -   \n",
              "4  Нефтепровод от куста №1 до УПН Снежного нефтян...   4.655601   -  -  -  -   \n",
              "5   Нефтесборные сети куст №3 - т. вр. Куста № 1 - 1  12.080551   -  -  -  -   \n",
              "6   Нефтесборные сети куст №3 - т. вр. Куста № 1 - 2  27.418584   -  -  -  -   \n",
              "7  Внутрипромысловый нефтепровод Куст № 3 - Куст № 4   7.586776   -  -  -  -   \n",
              "8    Внутрипромысловый нефтерповод Куст №5 - Куст №3   1.906771   -  -  -  -   \n",
              "9  Внутрипромысловый нефтепровод Куст №6 - Вр. Ку...   2.886701   -  -  -  -   \n",
              "\n",
              "     5     3  \n",
              "№             \n",
              "1    -     -  \n",
              "2    -   7.5  \n",
              "3    -     -  \n",
              "4    -     -  \n",
              "5    -     -  \n",
              "6  9.6  22.7  \n",
              "7    -     -  \n",
              "8    -     -  \n",
              "9    -     -  "
            ],
            "text/html": [
              "\n",
              "  <div id=\"df-0a88d68a-1be1-4e97-a587-941d8628b233\">\n",
              "    <div class=\"colab-df-container\">\n",
              "      <div>\n",
              "<style scoped>\n",
              "    .dataframe tbody tr th:only-of-type {\n",
              "        vertical-align: middle;\n",
              "    }\n",
              "\n",
              "    .dataframe tbody tr th {\n",
              "        vertical-align: top;\n",
              "    }\n",
              "\n",
              "    .dataframe thead th {\n",
              "        text-align: right;\n",
              "    }\n",
              "</style>\n",
              "<table border=\"1\" class=\"dataframe\">\n",
              "  <thead>\n",
              "    <tr style=\"text-align: right;\">\n",
              "      <th></th>\n",
              "      <th>наименование оборудования</th>\n",
              "      <th>масса</th>\n",
              "      <th>100</th>\n",
              "      <th>53</th>\n",
              "      <th>28</th>\n",
              "      <th>12</th>\n",
              "      <th>5</th>\n",
              "      <th>3</th>\n",
              "    </tr>\n",
              "    <tr>\n",
              "      <th>№</th>\n",
              "      <th></th>\n",
              "      <th></th>\n",
              "      <th></th>\n",
              "      <th></th>\n",
              "      <th></th>\n",
              "      <th></th>\n",
              "      <th></th>\n",
              "      <th></th>\n",
              "    </tr>\n",
              "  </thead>\n",
              "  <tbody>\n",
              "    <tr>\n",
              "      <th>1</th>\n",
              "      <td>Нефтесборный коллектор \"Куст № 2 - т.в. Куста ...</td>\n",
              "      <td>2.176999</td>\n",
              "      <td>-</td>\n",
              "      <td>-</td>\n",
              "      <td>-</td>\n",
              "      <td>-</td>\n",
              "      <td>-</td>\n",
              "      <td>-</td>\n",
              "    </tr>\n",
              "    <tr>\n",
              "      <th>2</th>\n",
              "      <td>Нефтепровод от куста №1 до УПН Снежного нефтян...</td>\n",
              "      <td>7.335272</td>\n",
              "      <td>-</td>\n",
              "      <td>-</td>\n",
              "      <td>-</td>\n",
              "      <td>-</td>\n",
              "      <td>-</td>\n",
              "      <td>7.5</td>\n",
              "    </tr>\n",
              "    <tr>\n",
              "      <th>3</th>\n",
              "      <td>Нефтепровод от куста №1 до УПН Снежного нефтян...</td>\n",
              "      <td>4.752025</td>\n",
              "      <td>-</td>\n",
              "      <td>-</td>\n",
              "      <td>-</td>\n",
              "      <td>-</td>\n",
              "      <td>-</td>\n",
              "      <td>-</td>\n",
              "    </tr>\n",
              "    <tr>\n",
              "      <th>4</th>\n",
              "      <td>Нефтепровод от куста №1 до УПН Снежного нефтян...</td>\n",
              "      <td>4.655601</td>\n",
              "      <td>-</td>\n",
              "      <td>-</td>\n",
              "      <td>-</td>\n",
              "      <td>-</td>\n",
              "      <td>-</td>\n",
              "      <td>-</td>\n",
              "    </tr>\n",
              "    <tr>\n",
              "      <th>5</th>\n",
              "      <td>Нефтесборные сети куст №3 - т. вр. Куста № 1 - 1</td>\n",
              "      <td>12.080551</td>\n",
              "      <td>-</td>\n",
              "      <td>-</td>\n",
              "      <td>-</td>\n",
              "      <td>-</td>\n",
              "      <td>-</td>\n",
              "      <td>-</td>\n",
              "    </tr>\n",
              "    <tr>\n",
              "      <th>6</th>\n",
              "      <td>Нефтесборные сети куст №3 - т. вр. Куста № 1 - 2</td>\n",
              "      <td>27.418584</td>\n",
              "      <td>-</td>\n",
              "      <td>-</td>\n",
              "      <td>-</td>\n",
              "      <td>-</td>\n",
              "      <td>9.6</td>\n",
              "      <td>22.7</td>\n",
              "    </tr>\n",
              "    <tr>\n",
              "      <th>7</th>\n",
              "      <td>Внутрипромысловый нефтепровод Куст № 3 - Куст № 4</td>\n",
              "      <td>7.586776</td>\n",
              "      <td>-</td>\n",
              "      <td>-</td>\n",
              "      <td>-</td>\n",
              "      <td>-</td>\n",
              "      <td>-</td>\n",
              "      <td>-</td>\n",
              "    </tr>\n",
              "    <tr>\n",
              "      <th>8</th>\n",
              "      <td>Внутрипромысловый нефтерповод Куст №5 - Куст №3</td>\n",
              "      <td>1.906771</td>\n",
              "      <td>-</td>\n",
              "      <td>-</td>\n",
              "      <td>-</td>\n",
              "      <td>-</td>\n",
              "      <td>-</td>\n",
              "      <td>-</td>\n",
              "    </tr>\n",
              "    <tr>\n",
              "      <th>9</th>\n",
              "      <td>Внутрипромысловый нефтепровод Куст №6 - Вр. Ку...</td>\n",
              "      <td>2.886701</td>\n",
              "      <td>-</td>\n",
              "      <td>-</td>\n",
              "      <td>-</td>\n",
              "      <td>-</td>\n",
              "      <td>-</td>\n",
              "      <td>-</td>\n",
              "    </tr>\n",
              "  </tbody>\n",
              "</table>\n",
              "</div>\n",
              "      <button class=\"colab-df-convert\" onclick=\"convertToInteractive('df-0a88d68a-1be1-4e97-a587-941d8628b233')\"\n",
              "              title=\"Convert this dataframe to an interactive table.\"\n",
              "              style=\"display:none;\">\n",
              "        \n",
              "  <svg xmlns=\"http://www.w3.org/2000/svg\" height=\"24px\"viewBox=\"0 0 24 24\"\n",
              "       width=\"24px\">\n",
              "    <path d=\"M0 0h24v24H0V0z\" fill=\"none\"/>\n",
              "    <path d=\"M18.56 5.44l.94 2.06.94-2.06 2.06-.94-2.06-.94-.94-2.06-.94 2.06-2.06.94zm-11 1L8.5 8.5l.94-2.06 2.06-.94-2.06-.94L8.5 2.5l-.94 2.06-2.06.94zm10 10l.94 2.06.94-2.06 2.06-.94-2.06-.94-.94-2.06-.94 2.06-2.06.94z\"/><path d=\"M17.41 7.96l-1.37-1.37c-.4-.4-.92-.59-1.43-.59-.52 0-1.04.2-1.43.59L10.3 9.45l-7.72 7.72c-.78.78-.78 2.05 0 2.83L4 21.41c.39.39.9.59 1.41.59.51 0 1.02-.2 1.41-.59l7.78-7.78 2.81-2.81c.8-.78.8-2.07 0-2.86zM5.41 20L4 18.59l7.72-7.72 1.47 1.35L5.41 20z\"/>\n",
              "  </svg>\n",
              "      </button>\n",
              "      \n",
              "  <style>\n",
              "    .colab-df-container {\n",
              "      display:flex;\n",
              "      flex-wrap:wrap;\n",
              "      gap: 12px;\n",
              "    }\n",
              "\n",
              "    .colab-df-convert {\n",
              "      background-color: #E8F0FE;\n",
              "      border: none;\n",
              "      border-radius: 50%;\n",
              "      cursor: pointer;\n",
              "      display: none;\n",
              "      fill: #1967D2;\n",
              "      height: 32px;\n",
              "      padding: 0 0 0 0;\n",
              "      width: 32px;\n",
              "    }\n",
              "\n",
              "    .colab-df-convert:hover {\n",
              "      background-color: #E2EBFA;\n",
              "      box-shadow: 0px 1px 2px rgba(60, 64, 67, 0.3), 0px 1px 3px 1px rgba(60, 64, 67, 0.15);\n",
              "      fill: #174EA6;\n",
              "    }\n",
              "\n",
              "    [theme=dark] .colab-df-convert {\n",
              "      background-color: #3B4455;\n",
              "      fill: #D2E3FC;\n",
              "    }\n",
              "\n",
              "    [theme=dark] .colab-df-convert:hover {\n",
              "      background-color: #434B5C;\n",
              "      box-shadow: 0px 1px 3px 1px rgba(0, 0, 0, 0.15);\n",
              "      filter: drop-shadow(0px 1px 2px rgba(0, 0, 0, 0.3));\n",
              "      fill: #FFFFFF;\n",
              "    }\n",
              "  </style>\n",
              "\n",
              "      <script>\n",
              "        const buttonEl =\n",
              "          document.querySelector('#df-0a88d68a-1be1-4e97-a587-941d8628b233 button.colab-df-convert');\n",
              "        buttonEl.style.display =\n",
              "          google.colab.kernel.accessAllowed ? 'block' : 'none';\n",
              "\n",
              "        async function convertToInteractive(key) {\n",
              "          const element = document.querySelector('#df-0a88d68a-1be1-4e97-a587-941d8628b233');\n",
              "          const dataTable =\n",
              "            await google.colab.kernel.invokeFunction('convertToInteractive',\n",
              "                                                     [key], {});\n",
              "          if (!dataTable) return;\n",
              "\n",
              "          const docLinkHtml = 'Like what you see? Visit the ' +\n",
              "            '<a target=\"_blank\" href=https://colab.research.google.com/notebooks/data_table.ipynb>data table notebook</a>'\n",
              "            + ' to learn more about interactive tables.';\n",
              "          element.innerHTML = '';\n",
              "          dataTable['output_type'] = 'display_data';\n",
              "          await google.colab.output.renderOutput(dataTable, element);\n",
              "          const docLink = document.createElement('div');\n",
              "          docLink.innerHTML = docLinkHtml;\n",
              "          element.appendChild(docLink);\n",
              "        }\n",
              "      </script>\n",
              "    </div>\n",
              "  </div>\n",
              "  "
            ]
          },
          "metadata": {},
          "execution_count": 64
        }
      ]
    },
    {
      "cell_type": "markdown",
      "source": [
        "##Определение вероятности реализации событий"
      ],
      "metadata": {
        "id": "xEbzOgSc0EMZ"
      }
    },
    {
      "cell_type": "code",
      "source": [
        "frequencies_df = pd.DataFrame(columns=['полная','частичная',\n",
        "                                       'С-1А(п)', 'С-1А(ч)', 'С-2', 'С-3', 'С-4' ]) "
      ],
      "metadata": {
        "id": "8ZwcgZoopjw6"
      },
      "execution_count": 65,
      "outputs": []
    },
    {
      "cell_type": "code",
      "source": [
        "frequencies_df.insert(0,'наименование оборудования', df['наименование оборудования'] )"
      ],
      "metadata": {
        "id": "UisQSzJR32Zc"
      },
      "execution_count": 66,
      "outputs": []
    },
    {
      "cell_type": "markdown",
      "source": [
        "Расчитываем вероятность возникновения иницирующих событий с учетом длины трубопроводов"
      ],
      "metadata": {
        "id": "VETXkwBNVXUx"
      }
    },
    {
      "cell_type": "code",
      "source": [
        "for index, row in df.iterrows():\n",
        "  result = frequencies_pipline(row['диаметр']) \n",
        "  for key, value in result.items():\n",
        "    frequencies_df.loc[index, key] = value * row['Протяженность, м']"
      ],
      "metadata": {
        "id": "_cPnt9Jy4A_j"
      },
      "execution_count": 67,
      "outputs": []
    },
    {
      "cell_type": "markdown",
      "source": [
        "Расчитываем вероятность возникновения различных сценариев"
      ],
      "metadata": {
        "id": "YhfruHeRWNN1"
      }
    },
    {
      "cell_type": "code",
      "source": [
        "for index, row in frequencies_df.iterrows():\n",
        "  \n",
        "   frequencies_df.loc[index, 'С-1А(п)'] = row['полная'] * scenario_lvz['полная']['пролив']\n",
        "   frequencies_df.loc[index, 'С-1А(ч)'] = row['частичная'] * scenario_lvz['частичная']['пролив']\n",
        "   frequencies_df.loc[index, 'С-2'] = row['полная'] * scenario_lvz['полная']['пожар']\n",
        "   frequencies_df.loc[index, 'С-3'] = row['полная'] * scenario_lvz['полная']['вспышка']\n",
        "   frequencies_df.loc[index, 'С-4'] = row['полная'] * scenario_lvz['полная']['ТВС'] "
      ],
      "metadata": {
        "id": "W2URbLDFMD89"
      },
      "execution_count": 68,
      "outputs": []
    },
    {
      "cell_type": "code",
      "source": [
        "frequencies_df"
      ],
      "metadata": {
        "colab": {
          "base_uri": "https://localhost:8080/",
          "height": 363
        },
        "id": "FpF6ytqstpsk",
        "outputId": "a9274786-d3d9-4e22-afdd-969b352f4d73"
      },
      "execution_count": 69,
      "outputs": [
        {
          "output_type": "execute_result",
          "data": {
            "text/plain": [
              "                           наименование оборудования    полная частичная  \\\n",
              "№                                                                          \n",
              "1  Нефтесборный коллектор \"Куст № 2 - т.в. Куста ...  0.000135  0.000027   \n",
              "2  Нефтепровод от куста №1 до УПН Снежного нефтян...    0.0061  0.000915   \n",
              "3  Нефтепровод от куста №1 до УПН Снежного нефтян...  0.000353  0.000071   \n",
              "4  Нефтепровод от куста №1 до УПН Снежного нефтян...  0.000178  0.000035   \n",
              "5   Нефтесборные сети куст №3 - т. вр. Куста № 1 - 1   0.00155   0.00031   \n",
              "6   Нефтесборные сети куст №3 - т. вр. Куста № 1 - 2     0.002    0.0004   \n",
              "7  Внутрипромысловый нефтепровод Куст № 3 - Куст № 4  0.000886  0.000177   \n",
              "8    Внутрипромысловый нефтерповод Куст №5 - Куст №3  0.000824  0.000124   \n",
              "9  Внутрипромысловый нефтепровод Куст №6 - Вр. Ку...  0.000203  0.000041   \n",
              "\n",
              "    С-1А(п)   С-1А(ч)       С-2       С-3       С-4  \n",
              "№                                                    \n",
              "1  0.000082  0.000025  0.000027   0.00001  0.000016  \n",
              "2  0.003709  0.000851   0.00122  0.000468  0.000703  \n",
              "3  0.000215  0.000066  0.000071  0.000027  0.000041  \n",
              "4  0.000108  0.000033  0.000036  0.000014   0.00002  \n",
              "5  0.000942  0.000288   0.00031  0.000119  0.000179  \n",
              "6  0.001216  0.000372    0.0004  0.000154   0.00023  \n",
              "7  0.000539  0.000165  0.000177  0.000068  0.000102  \n",
              "8  0.000501  0.000115  0.000165  0.000063  0.000095  \n",
              "9  0.000124  0.000038  0.000041  0.000016  0.000023  "
            ],
            "text/html": [
              "\n",
              "  <div id=\"df-300a2a02-dc9c-405c-811e-6a2ee4d28eed\">\n",
              "    <div class=\"colab-df-container\">\n",
              "      <div>\n",
              "<style scoped>\n",
              "    .dataframe tbody tr th:only-of-type {\n",
              "        vertical-align: middle;\n",
              "    }\n",
              "\n",
              "    .dataframe tbody tr th {\n",
              "        vertical-align: top;\n",
              "    }\n",
              "\n",
              "    .dataframe thead th {\n",
              "        text-align: right;\n",
              "    }\n",
              "</style>\n",
              "<table border=\"1\" class=\"dataframe\">\n",
              "  <thead>\n",
              "    <tr style=\"text-align: right;\">\n",
              "      <th></th>\n",
              "      <th>наименование оборудования</th>\n",
              "      <th>полная</th>\n",
              "      <th>частичная</th>\n",
              "      <th>С-1А(п)</th>\n",
              "      <th>С-1А(ч)</th>\n",
              "      <th>С-2</th>\n",
              "      <th>С-3</th>\n",
              "      <th>С-4</th>\n",
              "    </tr>\n",
              "    <tr>\n",
              "      <th>№</th>\n",
              "      <th></th>\n",
              "      <th></th>\n",
              "      <th></th>\n",
              "      <th></th>\n",
              "      <th></th>\n",
              "      <th></th>\n",
              "      <th></th>\n",
              "      <th></th>\n",
              "    </tr>\n",
              "  </thead>\n",
              "  <tbody>\n",
              "    <tr>\n",
              "      <th>1</th>\n",
              "      <td>Нефтесборный коллектор \"Куст № 2 - т.в. Куста ...</td>\n",
              "      <td>0.000135</td>\n",
              "      <td>0.000027</td>\n",
              "      <td>0.000082</td>\n",
              "      <td>0.000025</td>\n",
              "      <td>0.000027</td>\n",
              "      <td>0.00001</td>\n",
              "      <td>0.000016</td>\n",
              "    </tr>\n",
              "    <tr>\n",
              "      <th>2</th>\n",
              "      <td>Нефтепровод от куста №1 до УПН Снежного нефтян...</td>\n",
              "      <td>0.0061</td>\n",
              "      <td>0.000915</td>\n",
              "      <td>0.003709</td>\n",
              "      <td>0.000851</td>\n",
              "      <td>0.00122</td>\n",
              "      <td>0.000468</td>\n",
              "      <td>0.000703</td>\n",
              "    </tr>\n",
              "    <tr>\n",
              "      <th>3</th>\n",
              "      <td>Нефтепровод от куста №1 до УПН Снежного нефтян...</td>\n",
              "      <td>0.000353</td>\n",
              "      <td>0.000071</td>\n",
              "      <td>0.000215</td>\n",
              "      <td>0.000066</td>\n",
              "      <td>0.000071</td>\n",
              "      <td>0.000027</td>\n",
              "      <td>0.000041</td>\n",
              "    </tr>\n",
              "    <tr>\n",
              "      <th>4</th>\n",
              "      <td>Нефтепровод от куста №1 до УПН Снежного нефтян...</td>\n",
              "      <td>0.000178</td>\n",
              "      <td>0.000035</td>\n",
              "      <td>0.000108</td>\n",
              "      <td>0.000033</td>\n",
              "      <td>0.000036</td>\n",
              "      <td>0.000014</td>\n",
              "      <td>0.00002</td>\n",
              "    </tr>\n",
              "    <tr>\n",
              "      <th>5</th>\n",
              "      <td>Нефтесборные сети куст №3 - т. вр. Куста № 1 - 1</td>\n",
              "      <td>0.00155</td>\n",
              "      <td>0.00031</td>\n",
              "      <td>0.000942</td>\n",
              "      <td>0.000288</td>\n",
              "      <td>0.00031</td>\n",
              "      <td>0.000119</td>\n",
              "      <td>0.000179</td>\n",
              "    </tr>\n",
              "    <tr>\n",
              "      <th>6</th>\n",
              "      <td>Нефтесборные сети куст №3 - т. вр. Куста № 1 - 2</td>\n",
              "      <td>0.002</td>\n",
              "      <td>0.0004</td>\n",
              "      <td>0.001216</td>\n",
              "      <td>0.000372</td>\n",
              "      <td>0.0004</td>\n",
              "      <td>0.000154</td>\n",
              "      <td>0.00023</td>\n",
              "    </tr>\n",
              "    <tr>\n",
              "      <th>7</th>\n",
              "      <td>Внутрипромысловый нефтепровод Куст № 3 - Куст № 4</td>\n",
              "      <td>0.000886</td>\n",
              "      <td>0.000177</td>\n",
              "      <td>0.000539</td>\n",
              "      <td>0.000165</td>\n",
              "      <td>0.000177</td>\n",
              "      <td>0.000068</td>\n",
              "      <td>0.000102</td>\n",
              "    </tr>\n",
              "    <tr>\n",
              "      <th>8</th>\n",
              "      <td>Внутрипромысловый нефтерповод Куст №5 - Куст №3</td>\n",
              "      <td>0.000824</td>\n",
              "      <td>0.000124</td>\n",
              "      <td>0.000501</td>\n",
              "      <td>0.000115</td>\n",
              "      <td>0.000165</td>\n",
              "      <td>0.000063</td>\n",
              "      <td>0.000095</td>\n",
              "    </tr>\n",
              "    <tr>\n",
              "      <th>9</th>\n",
              "      <td>Внутрипромысловый нефтепровод Куст №6 - Вр. Ку...</td>\n",
              "      <td>0.000203</td>\n",
              "      <td>0.000041</td>\n",
              "      <td>0.000124</td>\n",
              "      <td>0.000038</td>\n",
              "      <td>0.000041</td>\n",
              "      <td>0.000016</td>\n",
              "      <td>0.000023</td>\n",
              "    </tr>\n",
              "  </tbody>\n",
              "</table>\n",
              "</div>\n",
              "      <button class=\"colab-df-convert\" onclick=\"convertToInteractive('df-300a2a02-dc9c-405c-811e-6a2ee4d28eed')\"\n",
              "              title=\"Convert this dataframe to an interactive table.\"\n",
              "              style=\"display:none;\">\n",
              "        \n",
              "  <svg xmlns=\"http://www.w3.org/2000/svg\" height=\"24px\"viewBox=\"0 0 24 24\"\n",
              "       width=\"24px\">\n",
              "    <path d=\"M0 0h24v24H0V0z\" fill=\"none\"/>\n",
              "    <path d=\"M18.56 5.44l.94 2.06.94-2.06 2.06-.94-2.06-.94-.94-2.06-.94 2.06-2.06.94zm-11 1L8.5 8.5l.94-2.06 2.06-.94-2.06-.94L8.5 2.5l-.94 2.06-2.06.94zm10 10l.94 2.06.94-2.06 2.06-.94-2.06-.94-.94-2.06-.94 2.06-2.06.94z\"/><path d=\"M17.41 7.96l-1.37-1.37c-.4-.4-.92-.59-1.43-.59-.52 0-1.04.2-1.43.59L10.3 9.45l-7.72 7.72c-.78.78-.78 2.05 0 2.83L4 21.41c.39.39.9.59 1.41.59.51 0 1.02-.2 1.41-.59l7.78-7.78 2.81-2.81c.8-.78.8-2.07 0-2.86zM5.41 20L4 18.59l7.72-7.72 1.47 1.35L5.41 20z\"/>\n",
              "  </svg>\n",
              "      </button>\n",
              "      \n",
              "  <style>\n",
              "    .colab-df-container {\n",
              "      display:flex;\n",
              "      flex-wrap:wrap;\n",
              "      gap: 12px;\n",
              "    }\n",
              "\n",
              "    .colab-df-convert {\n",
              "      background-color: #E8F0FE;\n",
              "      border: none;\n",
              "      border-radius: 50%;\n",
              "      cursor: pointer;\n",
              "      display: none;\n",
              "      fill: #1967D2;\n",
              "      height: 32px;\n",
              "      padding: 0 0 0 0;\n",
              "      width: 32px;\n",
              "    }\n",
              "\n",
              "    .colab-df-convert:hover {\n",
              "      background-color: #E2EBFA;\n",
              "      box-shadow: 0px 1px 2px rgba(60, 64, 67, 0.3), 0px 1px 3px 1px rgba(60, 64, 67, 0.15);\n",
              "      fill: #174EA6;\n",
              "    }\n",
              "\n",
              "    [theme=dark] .colab-df-convert {\n",
              "      background-color: #3B4455;\n",
              "      fill: #D2E3FC;\n",
              "    }\n",
              "\n",
              "    [theme=dark] .colab-df-convert:hover {\n",
              "      background-color: #434B5C;\n",
              "      box-shadow: 0px 1px 3px 1px rgba(0, 0, 0, 0.15);\n",
              "      filter: drop-shadow(0px 1px 2px rgba(0, 0, 0, 0.3));\n",
              "      fill: #FFFFFF;\n",
              "    }\n",
              "  </style>\n",
              "\n",
              "      <script>\n",
              "        const buttonEl =\n",
              "          document.querySelector('#df-300a2a02-dc9c-405c-811e-6a2ee4d28eed button.colab-df-convert');\n",
              "        buttonEl.style.display =\n",
              "          google.colab.kernel.accessAllowed ? 'block' : 'none';\n",
              "\n",
              "        async function convertToInteractive(key) {\n",
              "          const element = document.querySelector('#df-300a2a02-dc9c-405c-811e-6a2ee4d28eed');\n",
              "          const dataTable =\n",
              "            await google.colab.kernel.invokeFunction('convertToInteractive',\n",
              "                                                     [key], {});\n",
              "          if (!dataTable) return;\n",
              "\n",
              "          const docLinkHtml = 'Like what you see? Visit the ' +\n",
              "            '<a target=\"_blank\" href=https://colab.research.google.com/notebooks/data_table.ipynb>data table notebook</a>'\n",
              "            + ' to learn more about interactive tables.';\n",
              "          element.innerHTML = '';\n",
              "          dataTable['output_type'] = 'display_data';\n",
              "          await google.colab.output.renderOutput(dataTable, element);\n",
              "          const docLink = document.createElement('div');\n",
              "          docLink.innerHTML = docLinkHtml;\n",
              "          element.appendChild(docLink);\n",
              "        }\n",
              "      </script>\n",
              "    </div>\n",
              "  </div>\n",
              "  "
            ]
          },
          "metadata": {},
          "execution_count": 69
        }
      ]
    },
    {
      "cell_type": "markdown",
      "source": [
        "#Заполнение данных в Excel"
      ],
      "metadata": {
        "id": "jj3RqhM1ng5F"
      }
    },
    {
      "cell_type": "code",
      "source": [
        "wb = load_workbook('test.xlsx')"
      ],
      "metadata": {
        "id": "oCSawq7enkRc"
      },
      "execution_count": 70,
      "outputs": []
    },
    {
      "cell_type": "code",
      "source": [
        "wb_rasp = wb['Rasp']"
      ],
      "metadata": {
        "id": "u4GPxrf7piFh"
      },
      "execution_count": 71,
      "outputs": []
    },
    {
      "cell_type": "code",
      "source": [
        "for i, r in df.iterrows():\n",
        "  wb_rasp.cell(row = i + 3, column = 1, value = df['Блок'][i])\n",
        "  wb_rasp.cell(row = i + 3, column = 2, value = f'''{df['наименование оборудования'][i]}, {df['Вещество'][i]}''')\n",
        "  wb_rasp.cell(row = i + 3, column = 3, value = f'''{df['Протяженность, м'][i]}, м''')\n",
        "  wb_rasp.cell(row = i + 3, column = 4, value = f'''{str(df['масса_в_участке'][i]).replace('.', ',')}''')\n",
        "  wb_rasp.cell(row = i + 3, column = 4).number_format = '0,00'\n",
        "  wb_rasp.cell(row = i + 3, column = 6, value = f'''Жидкость''')\n",
        "  wb_rasp.cell(row = i + 3, column = 7, value = f'''{df['давление'][i]}''')\n",
        "  wb_rasp.cell(row = i + 3, column = 8, value = f'''{df['Температура'][i]}''')  \n",
        "wb_rasp.cell(row = 4, column = 5, value = str(df.groupby(\"Блок\")[\"масса_в_участке\"].sum()[0]).replace('.', ','))\n",
        "wb_rasp.merge_cells(start_row=4, start_column=5, end_row=12, end_column=5)\n",
        "#итог\n",
        "wb_rasp.cell(row = 13, column = 1, value = 'Итого опасного вещества - Нефть,т')\n",
        "wb_rasp.cell(row = 13, column = 5, value = str(df.groupby(\"Блок\")[\"масса_в_участке\"].sum()[0]).replace('.', ','))\n",
        "wb_rasp.merge_cells(start_row=13, start_column=1, end_row=13, end_column=4)\n",
        "wb_rasp.merge_cells(start_row=13, start_column=5, end_row=13, end_column=8)\n",
        "wb_rasp.cell(row = 14, column = 1, value = 'из них - в сосудах (аппаратах), т')\n",
        "wb_rasp.cell(row = 14, column = 5, value = '0')\n",
        "wb_rasp.merge_cells(start_row=14, start_column=1, end_row=14, end_column=4)\n",
        "wb_rasp.merge_cells(start_row=14, start_column=5, end_row=14, end_column=8)\n",
        "wb_rasp.cell(row = 15, column = 1, value = 'в трубопроводах, т')\n",
        "wb_rasp.cell(row = 15, column = 5, value = str(df.groupby(\"Блок\")[\"масса_в_участке\"].sum()[0]).replace('.', ','))\n",
        "wb_rasp.merge_cells(start_row=15, start_column=1, end_row=15, end_column=4)\n",
        "wb_rasp.merge_cells(start_row=15, start_column=5, end_row=15, end_column=8)"
      ],
      "metadata": {
        "id": "TfR2y9GarsYY"
      },
      "execution_count": 72,
      "outputs": []
    },
    {
      "cell_type": "code",
      "source": [
        "wb_mass = wb['Masses']"
      ],
      "metadata": {
        "id": "HnR5pkTC_cxM"
      },
      "execution_count": 73,
      "outputs": []
    },
    {
      "cell_type": "code",
      "source": [
        "for i in wb_rasp.iter_rows(min_col=1, min_row=1, values_only=True):\n",
        "  print(i)\n"
      ],
      "metadata": {
        "colab": {
          "base_uri": "https://localhost:8080/"
        },
        "id": "8kwz7ZOjEtOe",
        "outputId": "3bc5d6e5-a05a-4e9f-ebf8-a9230f3ebedb"
      },
      "execution_count": 74,
      "outputs": [
        {
          "output_type": "stream",
          "name": "stdout",
          "text": [
            "('Технологический блок, оборудование', None, None, 'Количество опасного вещества, т', None, 'Физические условия содержания опасного вещества', None, None)\n",
            "('наименование технологического участка (блока)', 'наименование трубопровода, опасное вещество', 'длина, м / количество   шт', 'в единице оборудования (трубопроводе)', 'в блоке', 'агрегатное состояние', 'давление, МПа', 'температура, °С')\n",
            "(1, 2, 3, 4, 5, 6, 7, 8)\n",
            "('Газопровод внешнего транспорта', 'Нефтесборный коллектор \"Куст № 2 - т.в. Куста № 2\", нефть', '270, м', '7,78', '246,94', 'Жидкость', '4', '-20..20')\n",
            "('Газопровод внешнего транспорта', 'Нефтепровод от куста №1 до УПН Снежного нефтяного месторождения - 1, нефть', '3050, м', '22,18', None, 'Жидкость', '4', '-20..20')\n",
            "('Газопровод внешнего транспорта', 'Нефтепровод от куста №1 до УПН Снежного нефтяного месторождения - 2, нефть', '706, м', '10,66', None, 'Жидкость', '4', '-20..20')\n",
            "('Газопровод внешнего транспорта', 'Нефтепровод от куста №1 до УПН Снежного нефтяного месторождения - 3, нефть', '355, м', '10,23', None, 'Жидкость', '4', '-20..20')\n",
            "('Газопровод внешнего транспорта', 'Нефтесборные сети куст №3 - т. вр. Куста № 1 - 1, нефть', '3100, м', '46,82', None, 'Жидкость', '4', '-20..20')\n",
            "('Газопровод внешнего транспорта', 'Нефтесборные сети куст №3 - т. вр. Куста № 1 - 2, нефть', '4000, м', '115,22', None, 'Жидкость', '4', '-20..20')\n",
            "('Газопровод внешнего транспорта', 'Внутрипромысловый нефтепровод Куст № 3 - Куст № 4, нефть', '1773, м', '26,78', None, 'Жидкость', '4', '-20..20')\n",
            "('Газопровод внешнего транспорта', 'Внутрипромысловый нефтерповод Куст №5 - Куст №3, нефть', '412, м', '1,45', None, 'Жидкость', '4', '-20..20')\n",
            "('Газопровод внешнего транспорта', 'Внутрипромысловый нефтепровод Куст №6 - Вр. Куст №6, нефть', '407, м', '5,82', None, 'Жидкость', '4', '-20..20')\n",
            "('Итого опасного вещества - Нефть,т', None, None, None, '246,94', None, None, None)\n",
            "('из них - в сосудах (аппаратах), т', None, None, None, '0', None, None, None)\n",
            "('в трубопроводах, т', None, None, None, '246,94', None, None, None)\n"
          ]
        }
      ]
    },
    {
      "cell_type": "code",
      "source": [
        "wb.save('/content/drive/MyDrive/Work, Study, Life/Analyst/Pipeline_method/result.xlsx')"
      ],
      "metadata": {
        "id": "GdOvAhuJBU_Q"
      },
      "execution_count": 77,
      "outputs": []
    },
    {
      "cell_type": "code",
      "source": [],
      "metadata": {
        "id": "y0rRBY3ATrwT"
      },
      "execution_count": 75,
      "outputs": []
    }
  ]
}