{
  "nbformat": 4,
  "nbformat_minor": 0,
  "metadata": {
    "colab": {
      "provenance": [],
      "toc_visible": true,
      "mount_file_id": "1rRubwVcyLf6okFaza8awiS5lPc15Jnza",
      "authorship_tag": "ABX9TyNYybckw5oHNSIHZCw5+6M+",
      "include_colab_link": true
    },
    "kernelspec": {
      "name": "python3",
      "display_name": "Python 3"
    },
    "language_info": {
      "name": "python"
    }
  },
  "cells": [
    {
      "cell_type": "markdown",
      "metadata": {
        "id": "view-in-github",
        "colab_type": "text"
      },
      "source": [
        "<a href=\"https://colab.research.google.com/github/Rusildur/Pipeline_module/blob/main/pipeline_module.ipynb\" target=\"_parent\"><img src=\"https://colab.research.google.com/assets/colab-badge.svg\" alt=\"Open In Colab\"/></a>"
      ]
    },
    {
      "cell_type": "code",
      "source": [
        "from math import *\n",
        "import numpy as np\n",
        "import pandas as pd \n",
        "import openpyxl as ox"
      ],
      "metadata": {
        "id": "X66QSMu0zeIZ"
      },
      "execution_count": null,
      "outputs": []
    },
    {
      "cell_type": "code",
      "source": [
        "#Начальные данные, константы для расчетов\n",
        "P_0 = 101000  #атмосферное давление ПА"
      ],
      "metadata": {
        "id": "Oc4ABto26x9h"
      },
      "execution_count": null,
      "outputs": []
    },
    {
      "cell_type": "markdown",
      "source": [
        "#Функции для расчетов, обработки данных"
      ],
      "metadata": {
        "id": "xcLkKK7cagp0"
      }
    },
    {
      "cell_type": "markdown",
      "source": [
        "##Функции для предварительных расчетов"
      ],
      "metadata": {
        "id": "O5HaLAHvg_E-"
      }
    },
    {
      "cell_type": "markdown",
      "source": [
        "###Объем трубопровода (volume_pipeline)\n"
      ],
      "metadata": {
        "id": "YOtd6LAqSeAm"
      }
    },
    {
      "cell_type": "code",
      "source": [
        "def volume_pipeline(dl: float, diam: int, st: int) -> float:\n",
        "    \"\"\"\n",
        "    Функция расчета объема трубопровода.\n",
        "\n",
        "    Принимает длину в метрах, диаметр и толщину стенки в мм, возвращает объем в м3.\n",
        "    :param dl: длина в м\n",
        "    :param diam: диаметр трубопровода в мм\n",
        "    :param st: толщина стенки в мм\n",
        "    :return: объем трубопровода в м3\n",
        "    \"\"\"\n",
        "    radius = (diam / 2 - st) / 1000  # находим радиус и переводим в метры\n",
        "    V = pi * dl * radius ** 2\n",
        "    return V"
      ],
      "metadata": {
        "id": "1i0mX8O1vQwG"
      },
      "execution_count": null,
      "outputs": []
    },
    {
      "cell_type": "markdown",
      "source": [
        "###Напор трубопровода (flow_pipe)"
      ],
      "metadata": {
        "id": "Tf_Bvb6nNAcL"
      }
    },
    {
      "cell_type": "code",
      "source": [
        "def flow_pipe(P: int, S: float, ro:float) -> float:\n",
        "  \"\"\"\n",
        "  Функция для расчета напора трубопровода.\n",
        "\n",
        "  Принимает давление в МПА, площадь отверстия, плотность вещества.\n",
        "  Возвращает напор кг/с.\n",
        "\n",
        "  :param P: давление в МПа\n",
        "  :param S: площадь отверстия в м2\n",
        "  :param ro: плотность вещества т/м3\n",
        "  :return: напор кг/с\n",
        "  \"\"\"\n",
        "  P = P * 1000000 # МПа в Па\n",
        "  U = sqrt( 2 * (P - P_0) / ro * 1000)\n",
        "  M_0 = 0.6 * S * U * ro \n",
        "  return M_0"
      ],
      "metadata": {
        "id": "ljyVCTnDNFbe"
      },
      "execution_count": null,
      "outputs": []
    },
    {
      "cell_type": "markdown",
      "source": [
        "###Площадь пролива (Strait_area)"
      ],
      "metadata": {
        "id": "FSESitUZSkBF"
      }
    },
    {
      "cell_type": "code",
      "source": [
        "def Strait_area(massa: float, ro: float,  koef_str: int)-> float:\n",
        "  \"\"\"\"\n",
        "  Функция расчета площади пролива на неограниченное пространство.\n",
        "\n",
        "  Принимает массу в тоннах, плотность вещества т/м3 и коэффициент разлития.\n",
        "  Возвращает площадь пролива м2\n",
        "\n",
        "  :param massa: масса в тоннах\n",
        "  :param ro: плотность в т/м3\n",
        "  :param koef_str: коэффициент разлития (5-неорганизованная территория, 20-грунт, 150 бетон )\n",
        "  :return: площадь пролива м2\n",
        "  \"\"\"\n",
        "  V_mass = massa / ro\n",
        "  S = V_mass * koef_str\n",
        "  return S"
      ],
      "metadata": {
        "id": "LrHG-aS_SCW_"
      },
      "execution_count": null,
      "outputs": []
    },
    {
      "cell_type": "markdown",
      "source": [
        "###Площадь отверстий (hole_area)"
      ],
      "metadata": {
        "id": "Bppj-01m0Z7K"
      }
    },
    {
      "cell_type": "code",
      "source": [
        "def hole_area(diam: int, st: int, type = 'малая'):\n",
        "  \"\"\"\n",
        "  Функция для расчета площади отверстия. \n",
        "\n",
        "  Принимает диаметр трубопровода в мм, толщину стенки в мм, тип разрыва.\n",
        "  Возвращает площадь отверствия в м2\n",
        "\n",
        "  :param diam: диаметр трубопровода в мм\n",
        "  :param st: толщина стенки в мм\n",
        "  :param: type: тип отверстия ('малая', 'гильотина', 'свищ')\n",
        "  :return: площадь отверстия в м2\n",
        "\n",
        "  \"\"\"\n",
        "  if type == 'свищ':\n",
        "    return 0.0001\n",
        "  elif type == 'гильотина':\n",
        "    radius = (diam/2 - st)/1000\n",
        "    S = pi * radius ** 2\n",
        "    res = S *  0.179   \n",
        "    return res \n",
        "  elif type == 'малая':\n",
        "    radius = (diam/2 - st)/1000\n",
        "    S = pi * radius ** 2\n",
        "    res = S * 0.0072\n",
        "    return res "
      ],
      "metadata": {
        "id": "JwcA2Rsi0eGQ"
      },
      "execution_count": null,
      "outputs": []
    },
    {
      "cell_type": "markdown",
      "source": [
        "###Масса в аварии для гильотины ПП (massa_pp_gap)"
      ],
      "metadata": {
        "id": "gAQuyRkoBoIl"
      }
    },
    {
      "cell_type": "code",
      "source": [
        "def massa_pp_gap(intensity: float, density: float, mass_in_pipeline: float, time = 6):\n",
        "  \"\"\"\n",
        "  Функция расчета количества опасных веществ при разрыве нефтепровода.Расчет по ПП.\n",
        "  Возвращает массу в тоннах. \n",
        "  :param intensity: интенсивность перекачки м3/сут\n",
        "  :param density: плотность т/м3\n",
        "  :param mass_in_pipeline: количество вещества в участке т\n",
        "  :param time: время по ПП в часах (по умолчанию 6 часов)\n",
        "\n",
        "  Возвращает:\n",
        "  масса в тоннах в аварии разрыва нефтепровода.\n",
        "  \"\"\"\n",
        "  intensity_hour = intensity * density / 24   # интенсивность перекачки т/ч\n",
        "  poured_mass = intensity_hour * 6 * 0.25     # 25% за 6 часов перекачки по ПП\n",
        "  full_mass = mass_in_pipeline + poured_mass # масса в участке + 25% за 6 часов по ПП\n",
        "  return full_mass "
      ],
      "metadata": {
        "id": "PgGjhB0pBq5D"
      },
      "execution_count": null,
      "outputs": []
    },
    {
      "cell_type": "markdown",
      "source": [
        "###Масса в аварии для свища ПП (massa_pp_puncture)"
      ],
      "metadata": {
        "id": "TKqAC6CNEw5h"
      }
    },
    {
      "cell_type": "code",
      "source": [
        "def massa_pp_puncture(intensity: float, density: float, time_inspection = 3):\n",
        "  \"\"\"\n",
        "  Функция расчета количества опасных веществ при проколе нефтепровода.Расчет по ПП.\n",
        "  Возвращает массу в тоннах. \n",
        "  :param intensity: интенсивность перекачки м3/сут\n",
        "  :param density: плотность т/м3\n",
        "  :param time_inspection: время обхода в сутках (по умолчанию 3 дня)\n",
        "\n",
        "  Возвращает:\n",
        "  масса в тоннах в аварии свища нефтепровода.\n",
        "  \"\"\"\n",
        "  intensity_hour = intensity * density / 24   # интенсивность перекачки т/ч\n",
        "  poured_mass = intensity_hour * (time_inspection * 24)     # количество опорожненного вещества за время обхода\n",
        "  full_mass = poured_mass * 0.02    # 2% от объема прокачки по ПП\n",
        "  return full_mass "
      ],
      "metadata": {
        "id": "LOxMWDkzE2rK"
      },
      "execution_count": null,
      "outputs": []
    },
    {
      "cell_type": "markdown",
      "source": [
        "###!!!!!!!!!Интенсивность испарения"
      ],
      "metadata": {
        "id": "WXh4UWfVSn__"
      }
    },
    {
      "cell_type": "code",
      "source": [
        "def Evaporation_404():\n",
        "    \"\"\"\"\n",
        "    Функция для расчета интенсивность испарения для нефти кг/м2час????\n",
        "    \n",
        "    \n",
        "    \"\"\"\n",
        "    M = 200     #  Молярная масса нефти по расчетной Антона\n",
        "    P_n = press_antuan(20, - 25)\n",
        "    W = 10 ** -6 * sqrt(M) * P_n\n",
        "    return W "
      ],
      "metadata": {
        "id": "kWKmGOlISDbV"
      },
      "execution_count": null,
      "outputs": []
    },
    {
      "cell_type": "markdown",
      "source": [
        "###Давление насыщенных паров (test)"
      ],
      "metadata": {
        "id": "LM_bYx04DrXM"
      }
    },
    {
      "cell_type": "markdown",
      "source": [
        "Давление насыщенных паров через температуры"
      ],
      "metadata": {
        "id": "wRF9qO5HEPsM"
      }
    },
    {
      "cell_type": "code",
      "source": [
        "def press_antuan(t_r, t_vsp ):\n",
        "  P_n = exp(6.908 + 0.0433 * (t_r - 0.924 * t_vsp + 2.055) ) / (1047 + 7.48 * t_vsp)\n",
        "  return P_n"
      ],
      "metadata": {
        "id": "LFIYh8WYDqYx"
      },
      "execution_count": null,
      "outputs": []
    },
    {
      "cell_type": "markdown",
      "source": [
        "Давление насыщенных паров Антуан"
      ],
      "metadata": {
        "id": "s7Y_IAT2ETPc"
      }
    },
    {
      "cell_type": "code",
      "source": [
        "def press_temp(t_r):\n",
        "  A = 15.6782\n",
        "  B = 2154.9\n",
        "  C = -34.42\n",
        "  P_n = 10 ** (A - B / (t_r + C) )\n",
        "  return P_n"
      ],
      "metadata": {
        "id": "JB1O4jo3aMf7"
      },
      "execution_count": null,
      "outputs": []
    },
    {
      "cell_type": "markdown",
      "source": [
        "###Частота иницирующего события (test)"
      ],
      "metadata": {
        "id": "8HcOYOyIBhAP"
      }
    },
    {
      "cell_type": "code",
      "source": [
        "def frequencies_pipline(diam):\n",
        "  result = {'полная': '-' ,'частичная': '-'  }\n",
        "  if diam < 75:\n",
        "    result['полная'] = df_freq['полная'][0]\n",
        "    result['частичная'] = df_freq['частичная'][0]\n",
        "  elif 75 <= diam <= 150:\n",
        "    result['полная'] = df_freq['полная'][1]\n",
        "    result['частичная'] = df_freq['частичная'][1]    \n",
        "  elif diam > 150:\n",
        "    result['полная'] = df_freq['полная'][2]\n",
        "    result['частичная'] = df_freq['частичная'][2] \n",
        "  else:\n",
        "    return 'ERROR'\n",
        "\n",
        "  return result \n",
        "\n"
      ],
      "metadata": {
        "id": "i4AlxXDCBf9W"
      },
      "execution_count": null,
      "outputs": []
    },
    {
      "cell_type": "markdown",
      "source": [
        "###!!!!Частота реализации сценариев"
      ],
      "metadata": {
        "id": "VHxuholc-K0v"
      }
    },
    {
      "cell_type": "code",
      "source": [
        "def scenarios():\n",
        "  pass\n"
      ],
      "metadata": {
        "id": "C4n91MeR-PxS"
      },
      "execution_count": null,
      "outputs": []
    },
    {
      "cell_type": "markdown",
      "source": [
        "###!!!!Классификация режимов сгорания облака"
      ],
      "metadata": {
        "id": "s7yTsqAchRQG"
      }
    },
    {
      "cell_type": "code",
      "source": [
        "def classification_cloud():\n",
        "  pass "
      ],
      "metadata": {
        "id": "8tXiKocehqZq"
      },
      "execution_count": null,
      "outputs": []
    },
    {
      "cell_type": "markdown",
      "source": [
        "##Функции расчета зон поражения"
      ],
      "metadata": {
        "id": "Zrg50vBdVCBR"
      }
    },
    {
      "cell_type": "markdown",
      "source": [
        "###Взрыв топливно-воздушной смеси (ТВС)"
      ],
      "metadata": {
        "id": "wlWUPiPBSvIi"
      }
    },
    {
      "cell_type": "code",
      "source": [
        "def TVS_404(M_t):\n",
        "    \"\"\" Функция расчета взрыва ТВС\n",
        "    принимает массу испарившихся веществ\n",
        "    \"\"\"\n",
        "    result = {'100': '-','53': '-', '28': '-', '12': '-','5': '-','3': '-'}\n",
        "    betta = 1.14   # коэффициент для нефти\n",
        "    E = M_t * 44 * 10 ** 6 * betta      # Удельное энерговыделение\n",
        "    u = 43 * M_t ** (1/6)          # дефлаграция скорости фронта пламени для 5 класса\n",
        "    x = 0.1\n",
        "    while True:\n",
        "        Rx = x / ((E / P_0) ** (1/3))\n",
        "        if Rx < 0.34:\n",
        "            Px1 = (u ** 2 / 340 ** 2) * (6/7) * (0.83/0.34 - 0.14/0.34 ** 2)\n",
        "        else:\n",
        "            Px1 = (u ** 2 / 340 ** 2) * (6/7) * (0.83/Rx - 0.14/Rx ** 2)\n",
        "        \n",
        "        delta_P = Px1 * 101\n",
        "        if round(delta_P,2) >= 100.0:\n",
        "          result['100'] = round(x,2)\n",
        "        elif round(delta_P,2) >= 53.0:\n",
        "          result['53'] = round(x,2)\n",
        "        elif round(delta_P,2) >= 28.0:\n",
        "          result['28'] = round(x,2)\n",
        "        elif round(delta_P,2) >= 12.0:\n",
        "          result['12'] = round(x,2)   \n",
        "        elif round(delta_P,2) >= 5.0:\n",
        "          result['5'] = round(x,2)        \n",
        "        elif round(delta_P,2) >= 3.0:\n",
        "          result['3'] = round(x,2) \n",
        "          return result \n",
        "          break \n",
        "        elif delta_P < 1:\n",
        "          return result \n",
        "          break\n",
        "        x += 0.1"
      ],
      "metadata": {
        "id": "z3TtNaCZSE19"
      },
      "execution_count": null,
      "outputs": []
    },
    {
      "cell_type": "markdown",
      "source": [
        "###Пожар-вспышка"
      ],
      "metadata": {
        "id": "x5e6304FV7mQ"
      }
    },
    {
      "cell_type": "code",
      "source": [
        "def fire_flash_404(m, ro_g = 10, C_nkpr = 1.1):\n",
        "    \"\"\"\" Модуль расчета пожара вспышки.\n",
        "    Принимает массу, плотность испарившейся нефти, Нижний концетрационный предел нефти\"\"\"\n",
        "    ro_g = 10       # плотность ГГ нефти\n",
        "    C_nkpr = 1.1        # нижний концентрационный предел распространения пламени нефти\n",
        "    R_f = 1.2 * 7.8 * (m / (ro_g * C_nkpr))** 0.33\n",
        "    return R_f"
      ],
      "metadata": {
        "id": "wajhIVh0SGnc"
      },
      "execution_count": null,
      "outputs": []
    },
    {
      "cell_type": "markdown",
      "source": [
        "###Пожар пролива"
      ],
      "metadata": {
        "id": "cavdrnD9V_-s"
      }
    },
    {
      "cell_type": "code",
      "source": [
        "def StraitFire_404(S):\n",
        "    \"\"\"\" Функция для расчета пожара пролива (!!! пока только нефть).\n",
        "    В тестовом варианте принимает значение площади пролива S. \n",
        "    Следует дополнить следующими входными данными:\n",
        "    - вещество (молярная масса, плотность насыщенных паров, плотность )\n",
        "    - скорость ветра\n",
        "    - учесть в функции разный расчет Ef для других видов веществ\n",
        "    \"\"\"\n",
        "    result = {'10,5': '-', '7,0': '-', '4,2': '-', '1,4': '-'}\n",
        "    d = sqrt(4 * S / pi)    #эффективный диаметр пролива\n",
        "    m_u = 0.04          #удельная скорость выгорания топлива\n",
        "    ro_parov = 218/22.4     #плотность насыщенных паров при испарении\n",
        "    p_okr_pro = 1.2250      #плотность окружающего воздуха \n",
        "    w_0 = 0             #скорость ветра\n",
        "    Ef = 140 + exp(-0.12 * d) + 20 * (1 - exp(-0.12 * d))       # среднеповерхностная интенсивность теплового излучения пламени\n",
        "    theta = 0       # угол отклонения пламени от вертикали под действием ветра. (принимается равной 0, если не учитываем ветер)\n",
        "    u_n = w_0 / np.cbrt(m_u * 9.81 * d / ro_parov)\n",
        "    if u_n < 1:\n",
        "        theta = 0\n",
        "    else:\n",
        "        theta = u_n ** (-0.5)\n",
        "    theta = 0 \n",
        "    \n",
        "    if u_n >= 1:\n",
        "        L = 55 * d * (m_u / (p_okr_pro * sqrt(9.81 * d)))** 0.67 * u_n ** 0.21\n",
        "    else:\n",
        "        L = 42 * d * (m_u / (p_okr_pro * sqrt(9.81 * d)))** 0.61\n",
        "    x = 1\n",
        "    while True:\n",
        "        a = 2 * L / d\n",
        "        b = 2 * x / d\n",
        "        A = sqrt((a**2 + (b + 1)**2 - 2 * a * (b + 1) * sin(theta)))\n",
        "        B = sqrt((a**2 + (b - 1)**2 - 2 * a * (b - 1) * sin(theta)))\n",
        "        C = sqrt(1 + (b**2 - 1) * cos(theta)**2)\n",
        "        D = abs((b - 1) / (b + 1)) ** 0.5\n",
        "        E = a * cos(theta) / (b - a * sin(theta))\n",
        "        F = abs(b**2 - 1) ** 0.5\n",
        "        F_v = 1/pi * ( - E * atan(D) + E * ((a**2 + (b+1)**2 - 2*b * (1 + a * sin(theta)))/ (A * B)) * atan(A * D / B) + cos(theta)/C * (atan((a * b - F**2 * sin(theta)) / (F * C)) * atan(F**2 * sin(theta)/ (F * C))))\n",
        "        F_n = 1/pi * (atan(1/D) + sin(theta)/C * (atan((a * b - F**2 * sin(theta)) / (F * C) ) + atan(F**2 * sin(theta) / (F * C))) - ((a**2 + (b+1)**2 - 2 *(b+1+a*b*sin(theta)))/(A * B)) * atan(A*D/B))\n",
        "        F_q = sqrt(F_v**2 + F_n**2)\n",
        "        ta = exp(-7 * 10 ** -4 * (x - 0.5 * d))\n",
        "        q = Ef * F_q * ta\n",
        "        if round(q, 2) >= 10.5:\n",
        "          result['10,5'] = round(x, 2)\n",
        "        elif round(q) < 8 and round(q) >= 7:\n",
        "          result['7,0'] = round(x, 2)\n",
        "        elif round(q, 2) < 7 and  round(q, 2) >= 4.2:\n",
        "          result['4,2'] = round(x, 2)          \n",
        "        elif round(q, 2) < 2 and round(q, 2) >= 1.4:\n",
        "          result['1,4'] = round(x, 2)\n",
        "          return result \n",
        "          break \n",
        "\n",
        "        if q < 1:\n",
        "          return result\n",
        "          break\n",
        "        x += 0.1\n"
      ],
      "metadata": {
        "id": "DiGlopooSICQ"
      },
      "execution_count": null,
      "outputs": []
    },
    {
      "cell_type": "markdown",
      "source": [
        "#Чтение и обработка данных из Excel"
      ],
      "metadata": {
        "id": "mDjWCaXYWEc4"
      }
    },
    {
      "cell_type": "markdown",
      "source": [
        "##Считываем данные из Excel"
      ],
      "metadata": {
        "id": "YL8dzB6Kn4rm"
      }
    },
    {
      "cell_type": "code",
      "source": [
        "!gdown --id 1_Oa-FbrY7uSCpUt023fqL2CwtG1PlVEa"
      ],
      "metadata": {
        "colab": {
          "base_uri": "https://localhost:8080/"
        },
        "id": "nPzNzk8KbA_D",
        "outputId": "09f9f2d3-a55f-4790-d1c4-04e76a0c3261"
      },
      "execution_count": null,
      "outputs": [
        {
          "output_type": "stream",
          "name": "stdout",
          "text": [
            "/usr/local/lib/python3.8/dist-packages/gdown/cli.py:127: FutureWarning: Option `--id` was deprecated in version 4.3.1 and will be removed in 5.0. You don't need to pass it anymore to use a file ID.\n",
            "  warnings.warn(\n",
            "Downloading...\n",
            "From: https://drive.google.com/uc?id=1_Oa-FbrY7uSCpUt023fqL2CwtG1PlVEa\n",
            "To: /content/test.xlsx\n",
            "100% 118k/118k [00:00<00:00, 63.4MB/s]\n"
          ]
        }
      ]
    },
    {
      "cell_type": "markdown",
      "source": [
        "###Данные по веществам  df_agents"
      ],
      "metadata": {
        "id": "Ihg8Z8ri5mcT"
      }
    },
    {
      "cell_type": "code",
      "source": [
        "df_agents = pd.read_excel('test.xlsx', index_col='Характеристики', sheet_name = 'BD_Vesh')"
      ],
      "metadata": {
        "id": "G0Qh1lK92C0e"
      },
      "execution_count": null,
      "outputs": []
    },
    {
      "cell_type": "code",
      "source": [
        "df_agents = df_agents.drop(columns = 'размерность', axis = 1)"
      ],
      "metadata": {
        "id": "EYgslubk3OFA"
      },
      "execution_count": null,
      "outputs": []
    },
    {
      "cell_type": "code",
      "source": [
        "df_agents.head(3)"
      ],
      "metadata": {
        "colab": {
          "base_uri": "https://localhost:8080/",
          "height": 175
        },
        "id": "PQGnX-Rb4m-c",
        "outputId": "552a7dbd-9332-4701-9a2c-8393b906ea40"
      },
      "execution_count": null,
      "outputs": [
        {
          "output_type": "execute_result",
          "data": {
            "text/plain": [
              "               Нефть Бензин   ДТ  Метан ШФЛУ  БГС    ПНГ Конденсат Пропан  \\\n",
              "Характеристики                                                              \n",
              "Плотность        895    750  850  0.717  680  690  0.997       680    528   \n",
              "Тип              ЛВЖ    ЛВЖ   ГЖ     ГФ  СУГ  ЛВЖ     ГФ       ЛВЖ    СУГ   \n",
              "Твсп             -25    -39   35   -200  -30  -39   -200      -100    -30   \n",
              "\n",
              "                проверка  \n",
              "Характеристики            \n",
              "Плотность            NaN  \n",
              "Тип                  NaN  \n",
              "Твсп                 NaN  "
            ],
            "text/html": [
              "\n",
              "  <div id=\"df-249b9cfc-e655-47d0-867c-600330be4ad8\">\n",
              "    <div class=\"colab-df-container\">\n",
              "      <div>\n",
              "<style scoped>\n",
              "    .dataframe tbody tr th:only-of-type {\n",
              "        vertical-align: middle;\n",
              "    }\n",
              "\n",
              "    .dataframe tbody tr th {\n",
              "        vertical-align: top;\n",
              "    }\n",
              "\n",
              "    .dataframe thead th {\n",
              "        text-align: right;\n",
              "    }\n",
              "</style>\n",
              "<table border=\"1\" class=\"dataframe\">\n",
              "  <thead>\n",
              "    <tr style=\"text-align: right;\">\n",
              "      <th></th>\n",
              "      <th>Нефть</th>\n",
              "      <th>Бензин</th>\n",
              "      <th>ДТ</th>\n",
              "      <th>Метан</th>\n",
              "      <th>ШФЛУ</th>\n",
              "      <th>БГС</th>\n",
              "      <th>ПНГ</th>\n",
              "      <th>Конденсат</th>\n",
              "      <th>Пропан</th>\n",
              "      <th>проверка</th>\n",
              "    </tr>\n",
              "    <tr>\n",
              "      <th>Характеристики</th>\n",
              "      <th></th>\n",
              "      <th></th>\n",
              "      <th></th>\n",
              "      <th></th>\n",
              "      <th></th>\n",
              "      <th></th>\n",
              "      <th></th>\n",
              "      <th></th>\n",
              "      <th></th>\n",
              "      <th></th>\n",
              "    </tr>\n",
              "  </thead>\n",
              "  <tbody>\n",
              "    <tr>\n",
              "      <th>Плотность</th>\n",
              "      <td>895</td>\n",
              "      <td>750</td>\n",
              "      <td>850</td>\n",
              "      <td>0.717</td>\n",
              "      <td>680</td>\n",
              "      <td>690</td>\n",
              "      <td>0.997</td>\n",
              "      <td>680</td>\n",
              "      <td>528</td>\n",
              "      <td>NaN</td>\n",
              "    </tr>\n",
              "    <tr>\n",
              "      <th>Тип</th>\n",
              "      <td>ЛВЖ</td>\n",
              "      <td>ЛВЖ</td>\n",
              "      <td>ГЖ</td>\n",
              "      <td>ГФ</td>\n",
              "      <td>СУГ</td>\n",
              "      <td>ЛВЖ</td>\n",
              "      <td>ГФ</td>\n",
              "      <td>ЛВЖ</td>\n",
              "      <td>СУГ</td>\n",
              "      <td>NaN</td>\n",
              "    </tr>\n",
              "    <tr>\n",
              "      <th>Твсп</th>\n",
              "      <td>-25</td>\n",
              "      <td>-39</td>\n",
              "      <td>35</td>\n",
              "      <td>-200</td>\n",
              "      <td>-30</td>\n",
              "      <td>-39</td>\n",
              "      <td>-200</td>\n",
              "      <td>-100</td>\n",
              "      <td>-30</td>\n",
              "      <td>NaN</td>\n",
              "    </tr>\n",
              "  </tbody>\n",
              "</table>\n",
              "</div>\n",
              "      <button class=\"colab-df-convert\" onclick=\"convertToInteractive('df-249b9cfc-e655-47d0-867c-600330be4ad8')\"\n",
              "              title=\"Convert this dataframe to an interactive table.\"\n",
              "              style=\"display:none;\">\n",
              "        \n",
              "  <svg xmlns=\"http://www.w3.org/2000/svg\" height=\"24px\"viewBox=\"0 0 24 24\"\n",
              "       width=\"24px\">\n",
              "    <path d=\"M0 0h24v24H0V0z\" fill=\"none\"/>\n",
              "    <path d=\"M18.56 5.44l.94 2.06.94-2.06 2.06-.94-2.06-.94-.94-2.06-.94 2.06-2.06.94zm-11 1L8.5 8.5l.94-2.06 2.06-.94-2.06-.94L8.5 2.5l-.94 2.06-2.06.94zm10 10l.94 2.06.94-2.06 2.06-.94-2.06-.94-.94-2.06-.94 2.06-2.06.94z\"/><path d=\"M17.41 7.96l-1.37-1.37c-.4-.4-.92-.59-1.43-.59-.52 0-1.04.2-1.43.59L10.3 9.45l-7.72 7.72c-.78.78-.78 2.05 0 2.83L4 21.41c.39.39.9.59 1.41.59.51 0 1.02-.2 1.41-.59l7.78-7.78 2.81-2.81c.8-.78.8-2.07 0-2.86zM5.41 20L4 18.59l7.72-7.72 1.47 1.35L5.41 20z\"/>\n",
              "  </svg>\n",
              "      </button>\n",
              "      \n",
              "  <style>\n",
              "    .colab-df-container {\n",
              "      display:flex;\n",
              "      flex-wrap:wrap;\n",
              "      gap: 12px;\n",
              "    }\n",
              "\n",
              "    .colab-df-convert {\n",
              "      background-color: #E8F0FE;\n",
              "      border: none;\n",
              "      border-radius: 50%;\n",
              "      cursor: pointer;\n",
              "      display: none;\n",
              "      fill: #1967D2;\n",
              "      height: 32px;\n",
              "      padding: 0 0 0 0;\n",
              "      width: 32px;\n",
              "    }\n",
              "\n",
              "    .colab-df-convert:hover {\n",
              "      background-color: #E2EBFA;\n",
              "      box-shadow: 0px 1px 2px rgba(60, 64, 67, 0.3), 0px 1px 3px 1px rgba(60, 64, 67, 0.15);\n",
              "      fill: #174EA6;\n",
              "    }\n",
              "\n",
              "    [theme=dark] .colab-df-convert {\n",
              "      background-color: #3B4455;\n",
              "      fill: #D2E3FC;\n",
              "    }\n",
              "\n",
              "    [theme=dark] .colab-df-convert:hover {\n",
              "      background-color: #434B5C;\n",
              "      box-shadow: 0px 1px 3px 1px rgba(0, 0, 0, 0.15);\n",
              "      filter: drop-shadow(0px 1px 2px rgba(0, 0, 0, 0.3));\n",
              "      fill: #FFFFFF;\n",
              "    }\n",
              "  </style>\n",
              "\n",
              "      <script>\n",
              "        const buttonEl =\n",
              "          document.querySelector('#df-249b9cfc-e655-47d0-867c-600330be4ad8 button.colab-df-convert');\n",
              "        buttonEl.style.display =\n",
              "          google.colab.kernel.accessAllowed ? 'block' : 'none';\n",
              "\n",
              "        async function convertToInteractive(key) {\n",
              "          const element = document.querySelector('#df-249b9cfc-e655-47d0-867c-600330be4ad8');\n",
              "          const dataTable =\n",
              "            await google.colab.kernel.invokeFunction('convertToInteractive',\n",
              "                                                     [key], {});\n",
              "          if (!dataTable) return;\n",
              "\n",
              "          const docLinkHtml = 'Like what you see? Visit the ' +\n",
              "            '<a target=\"_blank\" href=https://colab.research.google.com/notebooks/data_table.ipynb>data table notebook</a>'\n",
              "            + ' to learn more about interactive tables.';\n",
              "          element.innerHTML = '';\n",
              "          dataTable['output_type'] = 'display_data';\n",
              "          await google.colab.output.renderOutput(dataTable, element);\n",
              "          const docLink = document.createElement('div');\n",
              "          docLink.innerHTML = docLinkHtml;\n",
              "          element.appendChild(docLink);\n",
              "        }\n",
              "      </script>\n",
              "    </div>\n",
              "  </div>\n",
              "  "
            ]
          },
          "metadata": {},
          "execution_count": 22
        }
      ]
    },
    {
      "cell_type": "markdown",
      "source": [
        "###Данные по частотам df_freq"
      ],
      "metadata": {
        "id": "TUoaQ3lfRoZw"
      }
    },
    {
      "cell_type": "markdown",
      "source": [
        "Выбор значений частот возникновения событий, инициирующих аварии произведен на основе обобщенных статистических данных и мнения экспертов. Учитывая, что в настоящее время отсутствует нормализованный механизм по сбору статистики отказов оборудования, при использовании статистических данных из литературных источников следует оценивать степень их достоверности и понимать, что такие данные, как правило, дают лишь порядок величины. \n",
        "\n",
        "В данной работе при оценке риска используются сведения, рекомендованные приказом Ростехнадзора № 387 от 03.11.2022 \n",
        "https://drive.google.com/file/d/1VJbsNr1Mxuxcyt2jCvMhBAPyHM8Lqheh/view?usp=share_link"
      ],
      "metadata": {
        "id": "-Z-OM6OSSnkG"
      }
    },
    {
      "cell_type": "code",
      "source": [
        "df_freq = pd.read_excel('test.xlsx', index_col='оборудование', sheet_name = 'BD_freq')"
      ],
      "metadata": {
        "id": "CDQoWzh71jg7"
      },
      "execution_count": null,
      "outputs": []
    },
    {
      "cell_type": "code",
      "source": [
        "df_freq.head(3)"
      ],
      "metadata": {
        "id": "QssbcNp_1joE",
        "colab": {
          "base_uri": "https://localhost:8080/",
          "height": 175
        },
        "outputId": "8878bbad-703b-4d05-d867-3f2e4c3356b5"
      },
      "execution_count": null,
      "outputs": [
        {
          "output_type": "execute_result",
          "data": {
            "text/plain": [
              "                 частичная        полная\n",
              "оборудование                            \n",
              "труба_75      1.000000e-06  5.000000e-06\n",
              "труба_75_150  3.000000e-07  2.000000e-06\n",
              "труба_150     1.000000e-07  5.000000e-07"
            ],
            "text/html": [
              "\n",
              "  <div id=\"df-214e6694-3ec4-4c77-b3bf-9c10196dc550\">\n",
              "    <div class=\"colab-df-container\">\n",
              "      <div>\n",
              "<style scoped>\n",
              "    .dataframe tbody tr th:only-of-type {\n",
              "        vertical-align: middle;\n",
              "    }\n",
              "\n",
              "    .dataframe tbody tr th {\n",
              "        vertical-align: top;\n",
              "    }\n",
              "\n",
              "    .dataframe thead th {\n",
              "        text-align: right;\n",
              "    }\n",
              "</style>\n",
              "<table border=\"1\" class=\"dataframe\">\n",
              "  <thead>\n",
              "    <tr style=\"text-align: right;\">\n",
              "      <th></th>\n",
              "      <th>частичная</th>\n",
              "      <th>полная</th>\n",
              "    </tr>\n",
              "    <tr>\n",
              "      <th>оборудование</th>\n",
              "      <th></th>\n",
              "      <th></th>\n",
              "    </tr>\n",
              "  </thead>\n",
              "  <tbody>\n",
              "    <tr>\n",
              "      <th>труба_75</th>\n",
              "      <td>1.000000e-06</td>\n",
              "      <td>5.000000e-06</td>\n",
              "    </tr>\n",
              "    <tr>\n",
              "      <th>труба_75_150</th>\n",
              "      <td>3.000000e-07</td>\n",
              "      <td>2.000000e-06</td>\n",
              "    </tr>\n",
              "    <tr>\n",
              "      <th>труба_150</th>\n",
              "      <td>1.000000e-07</td>\n",
              "      <td>5.000000e-07</td>\n",
              "    </tr>\n",
              "  </tbody>\n",
              "</table>\n",
              "</div>\n",
              "      <button class=\"colab-df-convert\" onclick=\"convertToInteractive('df-214e6694-3ec4-4c77-b3bf-9c10196dc550')\"\n",
              "              title=\"Convert this dataframe to an interactive table.\"\n",
              "              style=\"display:none;\">\n",
              "        \n",
              "  <svg xmlns=\"http://www.w3.org/2000/svg\" height=\"24px\"viewBox=\"0 0 24 24\"\n",
              "       width=\"24px\">\n",
              "    <path d=\"M0 0h24v24H0V0z\" fill=\"none\"/>\n",
              "    <path d=\"M18.56 5.44l.94 2.06.94-2.06 2.06-.94-2.06-.94-.94-2.06-.94 2.06-2.06.94zm-11 1L8.5 8.5l.94-2.06 2.06-.94-2.06-.94L8.5 2.5l-.94 2.06-2.06.94zm10 10l.94 2.06.94-2.06 2.06-.94-2.06-.94-.94-2.06-.94 2.06-2.06.94z\"/><path d=\"M17.41 7.96l-1.37-1.37c-.4-.4-.92-.59-1.43-.59-.52 0-1.04.2-1.43.59L10.3 9.45l-7.72 7.72c-.78.78-.78 2.05 0 2.83L4 21.41c.39.39.9.59 1.41.59.51 0 1.02-.2 1.41-.59l7.78-7.78 2.81-2.81c.8-.78.8-2.07 0-2.86zM5.41 20L4 18.59l7.72-7.72 1.47 1.35L5.41 20z\"/>\n",
              "  </svg>\n",
              "      </button>\n",
              "      \n",
              "  <style>\n",
              "    .colab-df-container {\n",
              "      display:flex;\n",
              "      flex-wrap:wrap;\n",
              "      gap: 12px;\n",
              "    }\n",
              "\n",
              "    .colab-df-convert {\n",
              "      background-color: #E8F0FE;\n",
              "      border: none;\n",
              "      border-radius: 50%;\n",
              "      cursor: pointer;\n",
              "      display: none;\n",
              "      fill: #1967D2;\n",
              "      height: 32px;\n",
              "      padding: 0 0 0 0;\n",
              "      width: 32px;\n",
              "    }\n",
              "\n",
              "    .colab-df-convert:hover {\n",
              "      background-color: #E2EBFA;\n",
              "      box-shadow: 0px 1px 2px rgba(60, 64, 67, 0.3), 0px 1px 3px 1px rgba(60, 64, 67, 0.15);\n",
              "      fill: #174EA6;\n",
              "    }\n",
              "\n",
              "    [theme=dark] .colab-df-convert {\n",
              "      background-color: #3B4455;\n",
              "      fill: #D2E3FC;\n",
              "    }\n",
              "\n",
              "    [theme=dark] .colab-df-convert:hover {\n",
              "      background-color: #434B5C;\n",
              "      box-shadow: 0px 1px 3px 1px rgba(0, 0, 0, 0.15);\n",
              "      filter: drop-shadow(0px 1px 2px rgba(0, 0, 0, 0.3));\n",
              "      fill: #FFFFFF;\n",
              "    }\n",
              "  </style>\n",
              "\n",
              "      <script>\n",
              "        const buttonEl =\n",
              "          document.querySelector('#df-214e6694-3ec4-4c77-b3bf-9c10196dc550 button.colab-df-convert');\n",
              "        buttonEl.style.display =\n",
              "          google.colab.kernel.accessAllowed ? 'block' : 'none';\n",
              "\n",
              "        async function convertToInteractive(key) {\n",
              "          const element = document.querySelector('#df-214e6694-3ec4-4c77-b3bf-9c10196dc550');\n",
              "          const dataTable =\n",
              "            await google.colab.kernel.invokeFunction('convertToInteractive',\n",
              "                                                     [key], {});\n",
              "          if (!dataTable) return;\n",
              "\n",
              "          const docLinkHtml = 'Like what you see? Visit the ' +\n",
              "            '<a target=\"_blank\" href=https://colab.research.google.com/notebooks/data_table.ipynb>data table notebook</a>'\n",
              "            + ' to learn more about interactive tables.';\n",
              "          element.innerHTML = '';\n",
              "          dataTable['output_type'] = 'display_data';\n",
              "          await google.colab.output.renderOutput(dataTable, element);\n",
              "          const docLink = document.createElement('div');\n",
              "          docLink.innerHTML = docLinkHtml;\n",
              "          element.appendChild(docLink);\n",
              "        }\n",
              "      </script>\n",
              "    </div>\n",
              "  </div>\n",
              "  "
            ]
          },
          "metadata": {},
          "execution_count": 24
        }
      ]
    },
    {
      "cell_type": "markdown",
      "source": [
        "###Данные по сценариям scen_lvz, scen_gj, scen_gf"
      ],
      "metadata": {
        "id": "x_yjzZ-ZTRTZ"
      }
    },
    {
      "cell_type": "code",
      "source": [
        "scen_lvz = pd.read_excel('test.xlsx', index_col = 'Сценарий', sheet_name = 'BD_Usl', skiprows = 0, nrows = 4, usecols=[1, 2, 3, 4, 5])"
      ],
      "metadata": {
        "id": "Bb9X_Kfs1jvT"
      },
      "execution_count": null,
      "outputs": []
    },
    {
      "cell_type": "code",
      "source": [
        "scen_lvz"
      ],
      "metadata": {
        "id": "YTTf2i6U1jx8",
        "colab": {
          "base_uri": "https://localhost:8080/",
          "height": 206
        },
        "outputId": "89ad839b-cb4b-4049-a9cb-7740aad08ee5"
      },
      "execution_count": null,
      "outputs": [
        {
          "output_type": "execute_result",
          "data": {
            "text/plain": [
              "                    П         М         С        Б\n",
              "Сценарий                                          \n",
              "Пожар          0.2000  0.005000  0.035000  0.15000\n",
              "Взрыв          0.1152  0.000398  0.008338  0.08976\n",
              "Пожар-вспышка  0.0768  0.004577  0.026402  0.05984\n",
              "Пролив         0.6080  0.990025  0.930260  0.70040"
            ],
            "text/html": [
              "\n",
              "  <div id=\"df-04fa06af-682f-4bed-ae3d-12aad4d8bbba\">\n",
              "    <div class=\"colab-df-container\">\n",
              "      <div>\n",
              "<style scoped>\n",
              "    .dataframe tbody tr th:only-of-type {\n",
              "        vertical-align: middle;\n",
              "    }\n",
              "\n",
              "    .dataframe tbody tr th {\n",
              "        vertical-align: top;\n",
              "    }\n",
              "\n",
              "    .dataframe thead th {\n",
              "        text-align: right;\n",
              "    }\n",
              "</style>\n",
              "<table border=\"1\" class=\"dataframe\">\n",
              "  <thead>\n",
              "    <tr style=\"text-align: right;\">\n",
              "      <th></th>\n",
              "      <th>П</th>\n",
              "      <th>М</th>\n",
              "      <th>С</th>\n",
              "      <th>Б</th>\n",
              "    </tr>\n",
              "    <tr>\n",
              "      <th>Сценарий</th>\n",
              "      <th></th>\n",
              "      <th></th>\n",
              "      <th></th>\n",
              "      <th></th>\n",
              "    </tr>\n",
              "  </thead>\n",
              "  <tbody>\n",
              "    <tr>\n",
              "      <th>Пожар</th>\n",
              "      <td>0.2000</td>\n",
              "      <td>0.005000</td>\n",
              "      <td>0.035000</td>\n",
              "      <td>0.15000</td>\n",
              "    </tr>\n",
              "    <tr>\n",
              "      <th>Взрыв</th>\n",
              "      <td>0.1152</td>\n",
              "      <td>0.000398</td>\n",
              "      <td>0.008338</td>\n",
              "      <td>0.08976</td>\n",
              "    </tr>\n",
              "    <tr>\n",
              "      <th>Пожар-вспышка</th>\n",
              "      <td>0.0768</td>\n",
              "      <td>0.004577</td>\n",
              "      <td>0.026402</td>\n",
              "      <td>0.05984</td>\n",
              "    </tr>\n",
              "    <tr>\n",
              "      <th>Пролив</th>\n",
              "      <td>0.6080</td>\n",
              "      <td>0.990025</td>\n",
              "      <td>0.930260</td>\n",
              "      <td>0.70040</td>\n",
              "    </tr>\n",
              "  </tbody>\n",
              "</table>\n",
              "</div>\n",
              "      <button class=\"colab-df-convert\" onclick=\"convertToInteractive('df-04fa06af-682f-4bed-ae3d-12aad4d8bbba')\"\n",
              "              title=\"Convert this dataframe to an interactive table.\"\n",
              "              style=\"display:none;\">\n",
              "        \n",
              "  <svg xmlns=\"http://www.w3.org/2000/svg\" height=\"24px\"viewBox=\"0 0 24 24\"\n",
              "       width=\"24px\">\n",
              "    <path d=\"M0 0h24v24H0V0z\" fill=\"none\"/>\n",
              "    <path d=\"M18.56 5.44l.94 2.06.94-2.06 2.06-.94-2.06-.94-.94-2.06-.94 2.06-2.06.94zm-11 1L8.5 8.5l.94-2.06 2.06-.94-2.06-.94L8.5 2.5l-.94 2.06-2.06.94zm10 10l.94 2.06.94-2.06 2.06-.94-2.06-.94-.94-2.06-.94 2.06-2.06.94z\"/><path d=\"M17.41 7.96l-1.37-1.37c-.4-.4-.92-.59-1.43-.59-.52 0-1.04.2-1.43.59L10.3 9.45l-7.72 7.72c-.78.78-.78 2.05 0 2.83L4 21.41c.39.39.9.59 1.41.59.51 0 1.02-.2 1.41-.59l7.78-7.78 2.81-2.81c.8-.78.8-2.07 0-2.86zM5.41 20L4 18.59l7.72-7.72 1.47 1.35L5.41 20z\"/>\n",
              "  </svg>\n",
              "      </button>\n",
              "      \n",
              "  <style>\n",
              "    .colab-df-container {\n",
              "      display:flex;\n",
              "      flex-wrap:wrap;\n",
              "      gap: 12px;\n",
              "    }\n",
              "\n",
              "    .colab-df-convert {\n",
              "      background-color: #E8F0FE;\n",
              "      border: none;\n",
              "      border-radius: 50%;\n",
              "      cursor: pointer;\n",
              "      display: none;\n",
              "      fill: #1967D2;\n",
              "      height: 32px;\n",
              "      padding: 0 0 0 0;\n",
              "      width: 32px;\n",
              "    }\n",
              "\n",
              "    .colab-df-convert:hover {\n",
              "      background-color: #E2EBFA;\n",
              "      box-shadow: 0px 1px 2px rgba(60, 64, 67, 0.3), 0px 1px 3px 1px rgba(60, 64, 67, 0.15);\n",
              "      fill: #174EA6;\n",
              "    }\n",
              "\n",
              "    [theme=dark] .colab-df-convert {\n",
              "      background-color: #3B4455;\n",
              "      fill: #D2E3FC;\n",
              "    }\n",
              "\n",
              "    [theme=dark] .colab-df-convert:hover {\n",
              "      background-color: #434B5C;\n",
              "      box-shadow: 0px 1px 3px 1px rgba(0, 0, 0, 0.15);\n",
              "      filter: drop-shadow(0px 1px 2px rgba(0, 0, 0, 0.3));\n",
              "      fill: #FFFFFF;\n",
              "    }\n",
              "  </style>\n",
              "\n",
              "      <script>\n",
              "        const buttonEl =\n",
              "          document.querySelector('#df-04fa06af-682f-4bed-ae3d-12aad4d8bbba button.colab-df-convert');\n",
              "        buttonEl.style.display =\n",
              "          google.colab.kernel.accessAllowed ? 'block' : 'none';\n",
              "\n",
              "        async function convertToInteractive(key) {\n",
              "          const element = document.querySelector('#df-04fa06af-682f-4bed-ae3d-12aad4d8bbba');\n",
              "          const dataTable =\n",
              "            await google.colab.kernel.invokeFunction('convertToInteractive',\n",
              "                                                     [key], {});\n",
              "          if (!dataTable) return;\n",
              "\n",
              "          const docLinkHtml = 'Like what you see? Visit the ' +\n",
              "            '<a target=\"_blank\" href=https://colab.research.google.com/notebooks/data_table.ipynb>data table notebook</a>'\n",
              "            + ' to learn more about interactive tables.';\n",
              "          element.innerHTML = '';\n",
              "          dataTable['output_type'] = 'display_data';\n",
              "          await google.colab.output.renderOutput(dataTable, element);\n",
              "          const docLink = document.createElement('div');\n",
              "          docLink.innerHTML = docLinkHtml;\n",
              "          element.appendChild(docLink);\n",
              "        }\n",
              "      </script>\n",
              "    </div>\n",
              "  </div>\n",
              "  "
            ]
          },
          "metadata": {},
          "execution_count": 26
        }
      ]
    },
    {
      "cell_type": "code",
      "source": [
        "scen_gj = pd.read_excel('test.xlsx', index_col = 'Сценарий', sheet_name = 'BD_Usl', skiprows = 6, nrows = 4, usecols=[1, 2, 3, 4, 5])"
      ],
      "metadata": {
        "id": "4HkWFvRDUhBS"
      },
      "execution_count": null,
      "outputs": []
    },
    {
      "cell_type": "code",
      "source": [
        "scen_gj"
      ],
      "metadata": {
        "colab": {
          "base_uri": "https://localhost:8080/",
          "height": 206
        },
        "id": "eNcPAh3AUhDy",
        "outputId": "68e432cb-719d-4d18-d8c5-5e834abb20f3"
      },
      "execution_count": null,
      "outputs": [
        {
          "output_type": "execute_result",
          "data": {
            "text/plain": [
              "                      П         М         С         Б\n",
              "Сценарий                                             \n",
              "Пожар          0.050000  0.005000  0.015000  0.040000\n",
              "Взрыв          0.005795  0.000249  0.000739  0.002016\n",
              "Пожар-вспышка  0.052155  0.004726  0.014036  0.038304\n",
              "Пролив         0.892050  0.990025  0.970225  0.919680"
            ],
            "text/html": [
              "\n",
              "  <div id=\"df-4ab5ba0d-7c79-46ab-b130-f044fe776d7b\">\n",
              "    <div class=\"colab-df-container\">\n",
              "      <div>\n",
              "<style scoped>\n",
              "    .dataframe tbody tr th:only-of-type {\n",
              "        vertical-align: middle;\n",
              "    }\n",
              "\n",
              "    .dataframe tbody tr th {\n",
              "        vertical-align: top;\n",
              "    }\n",
              "\n",
              "    .dataframe thead th {\n",
              "        text-align: right;\n",
              "    }\n",
              "</style>\n",
              "<table border=\"1\" class=\"dataframe\">\n",
              "  <thead>\n",
              "    <tr style=\"text-align: right;\">\n",
              "      <th></th>\n",
              "      <th>П</th>\n",
              "      <th>М</th>\n",
              "      <th>С</th>\n",
              "      <th>Б</th>\n",
              "    </tr>\n",
              "    <tr>\n",
              "      <th>Сценарий</th>\n",
              "      <th></th>\n",
              "      <th></th>\n",
              "      <th></th>\n",
              "      <th></th>\n",
              "    </tr>\n",
              "  </thead>\n",
              "  <tbody>\n",
              "    <tr>\n",
              "      <th>Пожар</th>\n",
              "      <td>0.050000</td>\n",
              "      <td>0.005000</td>\n",
              "      <td>0.015000</td>\n",
              "      <td>0.040000</td>\n",
              "    </tr>\n",
              "    <tr>\n",
              "      <th>Взрыв</th>\n",
              "      <td>0.005795</td>\n",
              "      <td>0.000249</td>\n",
              "      <td>0.000739</td>\n",
              "      <td>0.002016</td>\n",
              "    </tr>\n",
              "    <tr>\n",
              "      <th>Пожар-вспышка</th>\n",
              "      <td>0.052155</td>\n",
              "      <td>0.004726</td>\n",
              "      <td>0.014036</td>\n",
              "      <td>0.038304</td>\n",
              "    </tr>\n",
              "    <tr>\n",
              "      <th>Пролив</th>\n",
              "      <td>0.892050</td>\n",
              "      <td>0.990025</td>\n",
              "      <td>0.970225</td>\n",
              "      <td>0.919680</td>\n",
              "    </tr>\n",
              "  </tbody>\n",
              "</table>\n",
              "</div>\n",
              "      <button class=\"colab-df-convert\" onclick=\"convertToInteractive('df-4ab5ba0d-7c79-46ab-b130-f044fe776d7b')\"\n",
              "              title=\"Convert this dataframe to an interactive table.\"\n",
              "              style=\"display:none;\">\n",
              "        \n",
              "  <svg xmlns=\"http://www.w3.org/2000/svg\" height=\"24px\"viewBox=\"0 0 24 24\"\n",
              "       width=\"24px\">\n",
              "    <path d=\"M0 0h24v24H0V0z\" fill=\"none\"/>\n",
              "    <path d=\"M18.56 5.44l.94 2.06.94-2.06 2.06-.94-2.06-.94-.94-2.06-.94 2.06-2.06.94zm-11 1L8.5 8.5l.94-2.06 2.06-.94-2.06-.94L8.5 2.5l-.94 2.06-2.06.94zm10 10l.94 2.06.94-2.06 2.06-.94-2.06-.94-.94-2.06-.94 2.06-2.06.94z\"/><path d=\"M17.41 7.96l-1.37-1.37c-.4-.4-.92-.59-1.43-.59-.52 0-1.04.2-1.43.59L10.3 9.45l-7.72 7.72c-.78.78-.78 2.05 0 2.83L4 21.41c.39.39.9.59 1.41.59.51 0 1.02-.2 1.41-.59l7.78-7.78 2.81-2.81c.8-.78.8-2.07 0-2.86zM5.41 20L4 18.59l7.72-7.72 1.47 1.35L5.41 20z\"/>\n",
              "  </svg>\n",
              "      </button>\n",
              "      \n",
              "  <style>\n",
              "    .colab-df-container {\n",
              "      display:flex;\n",
              "      flex-wrap:wrap;\n",
              "      gap: 12px;\n",
              "    }\n",
              "\n",
              "    .colab-df-convert {\n",
              "      background-color: #E8F0FE;\n",
              "      border: none;\n",
              "      border-radius: 50%;\n",
              "      cursor: pointer;\n",
              "      display: none;\n",
              "      fill: #1967D2;\n",
              "      height: 32px;\n",
              "      padding: 0 0 0 0;\n",
              "      width: 32px;\n",
              "    }\n",
              "\n",
              "    .colab-df-convert:hover {\n",
              "      background-color: #E2EBFA;\n",
              "      box-shadow: 0px 1px 2px rgba(60, 64, 67, 0.3), 0px 1px 3px 1px rgba(60, 64, 67, 0.15);\n",
              "      fill: #174EA6;\n",
              "    }\n",
              "\n",
              "    [theme=dark] .colab-df-convert {\n",
              "      background-color: #3B4455;\n",
              "      fill: #D2E3FC;\n",
              "    }\n",
              "\n",
              "    [theme=dark] .colab-df-convert:hover {\n",
              "      background-color: #434B5C;\n",
              "      box-shadow: 0px 1px 3px 1px rgba(0, 0, 0, 0.15);\n",
              "      filter: drop-shadow(0px 1px 2px rgba(0, 0, 0, 0.3));\n",
              "      fill: #FFFFFF;\n",
              "    }\n",
              "  </style>\n",
              "\n",
              "      <script>\n",
              "        const buttonEl =\n",
              "          document.querySelector('#df-4ab5ba0d-7c79-46ab-b130-f044fe776d7b button.colab-df-convert');\n",
              "        buttonEl.style.display =\n",
              "          google.colab.kernel.accessAllowed ? 'block' : 'none';\n",
              "\n",
              "        async function convertToInteractive(key) {\n",
              "          const element = document.querySelector('#df-4ab5ba0d-7c79-46ab-b130-f044fe776d7b');\n",
              "          const dataTable =\n",
              "            await google.colab.kernel.invokeFunction('convertToInteractive',\n",
              "                                                     [key], {});\n",
              "          if (!dataTable) return;\n",
              "\n",
              "          const docLinkHtml = 'Like what you see? Visit the ' +\n",
              "            '<a target=\"_blank\" href=https://colab.research.google.com/notebooks/data_table.ipynb>data table notebook</a>'\n",
              "            + ' to learn more about interactive tables.';\n",
              "          element.innerHTML = '';\n",
              "          dataTable['output_type'] = 'display_data';\n",
              "          await google.colab.output.renderOutput(dataTable, element);\n",
              "          const docLink = document.createElement('div');\n",
              "          docLink.innerHTML = docLinkHtml;\n",
              "          element.appendChild(docLink);\n",
              "        }\n",
              "      </script>\n",
              "    </div>\n",
              "  </div>\n",
              "  "
            ]
          },
          "metadata": {},
          "execution_count": 28
        }
      ]
    },
    {
      "cell_type": "code",
      "source": [
        "scen_gf = pd.read_excel('test.xlsx', index_col = 'Сценарий', sheet_name = 'BD_Usl', skiprows = 12, nrows = 4, usecols=[1, 2, 3, 4, 5])"
      ],
      "metadata": {
        "id": "apqXKFAaUwPS"
      },
      "execution_count": null,
      "outputs": []
    },
    {
      "cell_type": "code",
      "source": [
        "scen_gf"
      ],
      "metadata": {
        "colab": {
          "base_uri": "https://localhost:8080/",
          "height": 206
        },
        "id": "fmoYBFSzUwU-",
        "outputId": "33b9b2be-03b6-4864-9b00-72c5a374c3e4"
      },
      "execution_count": null,
      "outputs": [
        {
          "output_type": "execute_result",
          "data": {
            "text/plain": [
              "                    П         М         С        Б\n",
              "Сценарий                                          \n",
              "Факел          0.2000  0.005000  0.035000  0.15000\n",
              "Взрыв          0.1152  0.000398  0.008338  0.08976\n",
              "Пожар-вспышка  0.0768  0.004577  0.026402  0.05984\n",
              "Пролив         0.6080  0.990025  0.930260  0.70040"
            ],
            "text/html": [
              "\n",
              "  <div id=\"df-ee9ac20a-c528-4251-9c9e-526f200e516f\">\n",
              "    <div class=\"colab-df-container\">\n",
              "      <div>\n",
              "<style scoped>\n",
              "    .dataframe tbody tr th:only-of-type {\n",
              "        vertical-align: middle;\n",
              "    }\n",
              "\n",
              "    .dataframe tbody tr th {\n",
              "        vertical-align: top;\n",
              "    }\n",
              "\n",
              "    .dataframe thead th {\n",
              "        text-align: right;\n",
              "    }\n",
              "</style>\n",
              "<table border=\"1\" class=\"dataframe\">\n",
              "  <thead>\n",
              "    <tr style=\"text-align: right;\">\n",
              "      <th></th>\n",
              "      <th>П</th>\n",
              "      <th>М</th>\n",
              "      <th>С</th>\n",
              "      <th>Б</th>\n",
              "    </tr>\n",
              "    <tr>\n",
              "      <th>Сценарий</th>\n",
              "      <th></th>\n",
              "      <th></th>\n",
              "      <th></th>\n",
              "      <th></th>\n",
              "    </tr>\n",
              "  </thead>\n",
              "  <tbody>\n",
              "    <tr>\n",
              "      <th>Факел</th>\n",
              "      <td>0.2000</td>\n",
              "      <td>0.005000</td>\n",
              "      <td>0.035000</td>\n",
              "      <td>0.15000</td>\n",
              "    </tr>\n",
              "    <tr>\n",
              "      <th>Взрыв</th>\n",
              "      <td>0.1152</td>\n",
              "      <td>0.000398</td>\n",
              "      <td>0.008338</td>\n",
              "      <td>0.08976</td>\n",
              "    </tr>\n",
              "    <tr>\n",
              "      <th>Пожар-вспышка</th>\n",
              "      <td>0.0768</td>\n",
              "      <td>0.004577</td>\n",
              "      <td>0.026402</td>\n",
              "      <td>0.05984</td>\n",
              "    </tr>\n",
              "    <tr>\n",
              "      <th>Пролив</th>\n",
              "      <td>0.6080</td>\n",
              "      <td>0.990025</td>\n",
              "      <td>0.930260</td>\n",
              "      <td>0.70040</td>\n",
              "    </tr>\n",
              "  </tbody>\n",
              "</table>\n",
              "</div>\n",
              "      <button class=\"colab-df-convert\" onclick=\"convertToInteractive('df-ee9ac20a-c528-4251-9c9e-526f200e516f')\"\n",
              "              title=\"Convert this dataframe to an interactive table.\"\n",
              "              style=\"display:none;\">\n",
              "        \n",
              "  <svg xmlns=\"http://www.w3.org/2000/svg\" height=\"24px\"viewBox=\"0 0 24 24\"\n",
              "       width=\"24px\">\n",
              "    <path d=\"M0 0h24v24H0V0z\" fill=\"none\"/>\n",
              "    <path d=\"M18.56 5.44l.94 2.06.94-2.06 2.06-.94-2.06-.94-.94-2.06-.94 2.06-2.06.94zm-11 1L8.5 8.5l.94-2.06 2.06-.94-2.06-.94L8.5 2.5l-.94 2.06-2.06.94zm10 10l.94 2.06.94-2.06 2.06-.94-2.06-.94-.94-2.06-.94 2.06-2.06.94z\"/><path d=\"M17.41 7.96l-1.37-1.37c-.4-.4-.92-.59-1.43-.59-.52 0-1.04.2-1.43.59L10.3 9.45l-7.72 7.72c-.78.78-.78 2.05 0 2.83L4 21.41c.39.39.9.59 1.41.59.51 0 1.02-.2 1.41-.59l7.78-7.78 2.81-2.81c.8-.78.8-2.07 0-2.86zM5.41 20L4 18.59l7.72-7.72 1.47 1.35L5.41 20z\"/>\n",
              "  </svg>\n",
              "      </button>\n",
              "      \n",
              "  <style>\n",
              "    .colab-df-container {\n",
              "      display:flex;\n",
              "      flex-wrap:wrap;\n",
              "      gap: 12px;\n",
              "    }\n",
              "\n",
              "    .colab-df-convert {\n",
              "      background-color: #E8F0FE;\n",
              "      border: none;\n",
              "      border-radius: 50%;\n",
              "      cursor: pointer;\n",
              "      display: none;\n",
              "      fill: #1967D2;\n",
              "      height: 32px;\n",
              "      padding: 0 0 0 0;\n",
              "      width: 32px;\n",
              "    }\n",
              "\n",
              "    .colab-df-convert:hover {\n",
              "      background-color: #E2EBFA;\n",
              "      box-shadow: 0px 1px 2px rgba(60, 64, 67, 0.3), 0px 1px 3px 1px rgba(60, 64, 67, 0.15);\n",
              "      fill: #174EA6;\n",
              "    }\n",
              "\n",
              "    [theme=dark] .colab-df-convert {\n",
              "      background-color: #3B4455;\n",
              "      fill: #D2E3FC;\n",
              "    }\n",
              "\n",
              "    [theme=dark] .colab-df-convert:hover {\n",
              "      background-color: #434B5C;\n",
              "      box-shadow: 0px 1px 3px 1px rgba(0, 0, 0, 0.15);\n",
              "      filter: drop-shadow(0px 1px 2px rgba(0, 0, 0, 0.3));\n",
              "      fill: #FFFFFF;\n",
              "    }\n",
              "  </style>\n",
              "\n",
              "      <script>\n",
              "        const buttonEl =\n",
              "          document.querySelector('#df-ee9ac20a-c528-4251-9c9e-526f200e516f button.colab-df-convert');\n",
              "        buttonEl.style.display =\n",
              "          google.colab.kernel.accessAllowed ? 'block' : 'none';\n",
              "\n",
              "        async function convertToInteractive(key) {\n",
              "          const element = document.querySelector('#df-ee9ac20a-c528-4251-9c9e-526f200e516f');\n",
              "          const dataTable =\n",
              "            await google.colab.kernel.invokeFunction('convertToInteractive',\n",
              "                                                     [key], {});\n",
              "          if (!dataTable) return;\n",
              "\n",
              "          const docLinkHtml = 'Like what you see? Visit the ' +\n",
              "            '<a target=\"_blank\" href=https://colab.research.google.com/notebooks/data_table.ipynb>data table notebook</a>'\n",
              "            + ' to learn more about interactive tables.';\n",
              "          element.innerHTML = '';\n",
              "          dataTable['output_type'] = 'display_data';\n",
              "          await google.colab.output.renderOutput(dataTable, element);\n",
              "          const docLink = document.createElement('div');\n",
              "          docLink.innerHTML = docLinkHtml;\n",
              "          element.appendChild(docLink);\n",
              "        }\n",
              "      </script>\n",
              "    </div>\n",
              "  </div>\n",
              "  "
            ]
          },
          "metadata": {},
          "execution_count": 30
        }
      ]
    },
    {
      "cell_type": "markdown",
      "source": [
        "###Данные по коэффициентам и ограничениям"
      ],
      "metadata": {
        "id": "SmUn1gDZh_kb"
      }
    },
    {
      "cell_type": "code",
      "source": [
        "wb = ox.load_workbook('test.xlsx')"
      ],
      "metadata": {
        "colab": {
          "base_uri": "https://localhost:8080/"
        },
        "id": "gmopaKjpg7Gp",
        "outputId": "95ab8988-5c45-40ff-89a8-71312e9c080e"
      },
      "execution_count": null,
      "outputs": [
        {
          "output_type": "stream",
          "name": "stderr",
          "text": [
            "/usr/local/lib/python3.8/dist-packages/openpyxl/worksheet/_reader.py:312: UserWarning: Data Validation extension is not supported and will be removed\n",
            "  warn(msg)\n"
          ]
        }
      ]
    },
    {
      "cell_type": "code",
      "source": [
        "wb_info = wb['Info']"
      ],
      "metadata": {
        "id": "LjnERq5fiPDo"
      },
      "execution_count": null,
      "outputs": []
    },
    {
      "cell_type": "code",
      "source": [
        "#коэффициенты для расчета ущерба воде\n",
        "koef_eco_water = {'Квг': wb_info['B3'].value, \n",
        "                  'Кдл': wb_info['B4'].value,\n",
        "                  'Кв': wb_info['B5'].value,\n",
        "                  'Кин': wb_info['B6'].value}"
      ],
      "metadata": {
        "id": "2dYJKnawjX-m"
      },
      "execution_count": null,
      "outputs": []
    },
    {
      "cell_type": "code",
      "source": [
        "#коэффициенты для расчета ущерба почве\n",
        "koef_eco_soil = {'СХВ': wb_info['D3'].value, \n",
        "                  'Кг': wb_info['D4'].value,\n",
        "                  'Кисп': wb_info['D5'].value,\n",
        "                  'Тх': wb_info['D6'].value}"
      ],
      "metadata": {
        "id": "hhmotpmflmf0"
      },
      "execution_count": null,
      "outputs": []
    },
    {
      "cell_type": "code",
      "source": [
        "#коэффициенты для расчета ущерба при испарении веществ\n",
        "koef_eco_vapor= {'Нпл': wb_info['F3'].value, \n",
        "                  'Кот': wb_info['F4'].value,\n",
        "                  'Кср': wb_info['F5'].value,\n",
        "                  'Кг': wb_info['F6'].value}"
      ],
      "metadata": {
        "id": "S9FllGXfl6AP"
      },
      "execution_count": null,
      "outputs": []
    },
    {
      "cell_type": "code",
      "source": [
        "#коэффициенты для расчета ущерба при сгорании веществ\n",
        "koef_eco_fire= {'Тх': wb_info['H3'].value, \n",
        "                  'Кср': wb_info['H4'].value,\n",
        "                  'Кг': wb_info['H5'].value}"
      ],
      "metadata": {
        "id": "QIcfbDW1mIff"
      },
      "execution_count": null,
      "outputs": []
    },
    {
      "cell_type": "code",
      "source": [
        "#ограничения: максимальная смена, скорость движения аварийной бригады\n",
        "bd_limit = {'max_smena': wb_info['B9'].value, \n",
        "                'speed_inspector': round(wb_info['B12'].value / 3.6,2)}"
      ],
      "metadata": {
        "id": "pM1H279umjaC"
      },
      "execution_count": null,
      "outputs": []
    },
    {
      "cell_type": "markdown",
      "source": [
        "###Данные по оборудованию (основной датафрейм)"
      ],
      "metadata": {
        "id": "opAQZ5MlVaSy"
      }
    },
    {
      "cell_type": "code",
      "source": [
        "df = pd.read_excel('test.xlsx', index_col='№', sheet_name = 'Oborud')"
      ],
      "metadata": {
        "id": "JlkPcbtkbzy7"
      },
      "execution_count": null,
      "outputs": []
    },
    {
      "cell_type": "code",
      "source": [
        "df.head(3)"
      ],
      "metadata": {
        "colab": {
          "base_uri": "https://localhost:8080/",
          "height": 395
        },
        "id": "nATwQ8Owb5LZ",
        "outputId": "3bfad070-d91f-48f6-f306-5c827116d5c8"
      },
      "execution_count": null,
      "outputs": [
        {
          "output_type": "execute_result",
          "data": {
            "text/plain": [
              "        наименование оборудования Тип оборудования Вещество Тип содержимого  \\\n",
              "№                                                                             \n",
              "1  нефтепровод (1000х12, 10000 м)            труба    Нефть             ЛВЖ   \n",
              "2   нефтепровод (1000х12, 5000 м)            труба    Нефть             ЛВЖ   \n",
              "3   нефтепровод (1000х12, 1000 м)            труба    Нефть             ЛВЖ   \n",
              "\n",
              "   Количество опасного вещества, т Температура  давление  \\\n",
              "№                                                          \n",
              "1                              NaN     -20..20         4   \n",
              "2                              NaN     -20..20         4   \n",
              "3                              NaN     -20..20         4   \n",
              "\n",
              "   Интенсивность прокачки, м3/сут  время перекрытия  Протяженность, м  \\\n",
              "№                                                                       \n",
              "1                            26.0               300             10000   \n",
              "2                           142.0               300              5000   \n",
              "3                           142.0               300              1000   \n",
              "\n",
              "   диаметр  толщина стенки  Коэффициент подстил поверхности  \\\n",
              "№                                                             \n",
              "1     1000              12                                5   \n",
              "2     1000              12                                5   \n",
              "3     1000              12                                5   \n",
              "\n",
              "   Класс загроможденности пространства                               Блок  \\\n",
              "№                                                                           \n",
              "1                                    4  Система промысловых трубопроводов   \n",
              "2                                    4  Система промысловых трубопроводов   \n",
              "3                                    4  Система промысловых трубопроводов   \n",
              "\n",
              "   № в блоке  частота обхода (дней)  пересечения - водотоки  пересечения - ЖД  \\\n",
              "№                                                                               \n",
              "1          1                      3                     NaN               NaN   \n",
              "2          2                      3                     1.0               NaN   \n",
              "3          3                      3                     1.0               NaN   \n",
              "\n",
              "   пересечения - АД, категория дорог  \n",
              "№                                     \n",
              "1                                NaN  \n",
              "2                                NaN  \n",
              "3                                NaN  "
            ],
            "text/html": [
              "\n",
              "  <div id=\"df-34085248-a65b-4e82-b8fd-0dcf6558ae65\">\n",
              "    <div class=\"colab-df-container\">\n",
              "      <div>\n",
              "<style scoped>\n",
              "    .dataframe tbody tr th:only-of-type {\n",
              "        vertical-align: middle;\n",
              "    }\n",
              "\n",
              "    .dataframe tbody tr th {\n",
              "        vertical-align: top;\n",
              "    }\n",
              "\n",
              "    .dataframe thead th {\n",
              "        text-align: right;\n",
              "    }\n",
              "</style>\n",
              "<table border=\"1\" class=\"dataframe\">\n",
              "  <thead>\n",
              "    <tr style=\"text-align: right;\">\n",
              "      <th></th>\n",
              "      <th>наименование оборудования</th>\n",
              "      <th>Тип оборудования</th>\n",
              "      <th>Вещество</th>\n",
              "      <th>Тип содержимого</th>\n",
              "      <th>Количество опасного вещества, т</th>\n",
              "      <th>Температура</th>\n",
              "      <th>давление</th>\n",
              "      <th>Интенсивность прокачки, м3/сут</th>\n",
              "      <th>время перекрытия</th>\n",
              "      <th>Протяженность, м</th>\n",
              "      <th>диаметр</th>\n",
              "      <th>толщина стенки</th>\n",
              "      <th>Коэффициент подстил поверхности</th>\n",
              "      <th>Класс загроможденности пространства</th>\n",
              "      <th>Блок</th>\n",
              "      <th>№ в блоке</th>\n",
              "      <th>частота обхода (дней)</th>\n",
              "      <th>пересечения - водотоки</th>\n",
              "      <th>пересечения - ЖД</th>\n",
              "      <th>пересечения - АД, категория дорог</th>\n",
              "    </tr>\n",
              "    <tr>\n",
              "      <th>№</th>\n",
              "      <th></th>\n",
              "      <th></th>\n",
              "      <th></th>\n",
              "      <th></th>\n",
              "      <th></th>\n",
              "      <th></th>\n",
              "      <th></th>\n",
              "      <th></th>\n",
              "      <th></th>\n",
              "      <th></th>\n",
              "      <th></th>\n",
              "      <th></th>\n",
              "      <th></th>\n",
              "      <th></th>\n",
              "      <th></th>\n",
              "      <th></th>\n",
              "      <th></th>\n",
              "      <th></th>\n",
              "      <th></th>\n",
              "      <th></th>\n",
              "    </tr>\n",
              "  </thead>\n",
              "  <tbody>\n",
              "    <tr>\n",
              "      <th>1</th>\n",
              "      <td>нефтепровод (1000х12, 10000 м)</td>\n",
              "      <td>труба</td>\n",
              "      <td>Нефть</td>\n",
              "      <td>ЛВЖ</td>\n",
              "      <td>NaN</td>\n",
              "      <td>-20..20</td>\n",
              "      <td>4</td>\n",
              "      <td>26.0</td>\n",
              "      <td>300</td>\n",
              "      <td>10000</td>\n",
              "      <td>1000</td>\n",
              "      <td>12</td>\n",
              "      <td>5</td>\n",
              "      <td>4</td>\n",
              "      <td>Система промысловых трубопроводов</td>\n",
              "      <td>1</td>\n",
              "      <td>3</td>\n",
              "      <td>NaN</td>\n",
              "      <td>NaN</td>\n",
              "      <td>NaN</td>\n",
              "    </tr>\n",
              "    <tr>\n",
              "      <th>2</th>\n",
              "      <td>нефтепровод (1000х12, 5000 м)</td>\n",
              "      <td>труба</td>\n",
              "      <td>Нефть</td>\n",
              "      <td>ЛВЖ</td>\n",
              "      <td>NaN</td>\n",
              "      <td>-20..20</td>\n",
              "      <td>4</td>\n",
              "      <td>142.0</td>\n",
              "      <td>300</td>\n",
              "      <td>5000</td>\n",
              "      <td>1000</td>\n",
              "      <td>12</td>\n",
              "      <td>5</td>\n",
              "      <td>4</td>\n",
              "      <td>Система промысловых трубопроводов</td>\n",
              "      <td>2</td>\n",
              "      <td>3</td>\n",
              "      <td>1.0</td>\n",
              "      <td>NaN</td>\n",
              "      <td>NaN</td>\n",
              "    </tr>\n",
              "    <tr>\n",
              "      <th>3</th>\n",
              "      <td>нефтепровод (1000х12, 1000 м)</td>\n",
              "      <td>труба</td>\n",
              "      <td>Нефть</td>\n",
              "      <td>ЛВЖ</td>\n",
              "      <td>NaN</td>\n",
              "      <td>-20..20</td>\n",
              "      <td>4</td>\n",
              "      <td>142.0</td>\n",
              "      <td>300</td>\n",
              "      <td>1000</td>\n",
              "      <td>1000</td>\n",
              "      <td>12</td>\n",
              "      <td>5</td>\n",
              "      <td>4</td>\n",
              "      <td>Система промысловых трубопроводов</td>\n",
              "      <td>3</td>\n",
              "      <td>3</td>\n",
              "      <td>1.0</td>\n",
              "      <td>NaN</td>\n",
              "      <td>NaN</td>\n",
              "    </tr>\n",
              "  </tbody>\n",
              "</table>\n",
              "</div>\n",
              "      <button class=\"colab-df-convert\" onclick=\"convertToInteractive('df-34085248-a65b-4e82-b8fd-0dcf6558ae65')\"\n",
              "              title=\"Convert this dataframe to an interactive table.\"\n",
              "              style=\"display:none;\">\n",
              "        \n",
              "  <svg xmlns=\"http://www.w3.org/2000/svg\" height=\"24px\"viewBox=\"0 0 24 24\"\n",
              "       width=\"24px\">\n",
              "    <path d=\"M0 0h24v24H0V0z\" fill=\"none\"/>\n",
              "    <path d=\"M18.56 5.44l.94 2.06.94-2.06 2.06-.94-2.06-.94-.94-2.06-.94 2.06-2.06.94zm-11 1L8.5 8.5l.94-2.06 2.06-.94-2.06-.94L8.5 2.5l-.94 2.06-2.06.94zm10 10l.94 2.06.94-2.06 2.06-.94-2.06-.94-.94-2.06-.94 2.06-2.06.94z\"/><path d=\"M17.41 7.96l-1.37-1.37c-.4-.4-.92-.59-1.43-.59-.52 0-1.04.2-1.43.59L10.3 9.45l-7.72 7.72c-.78.78-.78 2.05 0 2.83L4 21.41c.39.39.9.59 1.41.59.51 0 1.02-.2 1.41-.59l7.78-7.78 2.81-2.81c.8-.78.8-2.07 0-2.86zM5.41 20L4 18.59l7.72-7.72 1.47 1.35L5.41 20z\"/>\n",
              "  </svg>\n",
              "      </button>\n",
              "      \n",
              "  <style>\n",
              "    .colab-df-container {\n",
              "      display:flex;\n",
              "      flex-wrap:wrap;\n",
              "      gap: 12px;\n",
              "    }\n",
              "\n",
              "    .colab-df-convert {\n",
              "      background-color: #E8F0FE;\n",
              "      border: none;\n",
              "      border-radius: 50%;\n",
              "      cursor: pointer;\n",
              "      display: none;\n",
              "      fill: #1967D2;\n",
              "      height: 32px;\n",
              "      padding: 0 0 0 0;\n",
              "      width: 32px;\n",
              "    }\n",
              "\n",
              "    .colab-df-convert:hover {\n",
              "      background-color: #E2EBFA;\n",
              "      box-shadow: 0px 1px 2px rgba(60, 64, 67, 0.3), 0px 1px 3px 1px rgba(60, 64, 67, 0.15);\n",
              "      fill: #174EA6;\n",
              "    }\n",
              "\n",
              "    [theme=dark] .colab-df-convert {\n",
              "      background-color: #3B4455;\n",
              "      fill: #D2E3FC;\n",
              "    }\n",
              "\n",
              "    [theme=dark] .colab-df-convert:hover {\n",
              "      background-color: #434B5C;\n",
              "      box-shadow: 0px 1px 3px 1px rgba(0, 0, 0, 0.15);\n",
              "      filter: drop-shadow(0px 1px 2px rgba(0, 0, 0, 0.3));\n",
              "      fill: #FFFFFF;\n",
              "    }\n",
              "  </style>\n",
              "\n",
              "      <script>\n",
              "        const buttonEl =\n",
              "          document.querySelector('#df-34085248-a65b-4e82-b8fd-0dcf6558ae65 button.colab-df-convert');\n",
              "        buttonEl.style.display =\n",
              "          google.colab.kernel.accessAllowed ? 'block' : 'none';\n",
              "\n",
              "        async function convertToInteractive(key) {\n",
              "          const element = document.querySelector('#df-34085248-a65b-4e82-b8fd-0dcf6558ae65');\n",
              "          const dataTable =\n",
              "            await google.colab.kernel.invokeFunction('convertToInteractive',\n",
              "                                                     [key], {});\n",
              "          if (!dataTable) return;\n",
              "\n",
              "          const docLinkHtml = 'Like what you see? Visit the ' +\n",
              "            '<a target=\"_blank\" href=https://colab.research.google.com/notebooks/data_table.ipynb>data table notebook</a>'\n",
              "            + ' to learn more about interactive tables.';\n",
              "          element.innerHTML = '';\n",
              "          dataTable['output_type'] = 'display_data';\n",
              "          await google.colab.output.renderOutput(dataTable, element);\n",
              "          const docLink = document.createElement('div');\n",
              "          docLink.innerHTML = docLinkHtml;\n",
              "          element.appendChild(docLink);\n",
              "        }\n",
              "      </script>\n",
              "    </div>\n",
              "  </div>\n",
              "  "
            ]
          },
          "metadata": {},
          "execution_count": 39
        }
      ]
    },
    {
      "cell_type": "markdown",
      "source": [
        "##Объем и масса по каждому участку трубопровода"
      ],
      "metadata": {
        "id": "qo8_qeP7wPI4"
      }
    },
    {
      "cell_type": "code",
      "source": [
        "df['объем'] = round(volume_pipeline(df['Протяженность, м'], df['диаметр'], df['толщина стенки']), 2)"
      ],
      "metadata": {
        "id": "yAGZna7mI2An"
      },
      "execution_count": null,
      "outputs": []
    },
    {
      "cell_type": "code",
      "source": [
        "df = pd.merge(df, df_agents.loc['Плотность'], left_on='Вещество', right_index=True)"
      ],
      "metadata": {
        "id": "rEb0JzIEXOUk"
      },
      "execution_count": null,
      "outputs": []
    },
    {
      "cell_type": "code",
      "source": [
        "df['Плотность'] = df['Плотность']/1000"
      ],
      "metadata": {
        "id": "tT2-p69WhbqW"
      },
      "execution_count": null,
      "outputs": []
    },
    {
      "cell_type": "code",
      "source": [
        "df['Количество опасного вещества, т'] = df['Количество опасного вещества, т'].fillna(0)"
      ],
      "metadata": {
        "id": "5zGklusQisSS"
      },
      "execution_count": null,
      "outputs": []
    },
    {
      "cell_type": "code",
      "source": [
        "df['масса_в_участке'] = np.where(df['Количество опасного вещества, т'] > 0, df['Количество опасного вещества, т'], df['объем'] * df['Плотность'])"
      ],
      "metadata": {
        "id": "ND848AvbisYI"
      },
      "execution_count": null,
      "outputs": []
    },
    {
      "cell_type": "markdown",
      "source": [
        "##Масса вещества участвующего в аварии и площади пролива"
      ],
      "metadata": {
        "id": "8Q8v5NAeoCeI"
      }
    },
    {
      "cell_type": "markdown",
      "source": [
        "###Площади отверстий"
      ],
      "metadata": {
        "id": "FVxHq9UtQREb"
      }
    },
    {
      "cell_type": "code",
      "source": [
        "df['площадь_гильотины'] = hole_area(df['диаметр'], df['толщина стенки'], type='гильотина')"
      ],
      "metadata": {
        "id": "GUj90-iQAFEp"
      },
      "execution_count": null,
      "outputs": []
    },
    {
      "cell_type": "code",
      "source": [
        "df['площадь_малой'] = hole_area(df['диаметр'], df['толщина стенки'], type='малая')"
      ],
      "metadata": {
        "id": "LyBKXSiQAFHw"
      },
      "execution_count": null,
      "outputs": []
    },
    {
      "cell_type": "code",
      "source": [
        "df['площадь_свища'] = hole_area(df['диаметр'], df['толщина стенки'], type='свищ')"
      ],
      "metadata": {
        "id": "GmnxG3nFrRkB"
      },
      "execution_count": null,
      "outputs": []
    },
    {
      "cell_type": "markdown",
      "source": [
        "###Напорный и безнапорный режим для гильотины, малой трещины и свища"
      ],
      "metadata": {
        "id": "d8_P6w76QUWv"
      }
    },
    {
      "cell_type": "code",
      "source": [
        "df['напор гильотины'] = df.apply(lambda x: flow_pipe(x['давление'], x['площадь_гильотины'], x['Плотность']), axis=1)"
      ],
      "metadata": {
        "id": "QPRqie86hD-0"
      },
      "execution_count": null,
      "outputs": []
    },
    {
      "cell_type": "code",
      "source": [
        "df['напор малой'] = df.apply(lambda x: flow_pipe(x['давление'], x['площадь_малой'], x['Плотность']), axis=1)"
      ],
      "metadata": {
        "id": "V3x4apu0jBtk"
      },
      "execution_count": null,
      "outputs": []
    },
    {
      "cell_type": "code",
      "source": [
        "df['напор свища'] = df.apply(lambda x: flow_pipe(x['давление'], x['площадь_свища'], x['Плотность']), axis=1)"
      ],
      "metadata": {
        "id": "_FykLqc-jBxQ"
      },
      "execution_count": null,
      "outputs": []
    },
    {
      "cell_type": "code",
      "source": [
        "df['безнапор гильотины'] = df.apply(lambda x: flow_pipe(1.2, x['площадь_гильотины'], x['Плотность']), axis=1)"
      ],
      "metadata": {
        "id": "JPkaPFhQjJNP"
      },
      "execution_count": null,
      "outputs": []
    },
    {
      "cell_type": "code",
      "source": [
        "df['безнапор малой'] = df.apply(lambda x: flow_pipe(1.2, x['площадь_малой'], x['Плотность']), axis=1)"
      ],
      "metadata": {
        "id": "Fob_Hl9sjJQZ"
      },
      "execution_count": null,
      "outputs": []
    },
    {
      "cell_type": "code",
      "source": [
        "df['безнапор свища'] = df.apply(lambda x: flow_pipe(1.2, x['площадь_свища'], x['Плотность']), axis=1)"
      ],
      "metadata": {
        "id": "KpEJKc58jdUP"
      },
      "execution_count": null,
      "outputs": []
    },
    {
      "cell_type": "markdown",
      "source": [
        "###Массы V1, V2, V3 для трубопровода "
      ],
      "metadata": {
        "id": "Wx0khQ2tRqo-"
      }
    },
    {
      "cell_type": "code",
      "source": [
        "df['V1_свищ'] = df.loc[:, 'напор свища'] * df.loc[:, 'частота обхода (дней)'] * 86400 / 1000"
      ],
      "metadata": {
        "id": "TNZy-LQgnEMj"
      },
      "execution_count": null,
      "outputs": []
    },
    {
      "cell_type": "code",
      "source": [
        "df['V1_малая'] = df.loc[:, 'напор малой'] * df.loc[:, 'частота обхода (дней)'] * 86400 / 1000"
      ],
      "metadata": {
        "id": "XPm2CDzcm-tB"
      },
      "execution_count": null,
      "outputs": []
    },
    {
      "cell_type": "code",
      "source": [
        "df['V1_гильотина'] = df.loc[:, 'напор гильотины'] * df.loc[:, 'время перекрытия'] / 1000"
      ],
      "metadata": {
        "id": "DduzaTVtmfVR"
      },
      "execution_count": null,
      "outputs": []
    },
    {
      "cell_type": "code",
      "source": [
        "df['V2_свищ'] = df.loc[:, 'безнапор свища'] * df.loc[:, 'время перекрытия'] / 1000"
      ],
      "metadata": {
        "id": "-xv0CexGnULC"
      },
      "execution_count": null,
      "outputs": []
    },
    {
      "cell_type": "code",
      "source": [
        "df['V2_малая'] = df.loc[:, 'безнапор малой'] * df.loc[:, 'время перекрытия'] / 1000"
      ],
      "metadata": {
        "id": "b4SiR4mJnUS4"
      },
      "execution_count": null,
      "outputs": []
    },
    {
      "cell_type": "code",
      "source": [
        "df['V2_гильотина'] = df.loc[:, 'безнапор гильотины'] * df.loc[:, 'время перекрытия'] / 1000"
      ],
      "metadata": {
        "id": "iF02m_FknUYs"
      },
      "execution_count": null,
      "outputs": []
    },
    {
      "cell_type": "code",
      "source": [
        "df['V3_свищ'] = df.loc[:, 'безнапор свища'] * (df.loc[:, 'Протяженность, м'] / bd_limit['speed_inspector']) / 1000"
      ],
      "metadata": {
        "id": "cbvsK0vRnuJe"
      },
      "execution_count": null,
      "outputs": []
    },
    {
      "cell_type": "code",
      "source": [
        "df['V3_малая'] = df.loc[:, 'безнапор малой'] * (df.loc[:, 'Протяженность, м'] / bd_limit['speed_inspector']) / 1000"
      ],
      "metadata": {
        "id": "G56uTOj0nuMd"
      },
      "execution_count": null,
      "outputs": []
    },
    {
      "cell_type": "code",
      "source": [
        "df['V3_гильотина'] = df.loc[:, 'безнапор гильотины'] * (df.loc[:, 'Протяженность, м'] / bd_limit['speed_inspector']) / 1000"
      ],
      "metadata": {
        "id": "TZD6Tr3KnuoW"
      },
      "execution_count": null,
      "outputs": []
    },
    {
      "cell_type": "code",
      "source": [
        "df['V3_свищ_АСФ'] = df.loc[:, 'безнапор свища'] * 3600 / 1000"
      ],
      "metadata": {
        "id": "OuQCnQBKpQst"
      },
      "execution_count": null,
      "outputs": []
    },
    {
      "cell_type": "code",
      "source": [
        "df['V3_малая_АСФ'] = df.loc[:, 'безнапор малой'] * 3600 / 1000"
      ],
      "metadata": {
        "id": "AWVGGVSKpQvx"
      },
      "execution_count": null,
      "outputs": []
    },
    {
      "cell_type": "code",
      "source": [
        "df['V3_гильотина_АСФ'] = df.loc[:, 'безнапор гильотины'] * 3600 / 1000"
      ],
      "metadata": {
        "id": "ki7QU_erpQ1Q"
      },
      "execution_count": null,
      "outputs": []
    },
    {
      "cell_type": "code",
      "source": [
        "df['масса в аварии свищ'] = df.loc[:, 'V1_свищ'] + np.where(df.loc[:, 'масса_в_участке'] < df.loc[:, 'V2_свищ'] + df.loc[:, 'V3_свищ'], \n",
        "                                                            df.loc[:, 'масса_в_участке'], \n",
        "                                                            df.loc[:, 'V2_свищ'] + df.loc[:, 'V3_свищ'])"
      ],
      "metadata": {
        "id": "MaRC9rCIuGSq"
      },
      "execution_count": null,
      "outputs": []
    },
    {
      "cell_type": "code",
      "source": [
        "df['масса в аварии малая'] = df.loc[:, 'V1_малая'] + np.where(df.loc[:, 'масса_в_участке'] < df.loc[:, 'V2_малая'] + df.loc[:, 'V3_малая'], \n",
        "                                                            df.loc[:, 'масса_в_участке'], \n",
        "                                                            df.loc[:, 'V2_малая'] + df.loc[:, 'V3_малая'])"
      ],
      "metadata": {
        "id": "faRiDivyxi6e"
      },
      "execution_count": null,
      "outputs": []
    },
    {
      "cell_type": "code",
      "source": [
        "df['масса в аварии гильотина'] = df.loc[:, 'V1_гильотина'] + np.where(df.loc[:, 'масса_в_участке'] < df.loc[:, 'V2_гильотина'] + df.loc[:, 'V3_гильотина'], \n",
        "                                                            df.loc[:, 'масса_в_участке'], \n",
        "                                                            df.loc[:, 'V2_гильотина'] + df.loc[:, 'V3_гильотина'])"
      ],
      "metadata": {
        "id": "w2F1moAMx0o2"
      },
      "execution_count": null,
      "outputs": []
    },
    {
      "cell_type": "markdown",
      "source": [
        "###Тестово! Расчет массы по ПП РФ\n",
        "Постановление Правительства РФ от 31 декабря 2020 г. N 2451"
      ],
      "metadata": {
        "id": "tAPtiXYp3gzB"
      }
    },
    {
      "cell_type": "markdown",
      "source": [
        "В случае аварии, связанной с **разгерметизацией (порывом)** напорного нефтепровода, количество опасного вещества, участвующего в аварии, принималось равным сумме 25 процентов максимального объема прокачки в течение 6 часов и объема нефти между запорными задвижками на порванном участке трубопровода.\n",
        "\n",
        "Для оценки последствий таких типичных аварий для напорного нефтепровода, как **прокол**, представляющих опасность в первую очередь с точки зрения нанесения экологического ущерба, объем разлива нефти определялся в соответствии с Постановлением Правительства РФ от 31.12.2020 г. № 2451 «Об утверждении Правил организации мероприятий по предупреждению и ликвидации разливов нефти и нефтепродуктов на территории Российской Федерации, за исключением внутренних морских вод Российской Федерации и территориального моря Российской Федерации, а также о признании утратившими силу некоторых актов Правительства Российской Федерации». При этом объем разлива составляет 2 % максимального объема прокачки за время между последовательным осмотром (мониторингом), установленное графиками обхода.\n"
      ],
      "metadata": {
        "id": "dTWqrn-X3nf7"
      }
    },
    {
      "cell_type": "markdown",
      "source": [
        "Гильотина"
      ],
      "metadata": {
        "id": "tLHQcCxnBupM"
      }
    },
    {
      "cell_type": "code",
      "source": [
        "df['гильотина_ПП'] = df.apply(lambda x: massa_pp_gap(x['Интенсивность прокачки, м3/сут'], x['Плотность'], x['масса_в_участке']), axis=1)"
      ],
      "metadata": {
        "id": "nCBO4oQo4xQN"
      },
      "execution_count": null,
      "outputs": []
    },
    {
      "cell_type": "markdown",
      "source": [
        "Свищ"
      ],
      "metadata": {
        "id": "nWufjWEjBwFR"
      }
    },
    {
      "cell_type": "code",
      "source": [
        "df['свищ_ПП'] = df.apply(lambda x: massa_pp_puncture(x['Интенсивность прокачки, м3/сут'], x['Плотность'], x['частота обхода (дней)']), axis=1)"
      ],
      "metadata": {
        "id": "-RhMntxW4xw_"
      },
      "execution_count": null,
      "outputs": []
    },
    {
      "cell_type": "markdown",
      "source": [
        "###Площади пролива"
      ],
      "metadata": {
        "id": "EasbGo8A7AVn"
      }
    },
    {
      "cell_type": "code",
      "source": [
        "df['площадь полная'] = Strait_area(df['масса в аварии гильотина'], df['Плотность'], df['Коэффициент подстил поверхности'])"
      ],
      "metadata": {
        "id": "UQ3tLWxT9zD9"
      },
      "execution_count": null,
      "outputs": []
    },
    {
      "cell_type": "code",
      "source": [
        "df['площадь частичная'] = Strait_area(df['масса в аварии свищ'], df['Плотность'], df['Коэффициент подстил поверхности'])"
      ],
      "metadata": {
        "id": "PdsZnGYOFzh4"
      },
      "execution_count": null,
      "outputs": []
    },
    {
      "cell_type": "code",
      "source": [
        "df['облако'] = Evaporation_404() * 3600 * df['площадь полная']"
      ],
      "metadata": {
        "id": "zb0N1f9896Gb"
      },
      "execution_count": null,
      "outputs": []
    },
    {
      "cell_type": "code",
      "source": [
        "df['твс'] = df['облако'] * 0.1"
      ],
      "metadata": {
        "id": "nMARsWNHB62u"
      },
      "execution_count": null,
      "outputs": []
    },
    {
      "cell_type": "code",
      "source": [
        "df[['площадь полная', 'площадь частичная', 'облако', 'твс']].head()"
      ],
      "metadata": {
        "colab": {
          "base_uri": "https://localhost:8080/",
          "height": 237
        },
        "id": "eDKXprJC8OG3",
        "outputId": "949a713a-08a5-4978-f98b-63ddc7d33597"
      },
      "execution_count": null,
      "outputs": [
        {
          "output_type": "execute_result",
          "data": {
            "text/plain": [
              "  площадь полная площадь частичная        облако          твс\n",
              "№                                                            \n",
              "1   48657.877237       7316.262535  20357.106659  2035.710666\n",
              "2   29954.127237       7289.523312  12531.976273  1253.197627\n",
              "3   14991.077237       7268.131933   6271.851046   627.185105\n",
              "4   13120.727237       7265.458011   5489.348467   548.934847\n",
              "5   11624.427237       7263.318873   4863.338036   486.333804"
            ],
            "text/html": [
              "\n",
              "  <div id=\"df-bbcf708e-c38e-4ee2-971f-777d8185ad23\">\n",
              "    <div class=\"colab-df-container\">\n",
              "      <div>\n",
              "<style scoped>\n",
              "    .dataframe tbody tr th:only-of-type {\n",
              "        vertical-align: middle;\n",
              "    }\n",
              "\n",
              "    .dataframe tbody tr th {\n",
              "        vertical-align: top;\n",
              "    }\n",
              "\n",
              "    .dataframe thead th {\n",
              "        text-align: right;\n",
              "    }\n",
              "</style>\n",
              "<table border=\"1\" class=\"dataframe\">\n",
              "  <thead>\n",
              "    <tr style=\"text-align: right;\">\n",
              "      <th></th>\n",
              "      <th>площадь полная</th>\n",
              "      <th>площадь частичная</th>\n",
              "      <th>облако</th>\n",
              "      <th>твс</th>\n",
              "    </tr>\n",
              "    <tr>\n",
              "      <th>№</th>\n",
              "      <th></th>\n",
              "      <th></th>\n",
              "      <th></th>\n",
              "      <th></th>\n",
              "    </tr>\n",
              "  </thead>\n",
              "  <tbody>\n",
              "    <tr>\n",
              "      <th>1</th>\n",
              "      <td>48657.877237</td>\n",
              "      <td>7316.262535</td>\n",
              "      <td>20357.106659</td>\n",
              "      <td>2035.710666</td>\n",
              "    </tr>\n",
              "    <tr>\n",
              "      <th>2</th>\n",
              "      <td>29954.127237</td>\n",
              "      <td>7289.523312</td>\n",
              "      <td>12531.976273</td>\n",
              "      <td>1253.197627</td>\n",
              "    </tr>\n",
              "    <tr>\n",
              "      <th>3</th>\n",
              "      <td>14991.077237</td>\n",
              "      <td>7268.131933</td>\n",
              "      <td>6271.851046</td>\n",
              "      <td>627.185105</td>\n",
              "    </tr>\n",
              "    <tr>\n",
              "      <th>4</th>\n",
              "      <td>13120.727237</td>\n",
              "      <td>7265.458011</td>\n",
              "      <td>5489.348467</td>\n",
              "      <td>548.934847</td>\n",
              "    </tr>\n",
              "    <tr>\n",
              "      <th>5</th>\n",
              "      <td>11624.427237</td>\n",
              "      <td>7263.318873</td>\n",
              "      <td>4863.338036</td>\n",
              "      <td>486.333804</td>\n",
              "    </tr>\n",
              "  </tbody>\n",
              "</table>\n",
              "</div>\n",
              "      <button class=\"colab-df-convert\" onclick=\"convertToInteractive('df-bbcf708e-c38e-4ee2-971f-777d8185ad23')\"\n",
              "              title=\"Convert this dataframe to an interactive table.\"\n",
              "              style=\"display:none;\">\n",
              "        \n",
              "  <svg xmlns=\"http://www.w3.org/2000/svg\" height=\"24px\"viewBox=\"0 0 24 24\"\n",
              "       width=\"24px\">\n",
              "    <path d=\"M0 0h24v24H0V0z\" fill=\"none\"/>\n",
              "    <path d=\"M18.56 5.44l.94 2.06.94-2.06 2.06-.94-2.06-.94-.94-2.06-.94 2.06-2.06.94zm-11 1L8.5 8.5l.94-2.06 2.06-.94-2.06-.94L8.5 2.5l-.94 2.06-2.06.94zm10 10l.94 2.06.94-2.06 2.06-.94-2.06-.94-.94-2.06-.94 2.06-2.06.94z\"/><path d=\"M17.41 7.96l-1.37-1.37c-.4-.4-.92-.59-1.43-.59-.52 0-1.04.2-1.43.59L10.3 9.45l-7.72 7.72c-.78.78-.78 2.05 0 2.83L4 21.41c.39.39.9.59 1.41.59.51 0 1.02-.2 1.41-.59l7.78-7.78 2.81-2.81c.8-.78.8-2.07 0-2.86zM5.41 20L4 18.59l7.72-7.72 1.47 1.35L5.41 20z\"/>\n",
              "  </svg>\n",
              "      </button>\n",
              "      \n",
              "  <style>\n",
              "    .colab-df-container {\n",
              "      display:flex;\n",
              "      flex-wrap:wrap;\n",
              "      gap: 12px;\n",
              "    }\n",
              "\n",
              "    .colab-df-convert {\n",
              "      background-color: #E8F0FE;\n",
              "      border: none;\n",
              "      border-radius: 50%;\n",
              "      cursor: pointer;\n",
              "      display: none;\n",
              "      fill: #1967D2;\n",
              "      height: 32px;\n",
              "      padding: 0 0 0 0;\n",
              "      width: 32px;\n",
              "    }\n",
              "\n",
              "    .colab-df-convert:hover {\n",
              "      background-color: #E2EBFA;\n",
              "      box-shadow: 0px 1px 2px rgba(60, 64, 67, 0.3), 0px 1px 3px 1px rgba(60, 64, 67, 0.15);\n",
              "      fill: #174EA6;\n",
              "    }\n",
              "\n",
              "    [theme=dark] .colab-df-convert {\n",
              "      background-color: #3B4455;\n",
              "      fill: #D2E3FC;\n",
              "    }\n",
              "\n",
              "    [theme=dark] .colab-df-convert:hover {\n",
              "      background-color: #434B5C;\n",
              "      box-shadow: 0px 1px 3px 1px rgba(0, 0, 0, 0.15);\n",
              "      filter: drop-shadow(0px 1px 2px rgba(0, 0, 0, 0.3));\n",
              "      fill: #FFFFFF;\n",
              "    }\n",
              "  </style>\n",
              "\n",
              "      <script>\n",
              "        const buttonEl =\n",
              "          document.querySelector('#df-bbcf708e-c38e-4ee2-971f-777d8185ad23 button.colab-df-convert');\n",
              "        buttonEl.style.display =\n",
              "          google.colab.kernel.accessAllowed ? 'block' : 'none';\n",
              "\n",
              "        async function convertToInteractive(key) {\n",
              "          const element = document.querySelector('#df-bbcf708e-c38e-4ee2-971f-777d8185ad23');\n",
              "          const dataTable =\n",
              "            await google.colab.kernel.invokeFunction('convertToInteractive',\n",
              "                                                     [key], {});\n",
              "          if (!dataTable) return;\n",
              "\n",
              "          const docLinkHtml = 'Like what you see? Visit the ' +\n",
              "            '<a target=\"_blank\" href=https://colab.research.google.com/notebooks/data_table.ipynb>data table notebook</a>'\n",
              "            + ' to learn more about interactive tables.';\n",
              "          element.innerHTML = '';\n",
              "          dataTable['output_type'] = 'display_data';\n",
              "          await google.colab.output.renderOutput(dataTable, element);\n",
              "          const docLink = document.createElement('div');\n",
              "          docLink.innerHTML = docLinkHtml;\n",
              "          element.appendChild(docLink);\n",
              "        }\n",
              "      </script>\n",
              "    </div>\n",
              "  </div>\n",
              "  "
            ]
          },
          "metadata": {},
          "execution_count": 77
        }
      ]
    },
    {
      "cell_type": "markdown",
      "source": [
        "##С-2 Сценарий пожар-пролива"
      ],
      "metadata": {
        "id": "lOrkX1dNobeM"
      }
    },
    {
      "cell_type": "code",
      "source": [
        " df[['пожар_пролива_10,5', 'пожар_пролива_7,0','пожар_пролива_4,2', 'пожар_пролива_1,4']] = df['площадь полная'].apply(lambda x: pd.Series(StraitFire_404(x)))"
      ],
      "metadata": {
        "id": "GIE0dJ6w9-ns"
      },
      "execution_count": null,
      "outputs": []
    },
    {
      "cell_type": "code",
      "source": [
        "df[['пожар_пролива_10,5', 'пожар_пролива_7,0','пожар_пролива_4,2', 'пожар_пролива_1,4']].head(3)"
      ],
      "metadata": {
        "colab": {
          "base_uri": "https://localhost:8080/",
          "height": 175
        },
        "id": "PlcWp-dXGLPr",
        "outputId": "7ec73b79-55ae-4eaa-9c65-94d296e308d0"
      },
      "execution_count": null,
      "outputs": [
        {
          "output_type": "execute_result",
          "data": {
            "text/plain": [
              "   пожар_пролива_10,5  пожар_пролива_7,0  пожар_пролива_4,2  пожар_пролива_1,4\n",
              "№                                                                             \n",
              "1               319.9              386.2              457.1              605.1\n",
              "2               259.4              315.2              375.1              501.4\n",
              "3               191.9              235.2              281.9              381.6"
            ],
            "text/html": [
              "\n",
              "  <div id=\"df-6b1dc013-65c6-4a88-9548-83c5862492a5\">\n",
              "    <div class=\"colab-df-container\">\n",
              "      <div>\n",
              "<style scoped>\n",
              "    .dataframe tbody tr th:only-of-type {\n",
              "        vertical-align: middle;\n",
              "    }\n",
              "\n",
              "    .dataframe tbody tr th {\n",
              "        vertical-align: top;\n",
              "    }\n",
              "\n",
              "    .dataframe thead th {\n",
              "        text-align: right;\n",
              "    }\n",
              "</style>\n",
              "<table border=\"1\" class=\"dataframe\">\n",
              "  <thead>\n",
              "    <tr style=\"text-align: right;\">\n",
              "      <th></th>\n",
              "      <th>пожар_пролива_10,5</th>\n",
              "      <th>пожар_пролива_7,0</th>\n",
              "      <th>пожар_пролива_4,2</th>\n",
              "      <th>пожар_пролива_1,4</th>\n",
              "    </tr>\n",
              "    <tr>\n",
              "      <th>№</th>\n",
              "      <th></th>\n",
              "      <th></th>\n",
              "      <th></th>\n",
              "      <th></th>\n",
              "    </tr>\n",
              "  </thead>\n",
              "  <tbody>\n",
              "    <tr>\n",
              "      <th>1</th>\n",
              "      <td>319.9</td>\n",
              "      <td>386.2</td>\n",
              "      <td>457.1</td>\n",
              "      <td>605.1</td>\n",
              "    </tr>\n",
              "    <tr>\n",
              "      <th>2</th>\n",
              "      <td>259.4</td>\n",
              "      <td>315.2</td>\n",
              "      <td>375.1</td>\n",
              "      <td>501.4</td>\n",
              "    </tr>\n",
              "    <tr>\n",
              "      <th>3</th>\n",
              "      <td>191.9</td>\n",
              "      <td>235.2</td>\n",
              "      <td>281.9</td>\n",
              "      <td>381.6</td>\n",
              "    </tr>\n",
              "  </tbody>\n",
              "</table>\n",
              "</div>\n",
              "      <button class=\"colab-df-convert\" onclick=\"convertToInteractive('df-6b1dc013-65c6-4a88-9548-83c5862492a5')\"\n",
              "              title=\"Convert this dataframe to an interactive table.\"\n",
              "              style=\"display:none;\">\n",
              "        \n",
              "  <svg xmlns=\"http://www.w3.org/2000/svg\" height=\"24px\"viewBox=\"0 0 24 24\"\n",
              "       width=\"24px\">\n",
              "    <path d=\"M0 0h24v24H0V0z\" fill=\"none\"/>\n",
              "    <path d=\"M18.56 5.44l.94 2.06.94-2.06 2.06-.94-2.06-.94-.94-2.06-.94 2.06-2.06.94zm-11 1L8.5 8.5l.94-2.06 2.06-.94-2.06-.94L8.5 2.5l-.94 2.06-2.06.94zm10 10l.94 2.06.94-2.06 2.06-.94-2.06-.94-.94-2.06-.94 2.06-2.06.94z\"/><path d=\"M17.41 7.96l-1.37-1.37c-.4-.4-.92-.59-1.43-.59-.52 0-1.04.2-1.43.59L10.3 9.45l-7.72 7.72c-.78.78-.78 2.05 0 2.83L4 21.41c.39.39.9.59 1.41.59.51 0 1.02-.2 1.41-.59l7.78-7.78 2.81-2.81c.8-.78.8-2.07 0-2.86zM5.41 20L4 18.59l7.72-7.72 1.47 1.35L5.41 20z\"/>\n",
              "  </svg>\n",
              "      </button>\n",
              "      \n",
              "  <style>\n",
              "    .colab-df-container {\n",
              "      display:flex;\n",
              "      flex-wrap:wrap;\n",
              "      gap: 12px;\n",
              "    }\n",
              "\n",
              "    .colab-df-convert {\n",
              "      background-color: #E8F0FE;\n",
              "      border: none;\n",
              "      border-radius: 50%;\n",
              "      cursor: pointer;\n",
              "      display: none;\n",
              "      fill: #1967D2;\n",
              "      height: 32px;\n",
              "      padding: 0 0 0 0;\n",
              "      width: 32px;\n",
              "    }\n",
              "\n",
              "    .colab-df-convert:hover {\n",
              "      background-color: #E2EBFA;\n",
              "      box-shadow: 0px 1px 2px rgba(60, 64, 67, 0.3), 0px 1px 3px 1px rgba(60, 64, 67, 0.15);\n",
              "      fill: #174EA6;\n",
              "    }\n",
              "\n",
              "    [theme=dark] .colab-df-convert {\n",
              "      background-color: #3B4455;\n",
              "      fill: #D2E3FC;\n",
              "    }\n",
              "\n",
              "    [theme=dark] .colab-df-convert:hover {\n",
              "      background-color: #434B5C;\n",
              "      box-shadow: 0px 1px 3px 1px rgba(0, 0, 0, 0.15);\n",
              "      filter: drop-shadow(0px 1px 2px rgba(0, 0, 0, 0.3));\n",
              "      fill: #FFFFFF;\n",
              "    }\n",
              "  </style>\n",
              "\n",
              "      <script>\n",
              "        const buttonEl =\n",
              "          document.querySelector('#df-6b1dc013-65c6-4a88-9548-83c5862492a5 button.colab-df-convert');\n",
              "        buttonEl.style.display =\n",
              "          google.colab.kernel.accessAllowed ? 'block' : 'none';\n",
              "\n",
              "        async function convertToInteractive(key) {\n",
              "          const element = document.querySelector('#df-6b1dc013-65c6-4a88-9548-83c5862492a5');\n",
              "          const dataTable =\n",
              "            await google.colab.kernel.invokeFunction('convertToInteractive',\n",
              "                                                     [key], {});\n",
              "          if (!dataTable) return;\n",
              "\n",
              "          const docLinkHtml = 'Like what you see? Visit the ' +\n",
              "            '<a target=\"_blank\" href=https://colab.research.google.com/notebooks/data_table.ipynb>data table notebook</a>'\n",
              "            + ' to learn more about interactive tables.';\n",
              "          element.innerHTML = '';\n",
              "          dataTable['output_type'] = 'display_data';\n",
              "          await google.colab.output.renderOutput(dataTable, element);\n",
              "          const docLink = document.createElement('div');\n",
              "          docLink.innerHTML = docLinkHtml;\n",
              "          element.appendChild(docLink);\n",
              "        }\n",
              "      </script>\n",
              "    </div>\n",
              "  </div>\n",
              "  "
            ]
          },
          "metadata": {},
          "execution_count": 79
        }
      ]
    },
    {
      "cell_type": "markdown",
      "source": [
        "##С-3 Сценарий пожар вспышка"
      ],
      "metadata": {
        "id": "6G7dFTV0onJu"
      }
    },
    {
      "cell_type": "code",
      "source": [
        "df['вспышка'] = fire_flash_404(df['облако'])"
      ],
      "metadata": {
        "id": "Ief8RDytHkcn"
      },
      "execution_count": null,
      "outputs": []
    },
    {
      "cell_type": "markdown",
      "source": [
        "##С-4 Сценарий Взрыв ТВС"
      ],
      "metadata": {
        "id": "aDK0Aj0lpYxC"
      }
    },
    {
      "cell_type": "code",
      "source": [
        " df[['твс_100', 'твс_53','твс_28', 'твс_12', 'твс_5', 'твс_3']] = df['твс'].apply(lambda x: pd.Series(TVS_404(x)))"
      ],
      "metadata": {
        "id": "6V1_bMCGLMGI"
      },
      "execution_count": null,
      "outputs": []
    },
    {
      "cell_type": "code",
      "source": [
        " df[['твс_100', 'твс_53','твс_28', 'твс_12', 'твс_5', 'твс_3']].head(3)"
      ],
      "metadata": {
        "colab": {
          "base_uri": "https://localhost:8080/",
          "height": 175
        },
        "id": "yJdXvFeqLdRU",
        "outputId": "38a717e0-8c3f-422e-a162-d6998107c890"
      },
      "execution_count": null,
      "outputs": [
        {
          "output_type": "execute_result",
          "data": {
            "text/plain": [
              "  твс_100 твс_53 твс_28 твс_12  твс_5  твс_3\n",
              "№                                           \n",
              "1       -      -      -  101.5  274.6  274.7\n",
              "2       -      -      -   70.0  196.2  196.3\n",
              "3       -      -      -   39.5  120.8  120.9"
            ],
            "text/html": [
              "\n",
              "  <div id=\"df-e555337c-4031-4dbc-8bb2-2a8b02bfcfd4\">\n",
              "    <div class=\"colab-df-container\">\n",
              "      <div>\n",
              "<style scoped>\n",
              "    .dataframe tbody tr th:only-of-type {\n",
              "        vertical-align: middle;\n",
              "    }\n",
              "\n",
              "    .dataframe tbody tr th {\n",
              "        vertical-align: top;\n",
              "    }\n",
              "\n",
              "    .dataframe thead th {\n",
              "        text-align: right;\n",
              "    }\n",
              "</style>\n",
              "<table border=\"1\" class=\"dataframe\">\n",
              "  <thead>\n",
              "    <tr style=\"text-align: right;\">\n",
              "      <th></th>\n",
              "      <th>твс_100</th>\n",
              "      <th>твс_53</th>\n",
              "      <th>твс_28</th>\n",
              "      <th>твс_12</th>\n",
              "      <th>твс_5</th>\n",
              "      <th>твс_3</th>\n",
              "    </tr>\n",
              "    <tr>\n",
              "      <th>№</th>\n",
              "      <th></th>\n",
              "      <th></th>\n",
              "      <th></th>\n",
              "      <th></th>\n",
              "      <th></th>\n",
              "      <th></th>\n",
              "    </tr>\n",
              "  </thead>\n",
              "  <tbody>\n",
              "    <tr>\n",
              "      <th>1</th>\n",
              "      <td>-</td>\n",
              "      <td>-</td>\n",
              "      <td>-</td>\n",
              "      <td>101.5</td>\n",
              "      <td>274.6</td>\n",
              "      <td>274.7</td>\n",
              "    </tr>\n",
              "    <tr>\n",
              "      <th>2</th>\n",
              "      <td>-</td>\n",
              "      <td>-</td>\n",
              "      <td>-</td>\n",
              "      <td>70.0</td>\n",
              "      <td>196.2</td>\n",
              "      <td>196.3</td>\n",
              "    </tr>\n",
              "    <tr>\n",
              "      <th>3</th>\n",
              "      <td>-</td>\n",
              "      <td>-</td>\n",
              "      <td>-</td>\n",
              "      <td>39.5</td>\n",
              "      <td>120.8</td>\n",
              "      <td>120.9</td>\n",
              "    </tr>\n",
              "  </tbody>\n",
              "</table>\n",
              "</div>\n",
              "      <button class=\"colab-df-convert\" onclick=\"convertToInteractive('df-e555337c-4031-4dbc-8bb2-2a8b02bfcfd4')\"\n",
              "              title=\"Convert this dataframe to an interactive table.\"\n",
              "              style=\"display:none;\">\n",
              "        \n",
              "  <svg xmlns=\"http://www.w3.org/2000/svg\" height=\"24px\"viewBox=\"0 0 24 24\"\n",
              "       width=\"24px\">\n",
              "    <path d=\"M0 0h24v24H0V0z\" fill=\"none\"/>\n",
              "    <path d=\"M18.56 5.44l.94 2.06.94-2.06 2.06-.94-2.06-.94-.94-2.06-.94 2.06-2.06.94zm-11 1L8.5 8.5l.94-2.06 2.06-.94-2.06-.94L8.5 2.5l-.94 2.06-2.06.94zm10 10l.94 2.06.94-2.06 2.06-.94-2.06-.94-.94-2.06-.94 2.06-2.06.94z\"/><path d=\"M17.41 7.96l-1.37-1.37c-.4-.4-.92-.59-1.43-.59-.52 0-1.04.2-1.43.59L10.3 9.45l-7.72 7.72c-.78.78-.78 2.05 0 2.83L4 21.41c.39.39.9.59 1.41.59.51 0 1.02-.2 1.41-.59l7.78-7.78 2.81-2.81c.8-.78.8-2.07 0-2.86zM5.41 20L4 18.59l7.72-7.72 1.47 1.35L5.41 20z\"/>\n",
              "  </svg>\n",
              "      </button>\n",
              "      \n",
              "  <style>\n",
              "    .colab-df-container {\n",
              "      display:flex;\n",
              "      flex-wrap:wrap;\n",
              "      gap: 12px;\n",
              "    }\n",
              "\n",
              "    .colab-df-convert {\n",
              "      background-color: #E8F0FE;\n",
              "      border: none;\n",
              "      border-radius: 50%;\n",
              "      cursor: pointer;\n",
              "      display: none;\n",
              "      fill: #1967D2;\n",
              "      height: 32px;\n",
              "      padding: 0 0 0 0;\n",
              "      width: 32px;\n",
              "    }\n",
              "\n",
              "    .colab-df-convert:hover {\n",
              "      background-color: #E2EBFA;\n",
              "      box-shadow: 0px 1px 2px rgba(60, 64, 67, 0.3), 0px 1px 3px 1px rgba(60, 64, 67, 0.15);\n",
              "      fill: #174EA6;\n",
              "    }\n",
              "\n",
              "    [theme=dark] .colab-df-convert {\n",
              "      background-color: #3B4455;\n",
              "      fill: #D2E3FC;\n",
              "    }\n",
              "\n",
              "    [theme=dark] .colab-df-convert:hover {\n",
              "      background-color: #434B5C;\n",
              "      box-shadow: 0px 1px 3px 1px rgba(0, 0, 0, 0.15);\n",
              "      filter: drop-shadow(0px 1px 2px rgba(0, 0, 0, 0.3));\n",
              "      fill: #FFFFFF;\n",
              "    }\n",
              "  </style>\n",
              "\n",
              "      <script>\n",
              "        const buttonEl =\n",
              "          document.querySelector('#df-e555337c-4031-4dbc-8bb2-2a8b02bfcfd4 button.colab-df-convert');\n",
              "        buttonEl.style.display =\n",
              "          google.colab.kernel.accessAllowed ? 'block' : 'none';\n",
              "\n",
              "        async function convertToInteractive(key) {\n",
              "          const element = document.querySelector('#df-e555337c-4031-4dbc-8bb2-2a8b02bfcfd4');\n",
              "          const dataTable =\n",
              "            await google.colab.kernel.invokeFunction('convertToInteractive',\n",
              "                                                     [key], {});\n",
              "          if (!dataTable) return;\n",
              "\n",
              "          const docLinkHtml = 'Like what you see? Visit the ' +\n",
              "            '<a target=\"_blank\" href=https://colab.research.google.com/notebooks/data_table.ipynb>data table notebook</a>'\n",
              "            + ' to learn more about interactive tables.';\n",
              "          element.innerHTML = '';\n",
              "          dataTable['output_type'] = 'display_data';\n",
              "          await google.colab.output.renderOutput(dataTable, element);\n",
              "          const docLink = document.createElement('div');\n",
              "          docLink.innerHTML = docLinkHtml;\n",
              "          element.appendChild(docLink);\n",
              "        }\n",
              "      </script>\n",
              "    </div>\n",
              "  </div>\n",
              "  "
            ]
          },
          "metadata": {},
          "execution_count": 82
        }
      ]
    },
    {
      "cell_type": "markdown",
      "source": [
        "##Определение вероятности реализации событий"
      ],
      "metadata": {
        "id": "xEbzOgSc0EMZ"
      }
    },
    {
      "cell_type": "markdown",
      "source": [
        "Расчитываем вероятность возникновения иницирующих событий с учетом длины трубопроводов"
      ],
      "metadata": {
        "id": "VETXkwBNVXUx"
      }
    },
    {
      "cell_type": "code",
      "source": [
        "df[['полная разгерметизация', 'частичная (прокол)']] = df['диаметр'].apply(lambda x: pd.Series(frequencies_pipline(x))) * df['Протяженность, м'].values.reshape(-1, 1)"
      ],
      "metadata": {
        "id": "UXf-TICEb8y5"
      },
      "execution_count": null,
      "outputs": []
    },
    {
      "cell_type": "markdown",
      "source": [
        "Расчитываем вероятность возникновения различных сценариев"
      ],
      "metadata": {
        "id": "YhfruHeRWNN1"
      }
    },
    {
      "cell_type": "code",
      "source": [
        "scen_lvz.loc[\"Пожар\", 'П']"
      ],
      "metadata": {
        "colab": {
          "base_uri": "https://localhost:8080/"
        },
        "id": "gjqe4QvOdQbQ",
        "outputId": "ee4548fc-2d00-43cd-f75e-b2c76fbe2a86"
      },
      "execution_count": null,
      "outputs": [
        {
          "output_type": "execute_result",
          "data": {
            "text/plain": [
              "0.2"
            ]
          },
          "metadata": {},
          "execution_count": 84
        }
      ]
    },
    {
      "cell_type": "code",
      "source": [
        "df['С-1А(п)'] = df['полная разгерметизация'] * scen_lvz.loc['Пролив', 'П']\n",
        "df['С-1А(ч)'] = df['частичная (прокол)'] * scen_lvz.loc['Пролив', 'С']\n",
        "df['С-2'] = df['полная разгерметизация'] * scen_lvz.loc['Пожар', 'П']\n",
        "df['С-3'] = df['полная разгерметизация'] * scen_lvz.loc['Пожар-вспышка', 'П']\n",
        "df['С-4'] = df['полная разгерметизация'] * scen_lvz.loc['Взрыв', 'П']"
      ],
      "metadata": {
        "id": "LqDKUGHmc5_n"
      },
      "execution_count": null,
      "outputs": []
    },
    {
      "cell_type": "markdown",
      "source": [
        "##Ущерб"
      ],
      "metadata": {
        "id": "FnoZFvM8XtIm"
      }
    },
    {
      "cell_type": "code",
      "source": [
        "df.columns"
      ],
      "metadata": {
        "id": "U35wdrr_YHCl",
        "colab": {
          "base_uri": "https://localhost:8080/"
        },
        "outputId": "59c55921-b17a-403f-f89b-2f8a0ca519ae"
      },
      "execution_count": null,
      "outputs": [
        {
          "output_type": "execute_result",
          "data": {
            "text/plain": [
              "Index(['наименование оборудования', 'Тип оборудования', 'Вещество',\n",
              "       'Тип содержимого', 'Количество опасного вещества, т', 'Температура',\n",
              "       'давление', 'Интенсивность прокачки, м3/сут', 'время перекрытия',\n",
              "       'Протяженность, м', 'диаметр', 'толщина стенки',\n",
              "       'Коэффициент подстил поверхности',\n",
              "       'Класс загроможденности пространства', 'Блок', '№ в блоке',\n",
              "       'частота обхода (дней)', 'пересечения - водотоки', 'пересечения - ЖД',\n",
              "       'пересечения - АД, категория дорог', 'объем', 'Плотность',\n",
              "       'масса_в_участке', 'площадь_гильотины', 'площадь_малой',\n",
              "       'площадь_свища', 'напор гильотины', 'напор малой', 'напор свища',\n",
              "       'безнапор гильотины', 'безнапор малой', 'безнапор свища', 'V1_свищ',\n",
              "       'V1_малая', 'V1_гильотина', 'V2_свищ', 'V2_малая', 'V2_гильотина',\n",
              "       'V3_свищ', 'V3_малая', 'V3_гильотина', 'V3_свищ_АСФ', 'V3_малая_АСФ',\n",
              "       'V3_гильотина_АСФ', 'масса в аварии свищ', 'масса в аварии малая',\n",
              "       'масса в аварии гильотина', 'гильотина_ПП', 'свищ_ПП', 'площадь полная',\n",
              "       'площадь частичная', 'облако', 'твс', 'пожар_пролива_10,5',\n",
              "       'пожар_пролива_7,0', 'пожар_пролива_4,2', 'пожар_пролива_1,4',\n",
              "       'вспышка', 'твс_100', 'твс_53', 'твс_28', 'твс_12', 'твс_5', 'твс_3',\n",
              "       'полная разгерметизация', 'частичная (прокол)', 'С-1А(п)', 'С-1А(ч)',\n",
              "       'С-2', 'С-3', 'С-4'],\n",
              "      dtype='object')"
            ]
          },
          "metadata": {},
          "execution_count": 91
        }
      ]
    },
    {
      "cell_type": "code",
      "source": [],
      "metadata": {
        "id": "P31P8LRnYHL7"
      },
      "execution_count": null,
      "outputs": []
    },
    {
      "cell_type": "code",
      "source": [],
      "metadata": {
        "id": "nS_F2wxyYHVX"
      },
      "execution_count": null,
      "outputs": []
    },
    {
      "cell_type": "markdown",
      "source": [
        "#Заполнение данных в Excel"
      ],
      "metadata": {
        "id": "jj3RqhM1ng5F"
      }
    },
    {
      "cell_type": "markdown",
      "source": [
        "##Количество вещества в оборудовании"
      ],
      "metadata": {
        "id": "fceOYD_k6uW1"
      }
    },
    {
      "cell_type": "code",
      "source": [
        "wb_rasp = wb['Rasp']"
      ],
      "metadata": {
        "id": "u4GPxrf7piFh"
      },
      "execution_count": null,
      "outputs": []
    },
    {
      "cell_type": "code",
      "source": [
        "for i, r in df.iterrows():\n",
        "  wb_rasp.cell(row = i + 3, column = 1, value = df['Блок'][i])\n",
        "  wb_rasp.cell(row = i + 3, column = 2, value = f'''{df['наименование оборудования'][i]}, {df['Вещество'][i]}''')\n",
        "  wb_rasp.cell(row = i + 3, column = 3, value = f'''{df['Протяженность, м'][i]}, м''')\n",
        "  wb_rasp.cell(row = i + 3, column = 4, value = f'''{str(round(df['масса_в_участке'][i], 2)).replace('.', ',')}''')\n",
        "  wb_rasp.cell(row = i + 3, column = 4).number_format = '0,00'\n",
        "  wb_rasp.cell(row = i + 3, column = 6, value = f'''Жидкость''')\n",
        "  wb_rasp.cell(row = i + 3, column = 7, value = f'''{df['давление'][i]}''')\n",
        "  wb_rasp.cell(row = i + 3, column = 8, value = f'''{df['Температура'][i]}''') \n",
        "wb_rasp.cell(row = 4, column = 5, value = str(df.groupby(\"Блок\")[\"масса_в_участке\"].sum()[0]).replace('.', ','))\n",
        "wb_rasp.merge_cells(start_row=4, start_column=5, end_row=len(df)+3, end_column=5)\n",
        "#итог\n",
        "wb_rasp.cell(row = len(df)+4, column = 1, value = 'Итого опасного вещества - Нефть,т')\n",
        "wb_rasp.cell(row = len(df)+4, column = 5, value = str(df.groupby(\"Блок\")[\"масса_в_участке\"].sum()[0]).replace('.', ','))\n",
        "wb_rasp.merge_cells(start_row=len(df)+4, start_column=1, end_row=len(df)+4, end_column=4)\n",
        "wb_rasp.merge_cells(start_row=len(df)+4, start_column=5, end_row=len(df)+4, end_column=8)\n",
        "wb_rasp.cell(row = len(df)+5, column = 1, value = 'из них - в сосудах (аппаратах), т')\n",
        "wb_rasp.cell(row = len(df)+5, column = 5, value = '0')\n",
        "wb_rasp.merge_cells(start_row=len(df)+5, start_column=1, end_row=len(df)+5, end_column=4)\n",
        "wb_rasp.merge_cells(start_row=len(df)+5, start_column=5, end_row=len(df)+5, end_column=8)\n",
        "wb_rasp.cell(row = len(df)+6, column = 1, value = 'в трубопроводах, т')\n",
        "wb_rasp.cell(row = len(df)+6, column = 5, value = str(df.groupby(\"Блок\")[\"масса_в_участке\"].sum()[0]).replace('.', ','))\n",
        "wb_rasp.merge_cells(start_row=len(df)+6, start_column=1, end_row=len(df)+6, end_column=4)\n",
        "wb_rasp.merge_cells(start_row=len(df)+6, start_column=5, end_row=len(df)+6, end_column=8)"
      ],
      "metadata": {
        "id": "TfR2y9GarsYY"
      },
      "execution_count": null,
      "outputs": []
    },
    {
      "cell_type": "markdown",
      "source": [
        "##Массы по сценариям"
      ],
      "metadata": {
        "id": "54QbWoSL-0Kt"
      }
    },
    {
      "cell_type": "code",
      "source": [
        "wb_mass = wb['Masses']"
      ],
      "metadata": {
        "id": "HnR5pkTC_cxM"
      },
      "execution_count": null,
      "outputs": []
    },
    {
      "cell_type": "code",
      "source": [
        "j = 4\n",
        "for i, r in df.iterrows():\n",
        "  wb_mass.cell(row = j, column = 1, value = 'С-1А')\n",
        "  wb_mass.cell(row = j + 1, column = 1, value = 'С-2')\n",
        "  wb_mass.cell(row = j + 2, column = 1, value = 'С-3')\n",
        "  wb_mass.cell(row = j + 3, column = 1, value = 'С-4А')\n",
        "  #column 2\n",
        "  wb_mass.cell(row = j, column = 2, value = f'''{df['наименование оборудования'][i]}''')\n",
        "  wb_mass.merge_cells(start_row=j, start_column=2, end_row=j+3, end_column=2)\n",
        "  #column 3\n",
        "  wb_mass.cell(row = j, column = 3, value = 'Пролив нефти на открытой площадке')\n",
        "  wb_mass.cell(row = j + 1, column = 3, value = 'Пожар пролива на открытой площадке')\n",
        "  wb_mass.cell(row = j + 2, column = 3, value = 'Пожар-вспышка на открытой площадке')\n",
        "  wb_mass.cell(row = j + 3, column = 3, value = 'Взрыв ГПВС на открытой площадке') \n",
        "  #column 4\n",
        "  wb_mass.cell(row = j, column = 4, value = 'Экологическое загрязнение')\n",
        "  wb_mass.cell(row = j + 1, column = 4, value = 'Открытое пламя, тепловое излучение')\n",
        "  wb_mass.cell(row = j + 2, column = 4, value = 'Высокотемпературные продукты сгорания')\n",
        "  wb_mass.cell(row = j + 3, column = 4, value = 'Ударная волна, осколки')\n",
        "  #column 5\n",
        "  wb_mass.cell(row = j, column = 5, value = f'''{round(df['масса в аварии гильотина'][i], 2)} / {round(df['масса в аварии свищ'][i],2)}''')\n",
        "  wb_mass.merge_cells(start_row=j, start_column=5, end_row=j+3, end_column=5)\n",
        "  #column 6\n",
        "  wb_mass.cell(row = j, column = 6, value = f'''{round(df['масса в аварии гильотина'][i], 2)} / {round(df['масса в аварии свищ'][i],2)}''')\n",
        "  wb_mass.cell(row = j + 1, column = 6, value = round(df['масса в аварии гильотина'][i], 2))\n",
        "  wb_mass.cell(row = j + 2, column = 6, value = round(df['облако'][i], 2))\n",
        "  wb_mass.cell(row = j + 3, column = 6, value = round(df['твс'][i], 2))  \n",
        "  j = j + 4\n",
        " "
      ],
      "metadata": {
        "id": "OyrFPW0__JXJ"
      },
      "execution_count": null,
      "outputs": []
    },
    {
      "cell_type": "markdown",
      "source": [
        "##Напор"
      ],
      "metadata": {
        "id": "GqqaKW6HH2gp"
      }
    },
    {
      "cell_type": "code",
      "source": [
        "wb_napor = wb['Napor']"
      ],
      "metadata": {
        "id": "9BsiuPawH2Gi"
      },
      "execution_count": null,
      "outputs": []
    },
    {
      "cell_type": "code",
      "source": [
        "for i, r in df.iterrows():\n",
        "  wb_napor.cell(row = i + 1, column = 1, value = df.loc[i, 'наименование оборудования'])\n",
        "  wb_napor.cell(row = i + 1, column = 2, value = df.loc[i, 'V1_свищ'])\n",
        "  wb_napor.cell(row = i + 1, column = 3, value = df.loc[i, 'V2_свищ'])\n",
        "  wb_napor.cell(row = i + 1, column = 4, value = df.loc[i, 'V3_свищ'])\n",
        "  wb_napor.cell(row = i + 1, column = 5, value = df.loc[i, 'V1_малая'])\n",
        "  wb_napor.cell(row = i + 1, column = 6, value = df.loc[i, 'V2_малая'])\n",
        "  wb_napor.cell(row = i + 1, column = 7, value = df.loc[i, 'V3_малая'])\n",
        "  wb_napor.cell(row = i + 1, column = 8, value = df.loc[i, 'V1_гильотина'])\n",
        "  wb_napor.cell(row = i + 1, column = 9, value = df.loc[i, 'V2_гильотина'])\n",
        "  wb_napor.cell(row = i + 1, column = 10, value = df.loc[i, 'V3_гильотина'])\n",
        "  wb_napor.cell(row = i + 1, column = 11, value = df.loc[i, 'V3_свищ_АСФ'])\n",
        "  wb_napor.cell(row = i + 1, column = 12, value = df.loc[i, 'V3_малая_АСФ'])\n",
        "  wb_napor.cell(row = i + 1, column = 13, value = df.loc[i, 'V3_гильотина_АСФ'])\n",
        "  wb_napor.cell(row = i + 1, column = 14, value = df.loc[i, 'свищ_ПП'])\n",
        "  wb_napor.cell(row = i + 1, column = 15, value = df.loc[i, 'гильотина_ПП'])"
      ],
      "metadata": {
        "id": "Fkgt5wQOIhJm"
      },
      "execution_count": null,
      "outputs": []
    },
    {
      "cell_type": "markdown",
      "source": [
        "##Сценарий С-1"
      ],
      "metadata": {
        "id": "nLcNjf7PJCZd"
      }
    },
    {
      "cell_type": "code",
      "source": [
        "wb_c1 = wb['C1']"
      ],
      "metadata": {
        "id": "OlFF9NjEKXVa"
      },
      "execution_count": null,
      "outputs": []
    },
    {
      "cell_type": "code",
      "source": [
        "df.columns"
      ],
      "metadata": {
        "colab": {
          "base_uri": "https://localhost:8080/"
        },
        "id": "lx7UoeE7Rxv2",
        "outputId": "b80ad62e-a3b5-428a-8459-8548d17c9cc3"
      },
      "execution_count": null,
      "outputs": [
        {
          "output_type": "execute_result",
          "data": {
            "text/plain": [
              "Index(['наименование оборудования', 'Тип оборудования', 'Вещество',\n",
              "       'Тип содержимого', 'Количество опасного вещества, т', 'Температура',\n",
              "       'давление', 'Интенсивность прокачки, м3/сут', 'время перекрытия',\n",
              "       'Протяженность, м', 'диаметр', 'толщина стенки',\n",
              "       'Коэффициент подстил поверхности',\n",
              "       'Класс загроможденности пространства', 'Блок', '№ в блоке',\n",
              "       'частота обхода (дней)', 'пересечения - водотоки', 'пересечения - ЖД',\n",
              "       'пересечения - АД, категория дорог', 'объем', 'Плотность',\n",
              "       'масса_в_участке', 'площадь_гильотины', 'площадь_малой',\n",
              "       'площадь_свища', 'напор гильотины', 'напор малой', 'напор свища',\n",
              "       'безнапор гильотины', 'безнапор малой', 'безнапор свища', 'V1_свищ',\n",
              "       'V1_малая', 'V1_гильотина', 'V2_свищ', 'V2_малая', 'V2_гильотина',\n",
              "       'V3_свищ', 'V3_малая', 'V3_гильотина', 'V3_свищ_АСФ', 'V3_малая_АСФ',\n",
              "       'V3_гильотина_АСФ', 'масса в аварии свищ', 'масса в аварии малая',\n",
              "       'масса в аварии гильотина', 'свищ_ПП', 'гильотина_ПП', 'площадь полная',\n",
              "       'площадь частичная', 'облако', 'твс', 'пожар_пролива_10,5',\n",
              "       'пожар_пролива_7,0', 'пожар_пролива_4,2', 'пожар_пролива_1,4',\n",
              "       'вспышка', 'твс_100', 'твс_53', 'твс_28', 'твс_12', 'твс_5', 'твс_3',\n",
              "       'полная разгерметизация', 'частичная (прокол)', 'С-1А(п)', 'С-1А(ч)',\n",
              "       'С-2', 'С-3', 'С-4'],\n",
              "      dtype='object')"
            ]
          },
          "metadata": {},
          "execution_count": 216
        }
      ]
    },
    {
      "cell_type": "code",
      "source": [
        "j = 4\n",
        "for i, r in df.iterrows():\n",
        "  #column 1\n",
        "  wb_c1.cell(row = j, column = 1, value = 'С-1А(п)')\n",
        "  wb_c1.merge_cells(start_row=j, start_column=1, end_row=j+1, end_column=1)\n",
        "  wb_c1.cell(row = j + 2, column = 1, value = 'С-1А(ч)')\n",
        "  wb_c1.merge_cells(start_row=j+2, start_column=1, end_row=j+3, end_column=1)\n",
        "  #column 2\n",
        "  wb_c1.cell(row = j, column = 2, value = f'''{df['наименование оборудования'][i]}''')\n",
        "  wb_c1.merge_cells(start_row=j, start_column=2, end_row=j+3, end_column=2) \n",
        "  #column 3\n",
        "  wb_c1.cell(row = j, column = 3, value = 'Площадь пролива, м2')\n",
        "  wb_c1.cell(row = j + 1, column = 3, value = 'Радиус пролива, м')\n",
        "  wb_c1.cell(row = j + 2, column = 3, value = 'Площадь пролива, м2')\n",
        "  wb_c1.cell(row = j + 3, column = 3, value = 'Радиус пролива, м')\n",
        "  #column 4\n",
        "  wb_c1.cell(row = j, column = 4, value = round(df['площадь полная'][i], 2))\n",
        "  wb_c1.cell(row = j + 1, column = 4, value = round(df['площадь полная'][i] / pi, 2))\n",
        "  wb_c1.cell(row = j + 2, column = 4, value = round(df['площадь частичная'][i], 2))\n",
        "  wb_c1.cell(row = j + 3, column = 4, value = round(df['площадь частичная'][i] / pi, 2))   \n",
        "  j += 4\n"
      ],
      "metadata": {
        "id": "Ao5ZPEKRJSxQ"
      },
      "execution_count": null,
      "outputs": []
    },
    {
      "cell_type": "markdown",
      "source": [
        "##Сценарий С-2"
      ],
      "metadata": {
        "id": "gh8hcf6ytAfn"
      }
    },
    {
      "cell_type": "code",
      "source": [
        "wb_c2 = wb['C2']"
      ],
      "metadata": {
        "id": "Fcd-M2vOs_5e"
      },
      "execution_count": null,
      "outputs": []
    },
    {
      "cell_type": "code",
      "source": [
        "j = 4\n",
        "for i, r in df.iterrows():\n",
        "  #column 1\n",
        "  wb_c2.cell(row = j, column = 1, value = df['наименование оборудования'][i])\n",
        "  wb_c2.merge_cells(start_row=j, start_column=1, end_row=j+4, end_column=1)\n",
        "  #column 2\n",
        "  wb_c2.cell(row = j, column = 2, value = 'Площадь пожара, м2')\n",
        "  wb_c2.cell(row = j+1, column = 2, value = 'Радиусы зон поражения тепловым излучением, м:')\n",
        "  wb_c2.cell(row = j+2, column = 2, value = '– непереносимая боль через 3-5 с (10,5 кВт/м2)')\n",
        "  wb_c2.cell(row = j+3, column = 2, value = '– непереносимая боль через 20-30 с (7,0 кВт/м2)')\n",
        "  wb_c2.cell(row = j+4, column = 2, value = '– зона отсутствия негативных последствий (1,4 кВт/м2)')  \n",
        "  #column 3\n",
        "  wb_c2.cell(row = j, column = 3, value = round(df['площадь полная'][i], 2))\n",
        "  wb_c2.cell(row = j + 2, column = 3, value = df['пожар_пролива_10,5'][i])\n",
        "  wb_c2.cell(row = j + 3, column = 3, value = df['пожар_пролива_7,0'][i])\n",
        "  wb_c2.cell(row = j + 4, column = 3, value = df['пожар_пролива_1,4'][i])   \n",
        "  j += 5"
      ],
      "metadata": {
        "id": "i6JARrNutvMT"
      },
      "execution_count": null,
      "outputs": []
    },
    {
      "cell_type": "markdown",
      "source": [
        "##Сценарий С-3"
      ],
      "metadata": {
        "id": "gHx9WlvUvm_W"
      }
    },
    {
      "cell_type": "code",
      "source": [
        "wb_c3 = wb['C3']"
      ],
      "metadata": {
        "id": "iAaucL-EvlwT"
      },
      "execution_count": null,
      "outputs": []
    },
    {
      "cell_type": "code",
      "source": [
        "j = 4\n",
        "for i, r in df.iterrows():\n",
        "  #column 1\n",
        "  wb_c3.cell(row = j, column = 1, value = df['наименование оборудования'][i])\n",
        "  #column 2\n",
        "  wb_c3.cell(row = j, column = 2, value = 'Радиус зоны воздействия высокотемпературных продуктов сгорания, м') \n",
        "  #column 3\n",
        "  wb_c3.cell(row = j, column = 3, value = round(df['вспышка'][i], 2))  \n",
        "  j += 1"
      ],
      "metadata": {
        "id": "nnqSPUaZvwYe"
      },
      "execution_count": null,
      "outputs": []
    },
    {
      "cell_type": "markdown",
      "source": [
        "## Сценарий С-4"
      ],
      "metadata": {
        "id": "CniXXF7aw78z"
      }
    },
    {
      "cell_type": "code",
      "source": [
        "wb_c4 = wb['C4']"
      ],
      "metadata": {
        "id": "GeK2zTDKw7Cd"
      },
      "execution_count": null,
      "outputs": []
    },
    {
      "cell_type": "code",
      "source": [
        "j = 4\n",
        "for i, r in df.iterrows():\n",
        "  #column 1\n",
        "  wb_c4.cell(row = j, column = 1, value = df['наименование оборудования'][i])\n",
        "  #column 2\n",
        "  wb_c4.cell(row = j, column = 2, value = df['твс_100'][i]) \n",
        "  #column 3\n",
        "  wb_c4.cell(row = j, column = 3, value = df['твс_53'][i]) \n",
        "  #column 4\n",
        "  wb_c4.cell(row = j, column = 4, value = df['твс_28'][i]) \n",
        "  #column 5\n",
        "  wb_c4.cell(row = j, column = 5, value = df['твс_12'][i])\n",
        "  #column 6\n",
        "  wb_c4.cell(row = j, column = 6, value = df['твс_5'][i])\n",
        "  #column 7\n",
        "  wb_c4.cell(row = j, column = 7, value = df['твс_3'][i])\n",
        "  j += 1"
      ],
      "metadata": {
        "id": "V34b6EdGxTbe"
      },
      "execution_count": null,
      "outputs": []
    },
    {
      "cell_type": "markdown",
      "source": [
        "##Вероятность реализации"
      ],
      "metadata": {
        "id": "4YOct3x4158V"
      }
    },
    {
      "cell_type": "code",
      "source": [
        "chast_tr = wb['Chast_tr']"
      ],
      "metadata": {
        "id": "nSQwAp8YxTi3"
      },
      "execution_count": null,
      "outputs": []
    },
    {
      "cell_type": "code",
      "source": [
        "j = 3\n",
        "for i, r in df.iterrows():\n",
        "  #column 1\n",
        "  chast_tr.cell(row = j, column = 1, value = 'С-1А(ч)')\n",
        "  chast_tr.cell(row = j+1, column = 1, value = 'С-1А(п)')\n",
        "  chast_tr.cell(row = j+2, column = 1, value = 'С-2')\n",
        "  chast_tr.cell(row = j+3, column = 1, value = 'С-3')\n",
        "  chast_tr.cell(row = j+4, column = 1, value = 'С-4')\n",
        "  #column 2\n",
        "  chast_tr.cell(row = j, column = 2, value = df['наименование оборудования'][i])\n",
        "  chast_tr .merge_cells(start_row=j, start_column=2, end_row=j+4, end_column=2)\n",
        "  #column 3  \n",
        "  chast_tr.cell(row = j, column = 3, value = df['С-1А(ч)'][i])\n",
        "  chast_tr.cell(row = j+1, column = 3, value = df['С-1А(п)'][i])\n",
        "  chast_tr.cell(row = j+2, column = 3, value = df['С-2'][i])\n",
        "  chast_tr.cell(row = j+3, column = 3, value = df['С-3'][i])\n",
        "  chast_tr.cell(row = j+4, column = 3, value = df['С-4'][i])\n",
        "  j += 5\n"
      ],
      "metadata": {
        "id": "e9jnrBFOxTpz"
      },
      "execution_count": null,
      "outputs": []
    },
    {
      "cell_type": "markdown",
      "source": [
        "##Сохранение"
      ],
      "metadata": {
        "id": "P2rKI17CAuYE"
      }
    },
    {
      "cell_type": "code",
      "source": [
        "wb.save('/content/drive/MyDrive/Work, Study, Life/Analyst/Pipeline_method/result.xlsx')"
      ],
      "metadata": {
        "id": "NE0zQDo5r-Qt"
      },
      "execution_count": null,
      "outputs": []
    },
    {
      "cell_type": "markdown",
      "source": [
        "https://docs.google.com/spreadsheets/d/1w_QSPteFTJeMEs52QoI4aqBZuaj-34MG/edit?usp=share_link&ouid=106885717380627810664&rtpof=true&sd=true"
      ],
      "metadata": {
        "id": "55FnWHxRLTUS"
      }
    },
    {
      "cell_type": "code",
      "source": [],
      "metadata": {
        "id": "Y2FyihL6Riqn"
      },
      "execution_count": null,
      "outputs": []
    }
  ]
}